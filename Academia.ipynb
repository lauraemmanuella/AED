{
  "nbformat": 4,
  "nbformat_minor": 0,
  "metadata": {
    "colab": {
      "name": "Academia.ipynb",
      "provenance": [],
      "collapsed_sections": [],
      "authorship_tag": "ABX9TyMcKwFp77Mppg94cI+T/6VN",
      "include_colab_link": true
    },
    "kernelspec": {
      "name": "python3",
      "display_name": "Python 3"
    }
  },
  "cells": [
    {
      "cell_type": "markdown",
      "metadata": {
        "id": "view-in-github",
        "colab_type": "text"
      },
      "source": [
        "<a href=\"https://colab.research.google.com/github/lauraemmanuella/AED/blob/main/Academia.ipynb\" target=\"_parent\"><img src=\"https://colab.research.google.com/assets/colab-badge.svg\" alt=\"Open In Colab\"/></a>"
      ]
    },
    {
      "cell_type": "code",
      "metadata": {
        "id": "st0nxEzgCH_w"
      },
      "source": [
        "class Atleta:\n",
        "\n",
        "  def __init__(self, n, a, p):\n",
        "    self.nome = n\n",
        "    self.altura = a\n",
        "    self.peso = p  \n",
        "    self.analisar()\n",
        "  \n",
        "  def analisar(self):\n",
        "    self.imc = self.peso / (self.altura * self.altura)\n",
        "\n",
        "    if self.imc > 25:\n",
        "      self.situacao = 'Sobrepeso'\n",
        "    elif self.imc >= 18.5: \n",
        "      self.situacao = 'Peso ideal'\n",
        "    else:\n",
        "      self.situacao = 'Abaixo do peso'\n",
        "\n",
        "  def __repr__(self):\n",
        "    return f'\\nNome: {self.nome}\\nAltura: {self.altura}\\nPeso: {self.peso}\\nIMC: {self.imc:.2f}\\nSituação: {self.situacao}'\n",
        "\n",
        "class Academia:\n",
        "\n",
        "  def __init__(self):\n",
        "    self.atletas = [] #Começa a lista vazia\n",
        "\n",
        "  def menu(self):\n",
        "    opcao = 0\n",
        "    while opcao != 3:\n",
        "      print('\\n1-Cadastrar Atleta\\n2-Verificar Situação de Atleta\\n3-Sair\\n') \n",
        "      opcao = int(input('Informe a opção desejada: '))\n",
        "\n",
        "      if opcao == 1:\n",
        "        nome = input('Informe o nome do Atleta: ')\n",
        "        altura = float(input('Informe a altura do Atleta: '))\n",
        "        peso = float(input('Informe o peso do Atleta: ')) \n",
        "        atleta = Atleta(nome, altura, peso)\n",
        "        self.atletas.append(atleta)\n",
        "      \n",
        "      elif opcao == 2:\n",
        "        nome = input('Informe o nome do Atleta: ')\n",
        "        for i in self.atletas:\n",
        "          if i.nome.upper() == nome.upper():\n",
        "            print(i) \n",
        "            break\n",
        "        else:\n",
        "          print('Atleta não encontrado')\n",
        "\n",
        "      elif opcao == 3:\n",
        "        break\n",
        "      \n",
        "      else:\n",
        "        print('Opcao Invalida')"
      ],
      "execution_count": 1,
      "outputs": []
    },
    {
      "cell_type": "code",
      "metadata": {
        "colab": {
          "base_uri": "https://localhost:8080/"
        },
        "id": "5y1YYOx8awSO",
        "outputId": "81b6fe48-4e7f-4202-f1d1-2d9bc641e238"
      },
      "source": [
        "1#EXECUTA A ACADEMIA\n",
        "fitness = Academia()\n",
        "fitness.menu()"
      ],
      "execution_count": 3,
      "outputs": [
        {
          "name": "stdout",
          "output_type": "stream",
          "text": [
            "\n",
            "1-Cadastrar Atleta\n",
            "2-Verificar Situação de Atleta\n",
            "3-Sair\n",
            "\n",
            "Informe a opção desejada: 1\n",
            "Informe o nome do Atleta: Maria\n",
            "Informe a altura do Atleta: 1.60\n",
            "Informe o peso do Atleta: 55\n",
            "\n",
            "1-Cadastrar Atleta\n",
            "2-Verificar Situação de Atleta\n",
            "3-Sair\n",
            "\n",
            "Informe a opção desejada: 2\n",
            "Informe o nome do Atleta: Maria\n",
            "\n",
            "Nome: Maria\n",
            "Altura: 1.6\n",
            "Peso: 55.0\n",
            "IMC: 21.48\n",
            "Situação: Peso ideal\n",
            "\n",
            "1-Cadastrar Atleta\n",
            "2-Verificar Situação de Atleta\n",
            "3-Sair\n",
            "\n",
            "Informe a opção desejada: 3\n"
          ]
        }
      ]
    }
  ]
}