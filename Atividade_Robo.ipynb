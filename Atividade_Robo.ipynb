{
  "nbformat": 4,
  "nbformat_minor": 0,
  "metadata": {
    "colab": {
      "name": "Atividade Robo.ipynb",
      "provenance": [],
      "collapsed_sections": [],
      "toc_visible": true,
      "authorship_tag": "ABX9TyP9LWpmM228Z8jFZGXiOUrY",
      "include_colab_link": true
    },
    "kernelspec": {
      "display_name": "Python 3",
      "name": "python3"
    }
  },
  "cells": [
    {
      "cell_type": "markdown",
      "metadata": {
        "id": "view-in-github",
        "colab_type": "text"
      },
      "source": [
        "<a href=\"https://colab.research.google.com/github/lauraemmanuella/AED/blob/main/Atividade_Robo.ipynb\" target=\"_parent\"><img src=\"https://colab.research.google.com/assets/colab-badge.svg\" alt=\"Open In Colab\"/></a>"
      ]
    },
    {
      "cell_type": "markdown",
      "metadata": {
        "id": "_1CcOlxDNQ2K"
      },
      "source": [
        "# Atividade Robo andando em Ambiente\n",
        "\n",
        "> Implementação de um Robô andando em um ambiente.\n",
        "\n",
        "1. Implemente uma classe **Ambiente** que possua como atributos a **quantidade de linhas e quantidade de colunas** do ambiente (tamanho do ambiente)\n",
        "2. Implemente também uma classe **Robô** que possua como atributos: **nome, ambiente, posiçãoX e posiçãoY**, sendo que a posiçãoX e a posiçãoY indicam a posição do robô no ambiente e devem ser inicializadas com 0. O robô terá as funções: **andar para frente, andar para trás, andar para direita, andar para esquerda**, onde em cada uma dessas funções o robô se locomove em 1 unidade nas linhas ou nas colunas. Faça também um método no robô para **mostrar sua posição**.\n",
        "\n",
        "* andarFrente >> faz com que o robô ande 1 linha\n",
        "* andarTras >> faz com que o robô volte 1 linha\n",
        "* andarDireita >> faz com que o robô ande 1 coluna\n",
        "* andarEsquerda >> faz com que o robô volte 1 coluna\n",
        "\n",
        "3. Faça um scrip que inicialize o ambiente e o robo e tenha um controle com as opções mostradas abaixo:\n",
        "\n",
        "CONTROLE DO ROBO\n",
        "\n",
        "1. Ver Posiçao do Robô\n",
        "2. Andar para frente\n",
        "3. Andar para trás\n",
        "4. Andar para direita\n",
        "5. Andar para esquerda\n",
        "6. Sair\n"
      ]
    },
    {
      "cell_type": "markdown",
      "metadata": {
        "id": "4WvNejZ7O1Wo"
      },
      "source": [
        "### Classe Ambiente"
      ]
    },
    {
      "cell_type": "code",
      "metadata": {
        "id": "P72WBFjSO4bO"
      },
      "source": [
        "class Ambiente:\n"
      ],
      "execution_count": null,
      "outputs": []
    },
    {
      "cell_type": "markdown",
      "metadata": {
        "id": "SpubRmAmPr9e"
      },
      "source": [
        "### Classe Robo"
      ]
    },
    {
      "cell_type": "code",
      "metadata": {
        "id": "IEoC36krM1cX"
      },
      "source": [
        "class Robo:\n",
        "\n",
        "  "
      ],
      "execution_count": null,
      "outputs": []
    },
    {
      "cell_type": "markdown",
      "metadata": {
        "id": "nB5XYtmvPuQo"
      },
      "source": [
        "### Executar"
      ]
    },
    {
      "cell_type": "code",
      "metadata": {
        "colab": {
          "base_uri": "https://localhost:8080/"
        },
        "id": "Bo83i2oZPzVj",
        "outputId": "5d313d77-2db5-49b1-d4f6-1382fc4d6dc7"
      },
      "source": [
        "sala = Ambiente(10, 9)"
      ],
      "execution_count": null,
      "outputs": [
        {
          "output_type": "stream",
          "text": [
            "Ambiente criado com 10 linhas e 9 colunas\n"
          ],
          "name": "stdout"
        }
      ]
    },
    {
      "cell_type": "code",
      "metadata": {
        "colab": {
          "base_uri": "https://localhost:8080/"
        },
        "id": "0xsgSIvFQfbh",
        "outputId": "5f102936-8a2c-49ed-e86f-f7c90c00a23a"
      },
      "source": [
        "mig = Robo('Mig', sala)"
      ],
      "execution_count": null,
      "outputs": [
        {
          "output_type": "stream",
          "text": [
            "\n",
            "Olá! Meu nome é Mig\n"
          ],
          "name": "stdout"
        }
      ]
    },
    {
      "cell_type": "code",
      "metadata": {
        "colab": {
          "base_uri": "https://localhost:8080/"
        },
        "id": "7KqpQm0JSVfe",
        "outputId": "17f7d12e-704d-4310-ef5b-008bd1ef9a70"
      },
      "source": [
        "print('CONTROLE DO ROBO')\n"
      ],
      "execution_count": null,
      "outputs": [
        {
          "output_type": "stream",
          "text": [
            "CONTROLE DO ROBO\n",
            "\n",
            "1-Ver Posiçao do Robô\n",
            "2-Andar para frente\n",
            "3-Andar para trás\n",
            "4-Andar para direita\n",
            "5-Andar para esquerda\n",
            "6-Sair\n",
            "\n",
            ">>1\n",
            "\n",
            "Estou na posição (0 , 0) do ambiente\n",
            "\n",
            "1-Ver Posiçao do Robô\n",
            "2-Andar para frente\n",
            "3-Andar para trás\n",
            "4-Andar para direita\n",
            "5-Andar para esquerda\n",
            "6-Sair\n",
            "\n",
            ">>3\n",
            "\n",
            "Parede atrás!!\n",
            "\n",
            "1-Ver Posiçao do Robô\n",
            "2-Andar para frente\n",
            "3-Andar para trás\n",
            "4-Andar para direita\n",
            "5-Andar para esquerda\n",
            "6-Sair\n",
            "\n",
            ">>2\n",
            "\n",
            "Andando para frente...\n",
            "\n",
            "1-Ver Posiçao do Robô\n",
            "2-Andar para frente\n",
            "3-Andar para trás\n",
            "4-Andar para direita\n",
            "5-Andar para esquerda\n",
            "6-Sair\n",
            "\n",
            ">>1\n",
            "\n",
            "Estou na posição (1 , 0) do ambiente\n",
            "\n",
            "1-Ver Posiçao do Robô\n",
            "2-Andar para frente\n",
            "3-Andar para trás\n",
            "4-Andar para direita\n",
            "5-Andar para esquerda\n",
            "6-Sair\n",
            "\n",
            ">>6\n",
            "\n",
            "Desligando controle\n",
            "\n"
          ],
          "name": "stdout"
        }
      ]
    }
  ]
}