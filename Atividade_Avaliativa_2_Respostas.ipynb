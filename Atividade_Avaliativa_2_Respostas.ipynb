{
  "nbformat": 4,
  "nbformat_minor": 0,
  "metadata": {
    "colab": {
      "name": "Atividade Avaliativa 2 - Respostas.ipynb",
      "provenance": [],
      "collapsed_sections": [],
      "toc_visible": true,
      "authorship_tag": "ABX9TyOGiJA8qvlZeh7HRu9ZJPg1",
      "include_colab_link": true
    },
    "kernelspec": {
      "name": "python3",
      "display_name": "Python 3"
    },
    "language_info": {
      "name": "python"
    }
  },
  "cells": [
    {
      "cell_type": "markdown",
      "metadata": {
        "id": "view-in-github",
        "colab_type": "text"
      },
      "source": [
        "<a href=\"https://colab.research.google.com/github/lauraemmanuella/AED/blob/main/Atividade_Avaliativa_2_Respostas.ipynb\" target=\"_parent\"><img src=\"https://colab.research.google.com/assets/colab-badge.svg\" alt=\"Open In Colab\"/></a>"
      ]
    },
    {
      "cell_type": "markdown",
      "source": [
        "# Atividade Avaliativa 2\n",
        "\n",
        "Ajuste o código da lista dinâmica encadeada e faça uma pilha e uma fila, conforme as instruções a seguir.\n",
        "\n",
        "Observe que alguns métodos da ListaDE poderão ser removidos.\n",
        "\n",
        "Se tiverem dúvidas de como as estruturas devem funcionar, olhem as animações do site: https://visualgo.net/en/list"
      ],
      "metadata": {
        "id": "oL0uH8wq76dn"
      }
    },
    {
      "cell_type": "markdown",
      "source": [
        "## Lista Dinâmica Encadeada"
      ],
      "metadata": {
        "id": "GqI-u0Ra8wJy"
      }
    },
    {
      "cell_type": "code",
      "execution_count": 18,
      "metadata": {
        "id": "95lbFKOr73qi"
      },
      "outputs": [],
      "source": [
        "class Node:\n",
        "  \n",
        "  def __init__(self, value):\n",
        "    self.data = value\n",
        "    self.next = None\n",
        "\n",
        "  def getData(self):\n",
        "    return self.data\n",
        "\n",
        "  def getNext(self):\n",
        "    return self.next\n",
        "\n",
        "  def setData(self,newdata):\n",
        "    self.data = newdata\n",
        "\n",
        "  def setNext(self,newnext):\n",
        "    self.next = newnext\n",
        "\n",
        "  def __repr__(self):\n",
        "    return f'{self.data} -> {self.next}'\n",
        "\n",
        "class ListaDE:\n",
        "\n",
        "  def __init__(self):\n",
        "    self.head = None\n",
        "    self.tail = None\n",
        "\n",
        "  def isEmpty(self):\n",
        "    return self.head == None\n",
        "  \n",
        "  def size(self):\n",
        "    current = self.head\n",
        "    count = 0\n",
        "    while current != None:\n",
        "      count = count + 1\n",
        "      current = current.getNext()\n",
        "    return count\n",
        "\n",
        "  def search(self,item):\n",
        "    current = self.head\n",
        "    found = False\n",
        "    while current != None and not found:\n",
        "      if current.getData() == item:\n",
        "        found = True\n",
        "      else:\n",
        "        current = current.getNext()\n",
        "    return found\n",
        "\n",
        "  #insere no final da lista\n",
        "  def append(self,item):\n",
        "    new = Node(item) #criamos o nó do novo elemento\n",
        "    if self.head == None: #se lista vazia\n",
        "      self.head = self.tail = new #se for o primeiro elemento, cabeça e cauda apontam para ele\n",
        "    else: #se lista não estiver vazia\n",
        "      self.tail.setNext(new) #o que era o ultimo, passa a apontar para o novo elemento\n",
        "      self.tail = new #A cauda passa a apontar para o novo elemento\n",
        "  \n",
        "  #insere item em uma posição definida (index)\n",
        "  def insert(self, index, item):\n",
        "    #se o index for maior que os índices usados até então, insere na próxima posição (append)\n",
        "    if index >= self.size():\n",
        "      self.append(item)\n",
        "    else:\n",
        "      new = Node(item) # cria o nó\n",
        "      if index == 0: #se for para inserir na cabeça\n",
        "        new.setNext(self.head) #o new passa a apontar para a cabeça atual\n",
        "        self.head = new #a cabeça passa a ser o new\n",
        "      else: #percorrerá a lista até que o current seja o elemento anterior ao index desejado \n",
        "        current = self.head #começa da cabeça\n",
        "        count = 1 #count é 1, pois já testamos o index 0 no if\n",
        "        while count < index: #enquanto não chegar no índice desejado\n",
        "          current = current.getNext() #vai para o próximo\n",
        "          count = count + 1\n",
        "        #Quando o while termina, o current é o elemento anterior ao index\n",
        "        new.setNext(current.getNext()) #new passa a apontar para o elemento que está na posição index\n",
        "        current.setNext(new) #o elemento anterior ao index (current) passa a apontar para o new\n",
        "\n",
        "  def remove(self,item):\n",
        "    current = self.head\n",
        "    previous = None\n",
        "    found = False\n",
        "    while current != None and not found:\n",
        "      if current.getData() == item:\n",
        "        found = True\n",
        "      else:\n",
        "        previous = current\n",
        "        current = current.getNext()\n",
        "    if not found:\n",
        "      print('Elemento não encontrado')\n",
        "    else: \n",
        "      if previous == None:\n",
        "        self.head = current.getNext()\n",
        "      else:\n",
        "        previous.setNext(current.getNext())\n",
        "\n",
        "  def __repr__(self):\n",
        "    out = ''\n",
        "    current = self.head\n",
        "    while current != None:\n",
        "      out = out + ' ' + str(current.getData())\n",
        "      current = current.getNext()\n",
        "    return out"
      ]
    },
    {
      "cell_type": "markdown",
      "source": [
        "## Pilha\n",
        "\n",
        "A pilha terá os métodos:\n",
        "* __init__ que inicializa a pilha vazia\n",
        "* **push()**que insere no topo (começo)\n",
        "* **pop()** que retira do topo (começo, retornando o elemento)\n",
        "* **size()** que retorna a quantidade de elementos\n",
        "* **isEmpty()** que retorna True, se a pilha estiver vazia\n",
        "* **clear()** limpa a pilha\n",
        "* __repr__ que mostra os elementos da pilha"
      ],
      "metadata": {
        "id": "DcyYoIEP8OF3"
      }
    },
    {
      "cell_type": "code",
      "source": [
        "class Node:\n",
        "\n",
        "  def __init__(self, value):\n",
        "    self.data = value\n",
        "    self.next = None\n",
        "\n",
        "  def getData(self):\n",
        "    return self.data\n",
        "\n",
        "  def getNext(self):\n",
        "    return self.next\n",
        "\n",
        "  def setData(self,newdata):\n",
        "    self.data = newdata\n",
        "\n",
        "  def setNext(self,newnext):\n",
        "    self.next = newnext\n",
        "\n",
        "  def __repr__(self):\n",
        "    return f'{self.data} -> {self.next}'\n",
        "\n",
        "\n",
        "class PilhaDE:\n",
        "\n",
        "  def __init__(self):\n",
        "    self.head = None\n",
        "    self.tail = None\n",
        "\n",
        "  def isEmpty(self):\n",
        "    return self.head == None\n",
        "\n",
        "  def size(self):\n",
        "    current = self.head\n",
        "    count = 0\n",
        "    while current != None:\n",
        "      count = count + 1\n",
        "      current = current.getNext()\n",
        "    return count\n",
        "  \n",
        "  def clear(self):\n",
        "    self.head = None\n",
        "    self.tail = None\n",
        "\n",
        "  def push(self, item):\n",
        "    new = Node(item) #criamos o nó do novo elemento\n",
        "    if self.head == None: #pilha vazia\n",
        "      self.head = self.tail = new #se for o primeiro elemento da pilha, cabeça e cauda apontam para ele\n",
        "    else:\n",
        "      new.setNext(self.head)\n",
        "      self.head = new\n",
        "\n",
        "  def pop(self):\n",
        "    if self.head != None: #tem elemento na pilha\n",
        "      value = self.head.getData()#guarda o valor da cabeça que está sendo removida para o return\n",
        "      self.head = self.head.getNext() #cabeça passa a ser o próximo\n",
        "      if self.head == None: #se a pilha for ficar vazia\n",
        "        self.tail = None #libera a cauda tb\n",
        "      return value\n",
        "\n",
        "  def __repr__(self):\n",
        "    out = ''\n",
        "    current = self.head\n",
        "    while current != None:\n",
        "      out = out + ' ' + str(current.getData())\n",
        "      current = current.getNext()\n",
        "    return out"
      ],
      "metadata": {
        "id": "bkeETLv58YUh"
      },
      "execution_count": 19,
      "outputs": []
    },
    {
      "cell_type": "code",
      "source": [
        "pilha = PilhaDE() #cria a pilha vazia"
      ],
      "metadata": {
        "id": "XI4s-PIFW-GD"
      },
      "execution_count": 2,
      "outputs": []
    },
    {
      "cell_type": "code",
      "source": [
        "pilha.isEmpty()"
      ],
      "metadata": {
        "colab": {
          "base_uri": "https://localhost:8080/"
        },
        "id": "LV1BzCmVXAZ7",
        "outputId": "f68e2921-13e1-4374-8e63-7a7d92ec82ef"
      },
      "execution_count": 3,
      "outputs": [
        {
          "output_type": "execute_result",
          "data": {
            "text/plain": [
              "True"
            ]
          },
          "metadata": {},
          "execution_count": 3
        }
      ]
    },
    {
      "cell_type": "code",
      "source": [
        "pilha.size()"
      ],
      "metadata": {
        "colab": {
          "base_uri": "https://localhost:8080/"
        },
        "id": "s_hj3EhBXCXM",
        "outputId": "7f128ed1-ed41-4f91-9d30-7c902d5dd81f"
      },
      "execution_count": 4,
      "outputs": [
        {
          "output_type": "execute_result",
          "data": {
            "text/plain": [
              "0"
            ]
          },
          "metadata": {},
          "execution_count": 4
        }
      ]
    },
    {
      "cell_type": "code",
      "source": [
        "pilha.push(15)\n",
        "pilha.push(10)\n",
        "pilha.push(5)\n",
        "pilha.push(4)\n",
        "pilha.push(1)"
      ],
      "metadata": {
        "id": "FenHj9dMXPPa"
      },
      "execution_count": 5,
      "outputs": []
    },
    {
      "cell_type": "code",
      "source": [
        "pilha"
      ],
      "metadata": {
        "colab": {
          "base_uri": "https://localhost:8080/"
        },
        "id": "F06M9fq8w0zH",
        "outputId": "5f554857-7556-4d42-dd60-8a9b4673b4ce"
      },
      "execution_count": 6,
      "outputs": [
        {
          "output_type": "execute_result",
          "data": {
            "text/plain": [
              " 1 4 5 10 15"
            ]
          },
          "metadata": {},
          "execution_count": 6
        }
      ]
    },
    {
      "cell_type": "code",
      "source": [
        "pilha.pop()"
      ],
      "metadata": {
        "colab": {
          "base_uri": "https://localhost:8080/"
        },
        "id": "icj7Y-6Fw2mw",
        "outputId": "9d237bf5-0ae6-4580-cf31-a4f8707a0a48"
      },
      "execution_count": 7,
      "outputs": [
        {
          "output_type": "execute_result",
          "data": {
            "text/plain": [
              "1"
            ]
          },
          "metadata": {},
          "execution_count": 7
        }
      ]
    },
    {
      "cell_type": "code",
      "source": [
        "pilha"
      ],
      "metadata": {
        "colab": {
          "base_uri": "https://localhost:8080/"
        },
        "id": "cnRv8c4Zw5GZ",
        "outputId": "2df45187-2a72-4b11-c121-16f1d5523f47"
      },
      "execution_count": 8,
      "outputs": [
        {
          "output_type": "execute_result",
          "data": {
            "text/plain": [
              " 4 5 10 15"
            ]
          },
          "metadata": {},
          "execution_count": 8
        }
      ]
    },
    {
      "cell_type": "markdown",
      "source": [
        "## Fila\n",
        "\n",
        "A fila terá os métodos:\n",
        "* __init__ que inicializa a fila vazia\n",
        "* **enqueue()** que insere no final da fila\n",
        "* **dequeue()** que retira do início da fila (retornando o elemento)\n",
        "* **size()** que retorna a quantidade de elementos\n",
        "* **isEmpty()** que retorna True, se a fila estiver vazia\n",
        "* **clear()** limpa a fila\n",
        "* __repr__ que mostra os elementos da fila"
      ],
      "metadata": {
        "id": "LRVbt13v8Yw8"
      }
    },
    {
      "cell_type": "code",
      "source": [
        "class Node:\n",
        "\n",
        "  def __init__(self, value):\n",
        "    self.data = value\n",
        "    self.next = None\n",
        "\n",
        "  def getData(self):\n",
        "    return self.data\n",
        "\n",
        "  def getNext(self):\n",
        "    return self.next\n",
        "\n",
        "  def setData(self,newdata):\n",
        "    self.data = newdata\n",
        "\n",
        "  def setNext(self,newnext):\n",
        "    self.next = newnext\n",
        "\n",
        "  def __repr__(self):\n",
        "    return f'{self.data} -> {self.next}'\n",
        "\n",
        "\n",
        "class FilaDE:\n",
        "\n",
        "  def __init__(self):\n",
        "    self.head = None\n",
        "    self.tail = None\n",
        "\n",
        "  def isEmpty(self):\n",
        "    return self.head == None\n",
        "\n",
        "  def size(self):\n",
        "    current = self.head\n",
        "    count = 0\n",
        "    while current != None:\n",
        "      count = count + 1\n",
        "      current = current.getNext()\n",
        "    return count\n",
        "  \n",
        "  def clear(self):\n",
        "    self.head = None\n",
        "    self.tail = None\n",
        "\n",
        "   #enfileira no final\n",
        "  def enqueue(self, item):\n",
        "    new = Node(item) #criamos o nó do novo elemento\n",
        "    if self.head == None: #fila vazia\n",
        "      self.head = self.tail = new #se for o primeiro elemento, cabeça e cauda apontam para ele\n",
        "    else: \n",
        "      self.tail.setNext(new) #o que era o ultimo, passa a apontar para o novo elemento\n",
        "      self.tail = new #A cauda passa a apontar para o novo elemento\n",
        "  \n",
        "  def dequeue(self):\n",
        "    if self.head != None: #tem elemento na fila\n",
        "      value = self.head.getData()#guarda a cabeça que está sendo removida para o return\n",
        "      self.head = self.head.getNext()\n",
        "      if self.head == None: #se a fila for ficar vazia\n",
        "        self.tail = None #libera a cauda tb\n",
        "      return value\n",
        "    \n",
        "  def __repr__(self):\n",
        "    out = ''\n",
        "    current = self.head\n",
        "    while current != None:\n",
        "      out = out + ' ' + str(current.getData())\n",
        "      current = current.getNext()\n",
        "    return out"
      ],
      "metadata": {
        "id": "shj6voIo-aeM"
      },
      "execution_count": 9,
      "outputs": []
    },
    {
      "cell_type": "code",
      "source": [
        "fila = FilaDE()"
      ],
      "metadata": {
        "id": "yRcu09AWxXQh"
      },
      "execution_count": 10,
      "outputs": []
    },
    {
      "cell_type": "code",
      "source": [
        "fila.isEmpty()"
      ],
      "metadata": {
        "colab": {
          "base_uri": "https://localhost:8080/"
        },
        "outputId": "aa2ec37e-c4c3-4576-94df-49c16bb0ce5b",
        "id": "-Lm6XuDzxXQj"
      },
      "execution_count": 11,
      "outputs": [
        {
          "output_type": "execute_result",
          "data": {
            "text/plain": [
              "True"
            ]
          },
          "metadata": {},
          "execution_count": 11
        }
      ]
    },
    {
      "cell_type": "code",
      "source": [
        "fila.size()"
      ],
      "metadata": {
        "colab": {
          "base_uri": "https://localhost:8080/"
        },
        "outputId": "a217edea-5756-4399-fd12-ba6e0df28328",
        "id": "LHCZlJNKxXQj"
      },
      "execution_count": 12,
      "outputs": [
        {
          "output_type": "execute_result",
          "data": {
            "text/plain": [
              "0"
            ]
          },
          "metadata": {},
          "execution_count": 12
        }
      ]
    },
    {
      "cell_type": "code",
      "source": [
        "fila.enqueue(15)\n",
        "fila.enqueue(10)\n",
        "fila.enqueue(5)\n",
        "fila.enqueue(4)\n",
        "fila.enqueue(1)"
      ],
      "metadata": {
        "id": "4LOPlNgHxXQk"
      },
      "execution_count": 13,
      "outputs": []
    },
    {
      "cell_type": "code",
      "source": [
        "fila"
      ],
      "metadata": {
        "colab": {
          "base_uri": "https://localhost:8080/"
        },
        "id": "tNQl60CYxaVg",
        "outputId": "0d6d807f-3fc3-4f43-baef-003993bd5c93"
      },
      "execution_count": 14,
      "outputs": [
        {
          "output_type": "execute_result",
          "data": {
            "text/plain": [
              " 15 10 5 4 1"
            ]
          },
          "metadata": {},
          "execution_count": 14
        }
      ]
    },
    {
      "cell_type": "code",
      "source": [
        "fila.dequeue()"
      ],
      "metadata": {
        "colab": {
          "base_uri": "https://localhost:8080/"
        },
        "id": "nwGZDxwBxbbw",
        "outputId": "265ce4d9-6bd3-4331-fd82-8e5f6e42802e"
      },
      "execution_count": 16,
      "outputs": [
        {
          "output_type": "execute_result",
          "data": {
            "text/plain": [
              "15"
            ]
          },
          "metadata": {},
          "execution_count": 16
        }
      ]
    },
    {
      "cell_type": "code",
      "source": [
        "fila"
      ],
      "metadata": {
        "colab": {
          "base_uri": "https://localhost:8080/"
        },
        "id": "m1HGd8OlxfMH",
        "outputId": "7c215a5a-d3aa-4af0-8ed6-210ec775b1e8"
      },
      "execution_count": 17,
      "outputs": [
        {
          "output_type": "execute_result",
          "data": {
            "text/plain": [
              " 10 5 4 1"
            ]
          },
          "metadata": {},
          "execution_count": 17
        }
      ]
    }
  ]
}