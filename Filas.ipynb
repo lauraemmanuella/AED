{
  "nbformat": 4,
  "nbformat_minor": 0,
  "metadata": {
    "colab": {
      "name": "Filas.ipynb",
      "provenance": [],
      "toc_visible": true,
      "authorship_tag": "ABX9TyP9M/wQnNla61dQ9Gk8sIKc",
      "include_colab_link": true
    },
    "kernelspec": {
      "name": "python3",
      "display_name": "Python 3"
    },
    "language_info": {
      "name": "python"
    }
  },
  "cells": [
    {
      "cell_type": "markdown",
      "metadata": {
        "id": "view-in-github",
        "colab_type": "text"
      },
      "source": [
        "<a href=\"https://colab.research.google.com/github/lauraemmanuella/AED/blob/main/Filas.ipynb\" target=\"_parent\"><img src=\"https://colab.research.google.com/assets/colab-badge.svg\" alt=\"Open In Colab\"/></a>"
      ]
    },
    {
      "cell_type": "markdown",
      "source": [
        "# Exemplo de fila dinâmica encadeada\n"
      ],
      "metadata": {
        "id": "zzDeVUKMSIlj"
      }
    },
    {
      "cell_type": "code",
      "execution_count": 2,
      "metadata": {
        "id": "AShsMmrYSDaJ"
      },
      "outputs": [],
      "source": [
        "class Node:\n",
        "  def __init__(self, value):\n",
        "    self.data = value\n",
        "    self.next = None\n",
        "\n",
        "  def getData(self):\n",
        "    return self.data\n",
        "\n",
        "  def getNext(self):\n",
        "    return self.next\n",
        "\n",
        "  def setData(self,newdata):\n",
        "    self.data = newdata\n",
        "\n",
        "  def setNext(self,newnext):\n",
        "    self.next = newnext\n",
        "\n",
        "  def __repr__(self):\n",
        "    return f'{self.data} -> {self.next}'\n",
        "\n",
        "\n",
        "class FilaDE:\n",
        "\n",
        "  def __init__(self):\n",
        "    self.head = None\n",
        "    self.tail = None\n",
        "\n",
        "  def isEmpty(self):\n",
        "    return self.head == None\n",
        "\n",
        "  def size(self):\n",
        "    current = self.head\n",
        "    count = 0\n",
        "    while current != None:\n",
        "      count = count + 1\n",
        "      current = current.getNext()\n",
        "    return count\n",
        "  \n",
        "  def clear(self):\n",
        "    self.head = None\n",
        "    self.tail = None\n",
        "\n",
        "   #enfileira no final\n",
        "  def enqueue(self, item):\n",
        "    new = Node(item) #criamos o nó do novo elemento\n",
        "    if self.head == None: #fila vazia\n",
        "      self.head = self.tail = new #se for o primeiro elemento, cabeça e cauda apontam para ele\n",
        "    else: \n",
        "      self.tail.setNext(new) #o que era o ultimo, passa a apontar para o novo elemento\n",
        "      self.tail = new #A cauda passa a apontar para o novo elemento\n",
        "  \n",
        "  def dequeue(self):\n",
        "    if self.head != None: #tem elemento na fila\n",
        "      value = self.head.getData()#guarda a cabeça que está sendo removida para o return\n",
        "      self.head = self.head.getNext()\n",
        "      if self.head == None: #fila vazia\n",
        "        self.tail = None\n",
        "      return value\n",
        "    \n",
        "  def __repr__(self):\n",
        "    out = ''\n",
        "    current = self.head\n",
        "    while current != None:\n",
        "      out = out + ' ' + str(current.getData())\n",
        "      current = current.getNext()\n",
        "    return out"
      ]
    },
    {
      "cell_type": "code",
      "source": [
        "fila = FilaDE()"
      ],
      "metadata": {
        "id": "XI4s-PIFW-GD"
      },
      "execution_count": 3,
      "outputs": []
    },
    {
      "cell_type": "code",
      "source": [
        "fila.isEmpty()"
      ],
      "metadata": {
        "colab": {
          "base_uri": "https://localhost:8080/"
        },
        "id": "LV1BzCmVXAZ7",
        "outputId": "4fdd49c6-4395-463d-bea7-c4d720a2899d"
      },
      "execution_count": 4,
      "outputs": [
        {
          "output_type": "execute_result",
          "data": {
            "text/plain": [
              "True"
            ]
          },
          "metadata": {},
          "execution_count": 4
        }
      ]
    },
    {
      "cell_type": "code",
      "source": [
        "fila.size()"
      ],
      "metadata": {
        "colab": {
          "base_uri": "https://localhost:8080/"
        },
        "id": "s_hj3EhBXCXM",
        "outputId": "19bb4d5b-4e95-450d-e090-8d1b540d0de8"
      },
      "execution_count": 37,
      "outputs": [
        {
          "output_type": "execute_result",
          "data": {
            "text/plain": [
              "0"
            ]
          },
          "metadata": {},
          "execution_count": 37
        }
      ]
    },
    {
      "cell_type": "code",
      "source": [
        "fila.enqueue(15)\n",
        "fila.enqueue(10)\n",
        "fila.enqueue(5)\n",
        "fila.enqueue(4)\n",
        "fila.enqueue(1)"
      ],
      "metadata": {
        "id": "FenHj9dMXPPa"
      },
      "execution_count": 22,
      "outputs": []
    },
    {
      "cell_type": "code",
      "source": [
        "fila"
      ],
      "metadata": {
        "colab": {
          "base_uri": "https://localhost:8080/"
        },
        "id": "s5UEJtyFXTWb",
        "outputId": "7312b6dc-0939-44df-f67b-4366502fa08e"
      },
      "execution_count": 35,
      "outputs": [
        {
          "output_type": "execute_result",
          "data": {
            "text/plain": [
              ""
            ]
          },
          "metadata": {},
          "execution_count": 35
        }
      ]
    },
    {
      "cell_type": "code",
      "source": [
        "fila.dequeue()"
      ],
      "metadata": {
        "id": "dZeDM4OJXWf_",
        "colab": {
          "base_uri": "https://localhost:8080/"
        },
        "outputId": "25a13717-2034-49b1-f460-b424960c0d0e"
      },
      "execution_count": 34,
      "outputs": [
        {
          "output_type": "execute_result",
          "data": {
            "text/plain": [
              "1"
            ]
          },
          "metadata": {},
          "execution_count": 34
        }
      ]
    },
    {
      "cell_type": "code",
      "source": [
        "fila"
      ],
      "metadata": {
        "colab": {
          "base_uri": "https://localhost:8080/"
        },
        "id": "8ArIf-r-XctY",
        "outputId": "8360e3c6-c372-4f67-db64-639ba946dbb7"
      },
      "execution_count": 8,
      "outputs": [
        {
          "output_type": "execute_result",
          "data": {
            "text/plain": [
              " 10 5 4 1"
            ]
          },
          "metadata": {},
          "execution_count": 8
        }
      ]
    },
    {
      "cell_type": "code",
      "source": [
        "fila.size()"
      ],
      "metadata": {
        "colab": {
          "base_uri": "https://localhost:8080/"
        },
        "id": "iJxngR5RYK7_",
        "outputId": "1fd93ffb-59cf-4608-a6d4-dab4aa2113fc"
      },
      "execution_count": 9,
      "outputs": [
        {
          "output_type": "execute_result",
          "data": {
            "text/plain": [
              "4"
            ]
          },
          "metadata": {},
          "execution_count": 9
        }
      ]
    },
    {
      "cell_type": "markdown",
      "source": [
        "# Exemplo de programa que usa a estrutura ListaDE\n",
        "\n",
        ">Programa para atendimento de clientes\n",
        "\n",
        "O programa irá controlar o atendimento aos clientes de uma empresa, tendo 2 filas: 1 fila normal e 1 fila prioritária.\n",
        "\n",
        "**A regra do atendimento é: Atende 1 cliente da fila normal após ter atendimento 2 clientes da fila prioritária.**\n",
        "\n",
        "> Menu de opções do programa:\n",
        "\n",
        "1. Retirar senha para espera normal\n",
        "2. Retirar senha para espera prioridade\n",
        "3. Visualizar filas de espera\n",
        "4. Atender cliente\n",
        "5. Encerrar atendimento\n",
        "\n"
      ],
      "metadata": {
        "id": "yLBVnXcXU02J"
      }
    },
    {
      "cell_type": "code",
      "source": [
        "def atendimento():\n",
        "\n",
        "  filanormal = FilaDE()\n",
        "  filaprioridade = FilaDE()\n",
        "\n",
        "  senhanormal = 1\n",
        "  senhaprioridade = 1\n",
        "  ordem = 1\n",
        "  \n",
        "  while True:\n",
        "    print('\\nAtendimento')\n",
        "    print('1-Retirar senha para espera normal')\n",
        "    print('2-Retirar senha para espera prioridade')\n",
        "    print('3-Visualizar filas de espera')\n",
        "    print('4-Atender cliente')\n",
        "    print('5-Encerrar atendimento')\n",
        "    opcao = int(input())\n",
        "    if opcao == 1:\n",
        "      filanormal.enqueue(senhanormal)\n",
        "      print(f'\\nSenha para atendimento normal {senhanormal}')\n",
        "      senhanormal += 1\n",
        "    elif opcao == 2:\n",
        "      filaprioridade.enqueue(senhaprioridade)\n",
        "      print(f'\\nSenha para atendimento prioritário {senhaprioridade}')\n",
        "      senhaprioridade += 1\n",
        "    elif opcao == 3:\n",
        "      print(f'\\nEspera para atendimento prioritário: {filaprioridade}')\n",
        "      print(f'Espera para atendimento normal: {filanormal}')\n",
        "    elif opcao == 4:\n",
        "      if (ordem % 3 != 0 and not filaprioridade.isEmpty()) or (filanormal.isEmpty() and not filaprioridade.isEmpty()):\n",
        "        senha = filaprioridade.dequeue()\n",
        "        print(f'\\nAtendimento prioritário - senha: {senha}')\n",
        "      elif not filanormal.isEmpty():\n",
        "        senha = filanormal.dequeue()\n",
        "        print(f'\\nAtendimento normal - senha: {senha}')\n",
        "      else:\n",
        "        print('\\nFilas normal e prioritária vazias')\n",
        "      ordem += 1\n",
        "    elif opcao == 5:\n",
        "      break\n",
        "    else:\n",
        "      continue"
      ],
      "metadata": {
        "id": "mAztFsMvU1ED"
      },
      "execution_count": 50,
      "outputs": []
    },
    {
      "cell_type": "code",
      "source": [
        "atendimento()"
      ],
      "metadata": {
        "colab": {
          "base_uri": "https://localhost:8080/"
        },
        "id": "OCG84AscW18f",
        "outputId": "a36f21ee-0120-482b-ffbb-49022b17743c"
      },
      "execution_count": 51,
      "outputs": [
        {
          "name": "stdout",
          "output_type": "stream",
          "text": [
            "\n",
            "Atendimento\n",
            "1-Retirar senha para espera normal\n",
            "2-Retirar senha para espera prioridade\n",
            "3-Visualizar filas de espera\n",
            "4-Atender cliente\n",
            "5-Encerrar atendimento\n",
            "1\n",
            "\n",
            "Senha para atendimento normal 1\n",
            "\n",
            "Atendimento\n",
            "1-Retirar senha para espera normal\n",
            "2-Retirar senha para espera prioridade\n",
            "3-Visualizar filas de espera\n",
            "4-Atender cliente\n",
            "5-Encerrar atendimento\n",
            "1\n",
            "\n",
            "Senha para atendimento normal 2\n",
            "\n",
            "Atendimento\n",
            "1-Retirar senha para espera normal\n",
            "2-Retirar senha para espera prioridade\n",
            "3-Visualizar filas de espera\n",
            "4-Atender cliente\n",
            "5-Encerrar atendimento\n",
            "2\n",
            "\n",
            "Senha para atendimento prioritário 1\n",
            "\n",
            "Atendimento\n",
            "1-Retirar senha para espera normal\n",
            "2-Retirar senha para espera prioridade\n",
            "3-Visualizar filas de espera\n",
            "4-Atender cliente\n",
            "5-Encerrar atendimento\n",
            "2\n",
            "\n",
            "Senha para atendimento prioritário 2\n",
            "\n",
            "Atendimento\n",
            "1-Retirar senha para espera normal\n",
            "2-Retirar senha para espera prioridade\n",
            "3-Visualizar filas de espera\n",
            "4-Atender cliente\n",
            "5-Encerrar atendimento\n",
            "3\n",
            "\n",
            "Espera para atendimento prioritário:  1 2\n",
            "Espera para atendimento normal:  1 2\n",
            "\n",
            "Atendimento\n",
            "1-Retirar senha para espera normal\n",
            "2-Retirar senha para espera prioridade\n",
            "3-Visualizar filas de espera\n",
            "4-Atender cliente\n",
            "5-Encerrar atendimento\n",
            "4\n",
            "\n",
            "Atendimento prioritário - senha: 1\n",
            "\n",
            "Atendimento\n",
            "1-Retirar senha para espera normal\n",
            "2-Retirar senha para espera prioridade\n",
            "3-Visualizar filas de espera\n",
            "4-Atender cliente\n",
            "5-Encerrar atendimento\n",
            "4\n",
            "\n",
            "Atendimento prioritário - senha: 2\n",
            "\n",
            "Atendimento\n",
            "1-Retirar senha para espera normal\n",
            "2-Retirar senha para espera prioridade\n",
            "3-Visualizar filas de espera\n",
            "4-Atender cliente\n",
            "5-Encerrar atendimento\n",
            "4\n",
            "\n",
            "Atendimento normal - senha: 1\n",
            "\n",
            "Atendimento\n",
            "1-Retirar senha para espera normal\n",
            "2-Retirar senha para espera prioridade\n",
            "3-Visualizar filas de espera\n",
            "4-Atender cliente\n",
            "5-Encerrar atendimento\n",
            "4\n",
            "\n",
            "Atendimento normal - senha: 2\n",
            "\n",
            "Atendimento\n",
            "1-Retirar senha para espera normal\n",
            "2-Retirar senha para espera prioridade\n",
            "3-Visualizar filas de espera\n",
            "4-Atender cliente\n",
            "5-Encerrar atendimento\n",
            "4\n",
            "\n",
            "Filas normal e prioritária vazias\n",
            "\n",
            "Atendimento\n",
            "1-Retirar senha para espera normal\n",
            "2-Retirar senha para espera prioridade\n",
            "3-Visualizar filas de espera\n",
            "4-Atender cliente\n",
            "5-Encerrar atendimento\n",
            "5\n"
          ]
        }
      ]
    }
  ]
}