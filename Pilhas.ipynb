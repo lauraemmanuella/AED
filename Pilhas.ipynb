{
  "nbformat": 4,
  "nbformat_minor": 0,
  "metadata": {
    "colab": {
      "name": "Pilhas.ipynb",
      "provenance": [],
      "collapsed_sections": [],
      "authorship_tag": "ABX9TyPJd5TLUw6t0Rjeek/rPmYo",
      "include_colab_link": true
    },
    "kernelspec": {
      "name": "python3",
      "display_name": "Python 3"
    },
    "language_info": {
      "name": "python"
    }
  },
  "cells": [
    {
      "cell_type": "markdown",
      "metadata": {
        "id": "view-in-github",
        "colab_type": "text"
      },
      "source": [
        "<a href=\"https://colab.research.google.com/github/lauraemmanuella/AED/blob/main/Pilhas.ipynb\" target=\"_parent\"><img src=\"https://colab.research.google.com/assets/colab-badge.svg\" alt=\"Open In Colab\"/></a>"
      ]
    },
    {
      "cell_type": "markdown",
      "source": [
        "# Exemplo de pilha dinâmica encadeada\n"
      ],
      "metadata": {
        "id": "zzDeVUKMSIlj"
      }
    },
    {
      "cell_type": "code",
      "execution_count": 3,
      "metadata": {
        "id": "AShsMmrYSDaJ"
      },
      "outputs": [],
      "source": [
        "class Node:\n",
        "\n",
        "  def __init__(self, value):\n",
        "    self.data = value\n",
        "    self.next = None\n",
        "\n",
        "  def getData(self):\n",
        "    return self.data\n",
        "\n",
        "  def getNext(self):\n",
        "    return self.next\n",
        "\n",
        "  def setData(self,newdata):\n",
        "    self.data = newdata\n",
        "\n",
        "  def setNext(self,newnext):\n",
        "    self.next = newnext\n",
        "\n",
        "  def __repr__(self):\n",
        "    return f'{self.data} -> {self.next}'\n",
        "\n",
        "\n",
        "class PilhaDE:\n",
        "\n",
        "  def __init__(self):\n",
        "    self.head = None\n",
        "    self.tail = None\n",
        "\n",
        "  def isEmpty(self):\n",
        "    return self.head == None\n",
        "\n",
        "  def size(self):\n",
        "    current = self.head\n",
        "    count = 0\n",
        "    while current != None:\n",
        "      count = count + 1\n",
        "      current = current.getNext()\n",
        "    return count\n",
        "  \n",
        "  def clear(self):\n",
        "    self.head = None\n",
        "    self.tail = None\n",
        "\n",
        "  def push(self, item):\n",
        "    new = Node(item) #criamos o nó do novo elemento\n",
        "    if self.head == None: #pilha vazia\n",
        "      self.head = self.tail = new #se for o primeiro elemento da pilha, cabeça e cauda apontam para ele\n",
        "    else:\n",
        "      new.setNext(self.head)\n",
        "      self.head = new\n",
        "\n",
        "  def pop(self):\n",
        "    if self.head != None: #tem elemento na pilha\n",
        "      value = self.head.getData()#guarda o valor da cabeça que está sendo removida para o return\n",
        "      self.head = self.head.getNext() #cabeça passa a ser o próximo\n",
        "      if self.head == None: #se a pilha for ficar vazia\n",
        "        self.tail = None #libera a cauda tb\n",
        "      return value\n",
        "\n",
        "  def __repr__(self):\n",
        "    out = ''\n",
        "    current = self.head\n",
        "    while current != None:\n",
        "      out = out + ' ' + str(current.getData())\n",
        "      current = current.getNext()\n",
        "    return out"
      ]
    },
    {
      "cell_type": "code",
      "source": [
        "pilha = PilhaDE()"
      ],
      "metadata": {
        "id": "XI4s-PIFW-GD"
      },
      "execution_count": 2,
      "outputs": []
    },
    {
      "cell_type": "code",
      "source": [
        "pilha.isEmpty()"
      ],
      "metadata": {
        "colab": {
          "base_uri": "https://localhost:8080/"
        },
        "id": "LV1BzCmVXAZ7",
        "outputId": "7348ec0f-e642-4787-cb0d-a97d49e626ee"
      },
      "execution_count": 3,
      "outputs": [
        {
          "output_type": "execute_result",
          "data": {
            "text/plain": [
              "True"
            ]
          },
          "metadata": {},
          "execution_count": 3
        }
      ]
    },
    {
      "cell_type": "code",
      "source": [
        "pilha.size()"
      ],
      "metadata": {
        "colab": {
          "base_uri": "https://localhost:8080/"
        },
        "id": "s_hj3EhBXCXM",
        "outputId": "757c52a1-fa8f-4ff3-9c7b-ec959a9a87d9"
      },
      "execution_count": 4,
      "outputs": [
        {
          "output_type": "execute_result",
          "data": {
            "text/plain": [
              "0"
            ]
          },
          "metadata": {},
          "execution_count": 4
        }
      ]
    },
    {
      "cell_type": "code",
      "source": [
        "pilha.push(15)\n",
        "pilha.push(10)\n",
        "pilha.push(5)\n",
        "pilha.push(4)\n",
        "pilha.push(1)"
      ],
      "metadata": {
        "id": "FenHj9dMXPPa"
      },
      "execution_count": 5,
      "outputs": []
    },
    {
      "cell_type": "code",
      "source": [
        "pilha"
      ],
      "metadata": {
        "colab": {
          "base_uri": "https://localhost:8080/"
        },
        "id": "s5UEJtyFXTWb",
        "outputId": "ef209271-9186-42a9-c28d-fca4b9b7039b"
      },
      "execution_count": 6,
      "outputs": [
        {
          "output_type": "execute_result",
          "data": {
            "text/plain": [
              " 1 4 5 10 15"
            ]
          },
          "metadata": {},
          "execution_count": 6
        }
      ]
    },
    {
      "cell_type": "code",
      "source": [
        "pilha.pop()"
      ],
      "metadata": {
        "colab": {
          "base_uri": "https://localhost:8080/"
        },
        "id": "dZeDM4OJXWf_",
        "outputId": "9d7e14c2-941b-4d68-cca6-6b7021d0b1a0"
      },
      "execution_count": 7,
      "outputs": [
        {
          "output_type": "execute_result",
          "data": {
            "text/plain": [
              "1"
            ]
          },
          "metadata": {},
          "execution_count": 7
        }
      ]
    },
    {
      "cell_type": "code",
      "source": [
        "pilha"
      ],
      "metadata": {
        "colab": {
          "base_uri": "https://localhost:8080/"
        },
        "id": "8ArIf-r-XctY",
        "outputId": "e55e5fa8-cc4b-413e-ae23-6dc6f228c5c1"
      },
      "execution_count": 8,
      "outputs": [
        {
          "output_type": "execute_result",
          "data": {
            "text/plain": [
              " 4 5 10 15"
            ]
          },
          "metadata": {},
          "execution_count": 8
        }
      ]
    },
    {
      "cell_type": "code",
      "source": [
        "pilha.size()"
      ],
      "metadata": {
        "colab": {
          "base_uri": "https://localhost:8080/"
        },
        "id": "iJxngR5RYK7_",
        "outputId": "a2b7600d-57c6-4fb0-b3b9-1747ae642c37"
      },
      "execution_count": 9,
      "outputs": [
        {
          "output_type": "execute_result",
          "data": {
            "text/plain": [
              "4"
            ]
          },
          "metadata": {},
          "execution_count": 9
        }
      ]
    },
    {
      "cell_type": "markdown",
      "source": [
        "#Exemplo de programa que usa a estrutura PilhaDE\n",
        "\n",
        "> Jogo: Torre de Hanoi\n",
        "\n",
        "Torre de Hanói é um quebra-cabeça que consiste em uma base contendo três pinos, em um dos quais são dispostos alguns discos uns sobre os outros, em ordem crescente de diâmetro, de cima para baixo. \n",
        "\n",
        "O problema consiste em passar todos os discos de um pino para outro qualquer, usando um dos pinos como auxiliar, de maneira que um disco maior nunca fique em cima de outro menor em nenhuma situação. O número de discos pode variar sendo que o mais simples contém apenas três.\n",
        "\n",
        "\n",
        "> Usaremos nossa Pilha para representar os pinos"
      ],
      "metadata": {
        "id": "p8qkjsp0k45Q"
      }
    },
    {
      "cell_type": "markdown",
      "source": [
        "![Tower_of_Hanoi.jpeg](data:image/jpeg;base64,/9j/4AAQSkZJRgABAQEASABIAAD/2wBDAAYEBQYFBAYGBQYHBwYIChAKCgkJChQODwwQFxQYGBcUFhYaHSUfGhsjHBYWICwgIyYnKSopGR8tMC0oMCUoKSj/2wBDAQcHBwoIChMKChMoGhYaKCgoKCgoKCgoKCgoKCgoKCgoKCgoKCgoKCgoKCgoKCgoKCgoKCgoKCgoKCgoKCgoKCj/wAARCAEIAlgDASEAAhEBAxEB/8QAHAAAAwADAQEBAAAAAAAAAAAAAAECAwQFBgcI/8QARhAAAQMCBQEGAwUGBQMDAwUAAQACEQMhBAUSMUFRBhMiYXGBkaGxBxQywfAVI0JS0eEWFyQz8TRiciZDY1ODkiVkc4KT/8QAGQEBAQEBAQEAAAAAAAAAAAAAAAECAwQF/8QAKhEBAAIBAwQCAgMAAwEBAAAAAAECEQMhMRITQVEEMiJhFDNxQlKhkbH/2gAMAwEAAhEDEQA/AOfBNgQfKFWkBxLfmuUuogAEaYi6CCW2+lgpkMM1HmfPhVpESBYj4oFAAny36IcIuLHkKKsSPzEo3MC6iAixDthwOCqgAEC95EoqXAgED9BObiB5ROyB3gAmwMo02bfTCBgcAz81QAuYMbSBsgAJcTMxshrDqADRMoqtAJ3ggSk3cx6FBQES02KoWPnYp4E21EgWnYFNsTPMWJ3QN34ogboAiAR5eqAaYF5FgqIJF7gfRRCvIsAQgAeJo5+qbqBJMcH5KgBzuTMSgNmiSJ3KDDiDIH1VA4SNhJEeyZuI4HCgIEyAOicReeUgABB8x1QYnff3QWOYuPLlG5gkRwFQAGfLf1SieTHXhEAn+E7qnCbD02iFVwG7TwgjqfjZQItuQdgqAJbEKh6bQPfzQ5mowDtuiEWapEAfkn3cRB9UDa0gQTIHwWRpIuSY5QMFx9OQsoJJEQrgWJnxDfdU0GJiyqrFOCbbKXUZchgHDG8dJ2U/dSRYm/VAfdDPJSdhHAdZ80wmE/dXRcett0zhnzN7bpgI0HCx2HCgUi3YAeUKAFHeQJsbKX4ZpDdTR0CqYYKuXU3uu3gwhTpgcYtBI+qIOwkDyKsigIEkAAJwZ29LqB2BvMevKGtIkxMbooABc6YjaN5VFpMTEDqoGRJt8OiA2ATInr0TCGRz8SpiXO3DgOfrCKbWTJBMchUTMg8KCQ20Xsmbgj+LyCB6SSfXZPyaR5qZFmwPKhwhtiPToqqmkDbcIifM7qig0kwDsUFsmygNImxB5khItE9XRaUFRA24tKGiB4rXlABoA8NvqU3NLbOEDzQPSTzsUNaBFrR0QPSNzyqIbaSSoJDRwRHlynAAvsgNXinc73TgReCN4SAMbJI+SeiG6uiAj8PiuCrcLmJHogQAubCECw34hUU4EtiTwD1SA3CCmtAFlLmAk/qyAa2TANo2KcRvFtj0VDMi1plLSb3kDyQUIJMzbcqvCSb3KBRJsbzHqq0wI/hvdEBb0twmG33HsqKAIIPXyVGQIG8cDZQMPNr3Vio6BpuT0VyLZWd7qm4gyIvIRd1DEWN5TFfc72lWJTIGIJcUzWkTNkyZPvgCRpCfeDVHS6ZUOc0mYEqJBPHwVRTi3VECQJQYibJAYa0t/QQoPHxtO/XoqBjq6yjJgS6ZumR8D13RSDZ3+HCsiYjmLoquB5dFOl0mDaFBTRMER7pBupoB5t0SASHG/F77q4uZMj4oCLSOiggA3sTspIBaOuyoiCNr3VUyPDOw+iREATvyOikoVySW3CBBJaDEdEDbbS0kE9Dyr5PlZFAENAi8XVc7cQgASIiZ6BDW+s/r+6Cy0nYmwlBmRYQNvNBTQBJgzwkQJ2seqBAeLgSqMARJ2kiEkBAA4+KDcbaZHxSBIPhHT4pgRci3mpgwbmiAefLhNotP90FRYkaZ6lMDwzbrJQAEjUdosp0uAiFQ2gzfr0QG7TdAQXEC4TE3nr7IG1zvKCmQTv6IEQRYz/VUzcECT14QPTsOesJkQY68IERJ5gG/RVEHe3CoADJuBtvym3raUIVa9pTADjAJ/qgpoAMj4o0gQQfZUVp8IvHRU0AEeXBsiBrSRI2AR3ciBOyCtAE7epScwwUwFov/AGTLYcBIt0VDjkyb3QARyU/YkB07246qrzuT6IHBJkJztJMSgJNhN0Ijy5t+EmePJM2nzvdACYE3803cCYKgsHYHYbFLaZ2IQOLgg3CZEvcSZvJP5J+1GnVFh0SDYIggG6gLxMSAdgqbA3mPJAxvIMgJhggl3xQDQ65J2tCQaL8dUhScyIiJ6xwmABzfyKiDRDtPCcCJMDqigg2cYEFUW3mZkoGABIkx8FbWiBBQKBJEz5Kw2XATugGC4jj4FBAdvwgYEkkC3qggwDPqoAN9J+KOfRIABsJ81JbBk+10FRf6IAv4jfdUMiVcRs74qB6Ton5oDZ855KopoFpPrPKrmbEeqBQLeaY0zFkwpQCRCcASOnREEAE9UwOkx0KcgaBa3l6p6Ba036qgi1t0ATN90UQfUeioNaBYIhlt/okGSZCCtEcgjdGmZgjaZCA0XE3PVODPXrCCgwTvdXBJHB+qoYEpNF7k+cphFubtf+gTAM3ieu6sSEGiN9trILYkz6oCIHKYaYhAomI3CCAWi8wgD09ko8rBUUQbQd0IPLaIPoblH8JbbeL3URkLS0geVlBbI2tuoHcmONrDZOCTsdSoLgXi6YBgwBpvKikAeSJNt1enmTf3QPTcAA+vmgtIJDd4UDDIsfOEFsxPCAAJFht1VBsski3zQgp8XSeiZZIHTyQAYZE8JgH+EC26KUGTEgcJtbYfhA6qC7DoekfVOAOOVQRLiSNvNNwJENg23hQUGHifNSWSJA32VA1sm53v5Kha+8FQBFyWmAnpP64RQWCTPpsgCRLQRdEGnkj+6elur5FA9Jt/RAaTsRfqgqCN4RG4v1JVD0gjmReEd2YMxH0UDLCNwTunomBNvJIC0EcfVVotCKptOOqBTJFiZF0gAYdQkcbyr0zx7KoZaSAb+yem0EQgTWSenkmG+M77SgprCSNV1RZf05QJzCQYA2smGdYQMM1E/VBpyeb7f0QNtI6rCefVAALtOoav5eU28mJX3cD0+aenpaVQaY2ifOyoCCbTbdAaehugtuPoqANgG8+aA28mekFA9A2IniEnUwbH3QMMA25SFMkdVTBaJEQBCFR5Ro1Eun2VcnaDdRkA2Fm+2yem4mJlQMtuT9UwNyooaBG0SZCsWklAEcefRItAsBpneyBtaQLHfnzSdYXiTtKCmDcNNvNVp/muJ2UDLLxDRP6+KUAx/RFiT7sQbGT0QQRBJk7KBEaQYafZG7ZFr7IK0SJPz5VBkiCL9U4HnTnLqmaYjCt00mMOlriJm/4gV7XIclOLw7cRXxR0QfDsT0i268eprzE7PRTSjG7VxFEUq9WiLlji2esKNIABg35leus9UZcJjEgNkTA80FsEWE+iqGaepotcHaUg0NQg4Bi49Cm1h1cHm6Bhlrm54RoA6H15RZGkkT804vFoSEGk9LfRIiQC1VRpIkceqcTNoURTQNNxPMhedz/OMTg81pYWiyaWkOJaQHEnz4twueraa1zDpp1i07vX9ncjfmLqVTFYqpRYTsxwcCTaDOyrMcH90x1Si0ktabE8iFw+Nq2taYl11qVrEYahpk7fJGgzb2XseYNuSN7qgN+pGxQGkggCOhRpMxuAbILDYkAQImVUSTbfhAxTBMKwwaehQSGATElUWTfc+aBhkkykKZEgiEF6IJj1uq0hwjmZVV4jH5jiaHafEta+KYf3YgmwAAteR7dV9Q7P4HL6lKjV7jXUfJBfUJ072vuF8nWmeuXurERWMOdi8OKeJqtaZAeQPNYQw+clfUrvEPFbkGnsOUhTImNvqtMqLTvPiU6f7IAix2lGkKwGRbZOJaNkAADzCekkiFYFaNtQQqjxYBJtwd1Zbpid72WcoHEtNr8kSnvNhbkpgAsRPKcyDaPJFDQ5xj6Jx8CoAA77EXkcKgw72EqA0QbGVbQQZGlAmt9ibwsndyRwUCDbi8+RsqAtuJ6dEFC4BFkEQyTdQSW+I7/Bc3MM1oYc1GNZUq1GG4b1HErN7xSMy1Ws2l5fHdr8ayodOBfTZcXH5rSPa/FVGN7ym7S0bhxELzza1+JdIiI5hq4PGjE46liGSKb3WvtPmvtfZOs52V05JOlgueV5dXbZ6qYmHmc/YW5vjIqvGt5dDXdbrQGKrCmA2rV8yXSVzpq3jiSdOJ5hu4PMqmvTVGtswC0D8l2AA4BwPhN/CvofH1u5GJ5h5tXT6OODNwSP7paZiDPSeV6HEwADcC6W3kiqAHnKbGneRA3TCAAyOoSNzwQTdFXBjYx8E9MSdnHa1kQFtoiB03QQOOeSqpaBfqvH9oGj9uGSJAbJPK460Zq6afL6P2VqD7vTEmx59Qr7StjNnhtwWt4jqvN8bbUl11vq5Q3k+6YE73XueVTacGRsVRZfa43VC0E+nVDqZBNrAWQwQExeFcQINigYvYj+yrSHG07qqbW39/imG23+aADSCJ2FlRE7eSCg0zbcfNMA3tCD5pm4P+IMXJuaxiAOv6+C+wdk/FhcGSCfF08l8vX+z314a2YN/wBbXsI1n6rBpvbfdfSp9YeG3MnpE3v77pafJbZMMiVOgxJmVQd1YfJI0yZ+hTANB2G8bqTTMC26B92d90iyDPREBaR+dkKq8dsTANuoVi8zMzuVGQ9vR3G/REHYfi6xsphS2PPXZXsBO/ooGACenCpjYibTtZDBFvEm+46qovHMIK0zPBPVBbFuhmSgLm4tIsVTBAkQCoMkgCAPK6nTeSDPB3QAkNEbykQLzZBL9QpVCDBAJHrC+T4LtNTp1XUMdDHNddx8JJn5rz6+lN428Omnfpnd6HA4+jinaadZptAa4jnz5W0Iqte2AWjeAHBfPmJid3riYlP7Mwhqh7sLSLotDdPyEBely3EvoYYMYWtpADwiT6WWZtON5biGOth8Xi64NOjrDyNJmLk2A9VgxmHoYFjaubYpmHa52kNqHxEiZEb/AMJHssxWZ+sG3lovzfC0mmnlVF9Z5kNrvIFN2xtInnaF6XLqtStgaNSoJe5sOIEAnn0Xv+JTpmcuPyOIbQFhZKJG0Fe15T0Xko0C83KgoDmbpwAJ/hKBxGmJHKBeTdEOzhG0cj6KvxQBYjqN0UwJIJJtcKiy0AWVB3biQIsvE9q2ubnfIJY0j0XLV+rpp8voHZJwOEpuF9rxuuh2naTmcTP7po+q8vx/7JddX6w5BYQNpR3RNyY9Twve8y9JMxJQ1riesXQUGxsLJ6ZG0ocKLQD0SgkAjrf0VFaRe3x4VBnkUD0SJ5S0dbIHp2G0phpA8/RIFaYbB3F5TaCSNVvorhHy/Nb9osYWiQax55lfXuyoAwuDmxmfkvl6/wBnvrwx4/8A66vAj94SteOJ9l9Kn1h4rcyqLbpxzC0yCwn1CZabfmqHEiPqmNPQJgMNFwq0AC0XVUjTB4sqbQCAOHG6EHgSLQE3mIix8tlGFAwNvNPxdQoG0eRKGRpg3AkATsigaQT0+qrReeOigQ1b7x0KytAEkb7+qAJgmT80XFt+qBw0vJGxGxKJnY/1QXAmDsAmGzc3UhRF7ADolo0kjzT/AEauaYrD5dl1fE42oadKmwkncnyHmei/PWcGnVxVWpRMsc4uAn4T5pXlmzmNcabpY4tI2gxdbtHNMfTcDTxldpG0PWrUrbmGK3tXh06Wf5s5ul+YYgguDtxYjkWsVuuzjMoBZmOMBBkgPjn+64To0jw9FL2nyzYbFV65aMTisVVY0SGurO0/Ii4LpXToUsNhnUxQ0AuaHd61oAvtbjj3BnhefUzG0PdoxGMu5hsXhjSw7WAvxGmzWCST+pXqcmzCtR00avipNsT/AC+nlK56ep25jK61YvD0WkweRE3RobJPHmvo8vnHpBG09UaNiPQAKIBTHndXonp6qqhzCQbLIBtED2siFpvYAcoAuCirA5jzusmkA7QFBRM2I+C8X2wJ/bgEF37qmd/Vc9X6umny9r2S/wCmZxsIXW7QtjMjpn/baPqvN8f+yXXV+rmhu87qxTmb2XveYtAg+qk0x/woBtO9rkbDhU0FUBDiRsTCprbCRygABNrlVExcyEDDJ3AsqaGwZukIk0yQQVbWX80VRYOlyn3fToqPlOagjPcaf/3BiBdfXuyhjC4KL354tuvl6/2e6vCcc0ffa0x+Mx8VhDbjbovpU+sPFbmQG36qj6LbJ6ZCQ26oqwJEwp0QgYbHNgnzvdVAZkREjzT1OQMPMmBZCqvBQAPWyTmAACZlZYOIJETB4VAehnkqKC2eh80ywbIinttsIlAY4G+0qKZmdo/JU0EiI2vfZA2tAH9t1TWwbxPQFA9N+I2QLCIgxZFOCYKobz181Ae8nqmRYcecIPn/ANrxcMFlzgSaWt+ocbNg/X4r5TTwgxb/AN1Vptk3LzZTq6cyzMdU4bDuzmPJOhuGqtiZZWifis1Pspm7nAtwwG0TXp+27gsR8mk+Wv49mYdl82pgBuGdJg2ew/Ry6GG7LZtUiaL2iJLiWQOvJXO3yqO1NCzt4DsZmOuC8wSCbmdxxHkuxhextVj2CvUJdBBGonfrP6MDovLfX6uIequn08y6FKjlGXUi92Mw1FtEQWatMkeZvPsufmWfmuz7pk/4HNvXI26Fs3O/KzTSmZ6rNTeJ2h9Ayim1uV4NjC54FJg1G5PhWzpNj1PC+o+fPJgDqDx6Jg9RZPCCDBn3CJvPRQZBBJEEH0WQMBmwVD0NG90GnYbe6BGn7+SoM3kCZ5QINO8+y8V2tbOfM0wC2lTiebFctbh00+XtuyRJw7S6xsV2O0AnMtr6GheXQ/sddX6uYRBG8kK22XveYwPSUAAgXCsCw0AH4JmLcIFpG/CsNB3v7oEaYgxsmGeV1RWkiYQaYBAt7IKaOohUG7pCkRJ28kBvrdB8pzZpPaLFwGgtrmZPmvrfZgfuMJaY8vJfK1vtL214PGD/AFVY86zuFj0yV9Sn1h47cyex6lLSIutMq3EdOqA2ZtCADbi0HhOLlICLQR5cpaYbtfzVEhpiYCBax/4QU1s+SFR4KNmn3lVxcwd4KywI8XQ7qgZ0jpYlSFVEgOIEdFVtgI/JA+fVVptEwOoQPSABebSk4fyoAEtMaiAN7qmi0C/uoG4Q0CR0uiIHi+CAi4kB0XVXg9EUw2LwQVWjUL79FCIfKvtEzyjmGJdgaQAp4Zzh3v8AO7+Iell83xDGhzi10dSDClJzuzaFU8VjKRaKeIfAsNRkR7rew+fZlSqnTWpuAN/3YghS+lS3LVdW9fLo0O1Obd897HYW/wCH91t5ea6NHthnTnENdRpyQCRT1XHr6LjPx9N2rq3lsN7W569we/EtFQEw5rA0gx9VgbnGNxFYVsbiq1SofwOL7ATuB0U6KV4h1iZnlgx1Zldg757nBwuDN/eTM/ku5keBxeLYJpVRSF9bmw3T5Dn294WNS/TXNnSsRM4h9OyKu84OjRqukxFP/wAQP6LpkE7R0hdfj6k6lMy82rXptgwOPmqDJgQu7kA0C1vzSFPebXQXoMGNt0aYNwSgd5VtBg7T0QObC8n6LI2ChyegEz8l8+7beDtDsL06Yg7E3XLW+rppcvbdkXTQZIMi113c8bqzB0QYY2F5tD+x21fo55YSLXSa0iF7nlUBLd/coDIcTJg9LqoqJ2Cd7/VFU3i0+acRKsBhxH9FQFvJBekzaYTIEbC6KTRBED+yrTMoAMjblU1pHI3QfI82DX9pcYdj30E+6+udmWaqGFAB569F8vW+z3RwyYxn+rq/+ZWLQd19On1h4bcgNk6uqQabTstocKovB2QUG2FvdM0/OEQd3tc+6ksuLwgAyN4sg0xPCoemzoEIQfPWjxdCBYI1XBvsssjUdRmVRHAmB0QW0SIAkHdAtvCira4zeY6K2AOJG3RAQbi8g7oi41DbcoKLdQ2jr5phuoR1tIQAjVp6JxFpBtupKqDYJJ36IZcy7bhBThImxvIUV2nuKpAJOgwB1hRH5/zJ9CtVq06jtFUEiSbH+q5RyrFGpGHZ3hdwDFt1zi3R9ia9e8E7KMyDWg4LEGdtLNQPohuVY4GKmGxLDzNF3hkrXepMbSdu3pt0MvxgcGaXAbkmm8W+C6QyHMmBrmMuQLGlUv8AAFcb69Id6aV3QwXZXGPcxuJdWa134hRZcR11ER8F0sL2Nr1adQNFYibOkmOoIA/Nee3y/wDrD0V0P+0vS5b2WoZbhm1MSyhhmgB3f1nBuwIsTfrZbRzbKMO/RSfUxlZv8OHuNXqbRBHWeNl5rRqau88O0dNdqsmU4iq7OqeKx7qdOm1rmspss2m0x8Tble0YWubLTNrH819L4+IpiHj16zFji4+CYH/K9DgpjIcJ2VFojyRVaZTO3EKII8R6pupyBckoG1hJ5T0dLIGA4C8fBeA7ZiO0ReRMU6fkTYrnrfV00uXsux5HcMgEgjfhegzgD7842nS3ZeX4/wDa7av1akAQBumACf6L3vKYZawHqg0wIHCGAGCdkizc2QBYRZMMgeSBtbG4VtBmYVDO14TFjBn2RRxzG6tokzKBmx3v8E9Nwdhwh5fI81b/AOpsYLH9+SZ9eV9b7MgGjhTfnr0Xy9aMWe2OGXEtP3mr/wCZ+qxEaj7L6dPrDxW5KCLWTAstoIPT2TaOhuoL5urAMAqoWnYFBbBKoQaLmN+UFsnyQW1oB6whN1fN2AgxaVegX+ijKi2fxWHXzQaZEiD0UMGaM3HoQl3cEGY9EFBpAEj3lU1u8D2UFtJ0/wBU5nclA7QCdvWFekGW7fVAmg6RvJueU9PUbKKd2iJ35TAIB2tsED03Lt/deM+0nP8AE5Xg6WDwVTu62Ia5z3gXDYiAeCb/AAWLTiB8XzKoKrjJIJ69VqtaW/gc5p3sTuunMOfnLepZxmlODSxlQECx3IXVwfa/OaTQyrVp1o5qNu4+cLhf4+nbmHWurerq4XtXm3dB33fDF4k6nSZ6COgv8Vv0M/znEVHGkcGJtoLLGbSZPHReW+hpUh7NO17/AKdijjs8aym5uKFiG6RSY0kdZjzWarWxOh4fjccS8zUaKxa10NEwGxGxkrzzMRP4Q9MUjy18Hl9I4tz3vZrcCNVR2qSYm5kCZ3HRJn3fDtZL5qOgNYwHVvAE+hO3/CbWtO7pGKxs6ODbUrjV3VRlI2DIEud5+XluvZZA51Km3DVH+MtNQM/lAIBB6XK6aGpM6uIeXXiJq68RwnEG1zK+o8CiJMnZMjiNkDggDZU3e525UAwDkGSrDRF7qimwBYQqg2ICKImZHxXzrty3/wBREx/7TPbdctb6umly9h2SeXNbBHWIXpM0E415n+Eey8nx/wC121fq0y2L+SYaWzPqvoPIoB1o2VtbHmgZEASkW3I4TlRpJ9FWmbGxVQ9F1JBm0phcGGGwFz1T0mb7oANgcK2iHdeFUBiYulMFTA+S5pftLjiHt/3jaPNfWezF6OHsZ0nbiy+Xqz+T3Rw2cUP9TUER4jud1GiBfhfTp9YeKeQGST16IDYcOnMraAt43VUxawuoAN5hUWHgKhQbQZRBIN44VQy2wjdMNIMQR0QDW238XKElXzeQCsgdNiFmWTDhKtrobteZTAuWi5ICsNBbYXQSWzuSYHCRaDJtKgTRLYESFX4XXmPVAaQHExB6KtMjwoqraiOqYkAgKIYFuE2ifDdFPTDgSdh8V8w+0+rTZmbG1jNM0wDBBcx1+PRZtGYMvnVXBtxjXOwrxUDXQADBHseFq/sfMm3p4eq9p20i6zGpFdrbJNJneqDhcZT/ANzDVm23LCfonT1se0vGm8kGQfmFrqrPEkRaOYdFmMeG0waWpzABdwiBNj8V16GaNdTaxuFe6kTN3D8RIuAN159SsT5evT1JjbDrYPG4t1PXQwVXumDTqh7yfgIW6P2vWIbTwwbRmXaYlkgDVc29IPzXlnorO8vTF7TxDp4HsvneIqBr6lQD8BAMFzd7kaRC3quXZdlVaMwxjO+ot8AZDyGh0EEN6T6rnaZvtWNlz73S/PDTZoy7LnYd0ubrxsDS3RZwaDuHTvbZdXs7Wbh8yrYnFVqj34iS59V0neBA4A0my6aEV07ZZ1aTNd3tJBuDIi0chUW3gDzX04fOVpBtugtMWCBtZDuCqYwT/RVTNPqU9MkTt9FEECfLgq3SBuFVBsR6L5129BbnzZ2NFpj4rlrfV00vs9X2PdLKZ5gL0+ZycWTG7R5ry/H/ALHbV+jVLSY8rqmt9SfVe95VAEmeOioCdhJ5TKGRIj5pAIq79LdSnsbhVD023TERwgHNG8wnp25t8VTgFgmYugt6WJRQ5knzF1IpH4oj5Hmfi7R47gDEEQek7r6x2X/6fDEGbHy4K+XrfZ7o4bmKviH2A8RNliAI33X06fWHinkwI2lPTA4utIex29lbbb7op6rzwiZ8kQbXOyYE3IgIEWgGUaTYcqoYmOEIr5m0HmdUboI1bGAOiyydmtP0TbU3sLC6Bh8vG3osrHW5ny4QbNMgDZXpBM8lBjcIsLc+qksOgFx94UDi8kym0HSZ36BRTaCXEXTaD1vygZtaCTtJTvubGeNk/wBJee7d527I8ifUwxAxdY6KRgHT1d7D5kL4XiMe+o2o2u9z+8d3jnOMnV1JN1n/AJMy0amnSHNLhM3B/os9LNMdQ7s0cS5pYbcz5HqFq1YtGLJFprOzpUO1ma0AAw0dMQRpN1vN7Z46pTDH4TCPAcHSZkfqy81vi0njZ3rr2b2C7YYmTryzCue4DZ8AEbnbmy6GG7VZu/D+HC4OiNIHeOcRJ8hbzXC3x6RzL0U1LW4hu0+0GdVabYflrC8AyKRcY3J1E24Q7MszxQq1BmVcanBju4ptptBsAZF/6LjilfrH/wBd4rM8yqi17nD7xVxWJqUwGTVxDiHxLY6cn2JW3SbhsNhfG+nRoGm2QGxO1vIz0/ulpm2zrWK1aDatXHYguweqpRDgHPLgGsdtYmxsOOQeV6fBYbEVqrnVKut8BpcGjSBf6zF+izecR0pM53ev7O4kYjBVKTCXHD1XUSY6R+ZI9l1SLcL6ul9Yy+Zf7SrTa5hOI9FuGDAuZHmqiBvugdw0/FUASCCL/RFDWbH8kEdNtkFBsgcxyvnv2iSzNqDg4gmj/DubrlrfV00vs9F2SkspgEQY+q9ZmHixRjoF4/j/ANjtq/Rrx0sgCCLyvovKyAWHPVSZBsqKDePiU9Mk/VEMs45Cd5II90FQQLIA9EMAAuNwmB4jBgBUI28wmeEUEO1QR7qukSR9UHx3Mr9pMcHX/fOII6yvrHZb/pcNF7E29F8vW+z3V4dKoG947kkpCm0Nk7hfSp9YeK3IawX3SFOXLbJBsNjZOLXQLQQEaJPoqEGmURwNjugvTe1ynbY+6IRm0DZCK+ZtdvpgkzMpAcmx+iyyk3kWvYWQA6Rv8fkgezZn5JzAvN1BsU6gH1WyypI8Q/JDDIIM2KlzQDBG3mgCwEbeiUQDBCBAxGyA6RPuoHAmf4iN0xvIV4V4D7XmPGXYGs0Sxj3h3MSG/wBCvkTmCuHd2QSP4eVziN8p+iOS5g8aqOFrPETLW/mtephcbSZNTDVg0c92T9FqurSdsszp2jfDAapa4agGkW8VvqtmhXaHtLi0if5gtTESVndu0sVRDxIBvtY/r/hdjA5jS0NfQa12kXbUAdrXm1K7PZpamG1hcwqU9XdYLTUsPBawMxYLp0KWbVzpDKtBpOsawdI32Jjz+C8torXmXpi8z4bjMmzPFsqsaagL3Q4P0gFp6BoMbdQvQZZ2QqAtOJqtqFoiKrtREjxWMgyI4C5zqx/whcebN3EVsiyMso4mq5xAljKQ1z1ETI3+q4uP7T4rH0qmGwOHGCw7qZ8Tb1CNiQZtH5q00f8AldJvM7Q9d2BIw2EfScTD3WdMiR1PnK9gIdf3K+hpXi0beHj1a4sqLCbpiBxK6uZ7nSN0aSbGwQGzuDAVBpJm3ogqCdkCYtwgfAB22hfPftLtj8JqJDTh3X//ALQuWt9XTT+zv9jDLaU2mCQNl7DHQcQ6T5GV49D+121fq17AzPokAeTaV9J5VgT5yjSb8xdBbR8OqY/Ef1CYD2IgAkpxBEQEBEFEAtEqhk+EAeyTmy0QUgJw387Kmx0MIhlpm10zNrXVV8ax5ntRjXCIFZ9htuvq/ZU/6PDQN5+hXydb7PbXh1qkiofVSAXTAX1KfWHjnk9LrFW0aeAFpkmt3k2KA2Z8kCcOuwTgA9VQi0bTdBa0iB7oEGiYtKIMeGERYCFVfKQ0gE3KYdufisMKZeTPx3VtaIEe8lBTWdb8ygtIk9dlFU1u5PBm6yNNr/i/V5QZabjBHzWSxmSNkCDpED1Sj9QgNBcAOdkH8QEfBFU5mkAtgHYQm1p1QBB4RHxb7QM/r4vN8XQdUnB0yadJoFoB/F6yF4GtBlwN95as033ZszYfMsbhXNNOu7w7Arr4btdjqRIrNDwYJ8W3oPP81z1Pj1u3TXtTZ0W9scJWIGJwA0jowOk/H+i2qXazJ3NDH4Yta4jUDRBPWRC88/EtHEvRHyKTzDNT7UZA54a6i8h34qhoTHyn4LPS7U5AHEjDVXFtmvbQaJ+UrH8XUnmf/Wo+RSOIbtDtxlbGEHB42p4beINANt/F+XCofaD3dScFk1EMcLh9YiN94E9CkfExzLffz9WDDfaBn/8AqCw4KgxxaWj7uHd2R0LpmeZlaOYZ/muPpzisyrua4l5aDpaHHkAR0E3XatK0+sJGbb2a1GrTc5kmHvP4nD+aBfqvR5ZlOZ493eBnc0pB11hct4AaNz6wFw1bdM5l3rG2z39OnSyHKm1KzyDpLabTZz6m48p+i9S1ocxpaZkD5rp8LMxNp8vN8jmFxpPomCbDc+a9rzm1x/4TkyAfdIFA+SoA3FlZBYgCL+SYEGJ+CgoDpEL5/wDaaB+0ssbpBBw9S+5nX0XLW+jpp/Z1+xLge62tAhezxkurOMQYi68Xx/7XfV+jCG7bEphtiT9F9J5Di8yPZU0A9VQ4tN56JsBjbhAxzwOiZ6D2hAFsHomxsoGQdW/wS0kuVA1pJE7cJhuxIP8AVBces7JBoF+FR8Wx9u0WNc0/++8H4lfWOyrf9LhpmwO3ovla32e6OHXe259UXHmvp04h4Z5OJBJQxukkzutIogECI+KmLdboCCDe0pmRYcICDO0wkASeN+FUMsAmR8ECxm8SgrSJ3Qkj5Y64MGyx6ZF+OVmWVBumIJsrbaCQL2hBlBlo07BVpbHhnzRQbTNz5J3mfioKkAeY5VEhv4j5oG0kiWjcwVREkTz0QODaB7ptsR0RRI5uVhxuJoYHDVMVinhmHpN1Pd5KSj8/525rsfiHvB7qo9zg7lsmQCuHWwrhLqTmkDzXOs9JaMtR+pgl4g+iqS+dABjoQV2zEuazSrMI1Uan/wCKlzHaNRpv09S0qZj2uJ9HR0vBDYMXMDZbrGPDdApvLiLAUyT7KWlurfo4TEFoqjDV9AvJYWgwt+hg8VXIdToMFMGNRdvHJi/PyXnvqV9vTStvTrDs1mmJLm02MaXN1sJBIcNzcxHovQZZ2Dc9rBWbiRqYNTdQjV0ho5FwNS8t/kRH1eiNOeZeuo9lsDkLWOzI4bLqTi1w757WubB30mCfXyWtV7b5NhRWZkmGrZjVBLTVqN7tgdMAgkeJtuFwiltT8rNZjirzrs1xeYZg7EY/EGo43FNtms8mj2HzXv8AspmDnE4Ss9zv42T/AAk7hemmpFJrHhjUpmJen0z/AHTDYg7L6DxARwPJKBfqbIG0G4MQLK2gwSd+iB6YdbdUOYbfqgdyQDsvnP2rO05plRMnTh6hI6+Nctb6uml9nV7DOJbQImIEr3OIg1T12Xi+P/a9Gr9GFvWD6LIBJlfSeMy2SIICGg2gA+asCrTvsgmAgZ8VyN+EyCDax4SBY1zJgBIHgmyuRWkjY3QQTwgA24JRYRzJQABIk28k2tLnAG10HxHGuDe0mOJbpH3h/uNRX1zsuIw2GEQIJInay+TrT+T3Rw7LgZIF45SDbTC+rT6w8M8qIBPTzSAgCAtIYbJ8IPmUBgAuECLSDz9U48NxCqF1i6qLCLICEw2/EwgoNMk9EKq+Th0bm5Rs6x33WJYW2GgEfPhPTBkR1HoimASdoHKoOBYC078qCyOgQWxzNuUFFsDbdEEtlBQjYEbrI0yEwFAJO0Eym5lyD8d0Dgcmei8J9rGLezA4XDNc6HHvHgcgWH5rnqTssPkr8QTU0us+IE8rUqNIcXMJY/kt2SISZy3sFm2Iwbhrw+HrsI5bcLoUu0eTOYTjcioF4B2ptOrpfhcr6FpnNLYbrqxEYtDoUsw7G14NbCuw4MDRTa9kHqSLQthmK7FipRDX4oNc4y5teppAjY3nouM6fyP9dYtpNyi/sWKcsxNVrnNLyG4irDRFgf8Au8jvK2zjuxDaD31K9Sq4MDmBz6jyB/LPvsbrnamvPh0i+nDZwfarspQrvZg8K6lRcQ0ilh3Eui5IkbHiYNjYc7rvtByPCsBwOV1XOiIaxtNo5IdsTvuOik/FvM/lLUaseGrQ+03FUKWinkmEq4rxaatV+pjRwNAvz/NeJtstfNO3HaTNKVSiMyOCw1Roa6lgaQpaG6fwl13Ob5E7yusadNLeNyM35cGnQFQ6q5dWxLWiKlWXOjzcZstvA061Wt3eCpGs5jpeHOGkkGbnb2+Kxe2d5d6xFYw9HlWVuw/+ord27FuA0N3a09G82XojjG5IWMMPxVSq0PaL900Fsk+cWjzC8tZ69SC21XondqMAAY70x/2J/wCKMAZ/3hH/AMZX1e/Tw8XblX+KMuv/ALtv+xDe02XOBGqrb/sKd+ntO3ZQ7T5c0RNX/wDA2SHabL9UzWF7/uzKvfp7XtWFPtTlbSS51b17spv7X5SyznYmegoOv5pGvT2natDA7txklMw92La7e+Hd9V4ztxnWBzrH4Grlrqj2UqTmOc5hZcumADvZY1b1mu0tadZi2703YUlzaMzJPRei7S9p8syHG0qOZVajH1WGoxrKTnktDtM2814tCYjVzLvqxmrmM7fdn3ugYqsOZNBwH0Wen20ySpBZiajp2ApOX0p1KvLGnZsjtRlcNirUP/2ysv8AiXLAABWqO9KZKz36e17VgO0mWmxfWB86Tkv8SZc3+Or6CkSnfp7O3Zk/xFlwdHeVYG57pybe0OA06g6qd4imU/kU9r2rGe0mXl0F1UeXdlUztDgST/vQBN6ZT+Rp+07Vjf2jy5oALqs8/uykO0mXOtrr/wD+ZT+Rp+17VjHaPL3Waa0n/wCIp/4hy/VGqsD/APxFP5Gn7TtWP/EGAkDXVmbTTKY7QYC2k1D/APbKv8jT9r2rPjtesKueYt7RLXYh3lIkr7F2VE4SiJkwfovnas5tmHrxs2qudYOnXdSe6rraS0gUzv6qBnuD61QL/wDtlfQrr0iIiZeOdK2Qc9wWxdVnzplX/iDAE3dVH/2itfyNP2dqw/beCFtVSI/+mb+6sZ7gf5qgj/4zZP5Gn7TtWZcLmmExVYUmVDrOwc0tn36rdczg7yulLxfeGLVmNpBEzFiTCkM81tFRIMn3TbJHQoKa0TAvZCpl+f2520j+Hy8lf7cHi6DyWGFszvxARqHqszM9ZqgiJ8tkiRsMzqi5phwMG/RbVLM8O6xI67KGWw3F0ou6I6lZGYqnFjFuVVZBiKbgfEPisgqCJJhSA7ajvdZGC0H2VVQAaZcJHkFQgACPnCiDUBE2PH/K+XfarmlIZhh6FB5fUosIrNA2BIIE9blYvGdlicPnVSnRxU928h5J8BF1pvp16TnNcC9oMfJZrONpSfcMTqgeD/NsRKg7R4r9WrpDOSFh/D8VkGkHjad1cLCnRztHKzsLZ0/uwCIJJ8+FmYaiW7RBpsJBhsbtaSD5WWzRw2NrU2vw+FxD6FwS2md5kb8brjaYjl6IicbM+DwlcnwNpNLZDw+o1u/lcwu7g8kxFRjiXOLG2ljYbUnYhz4FpvbovPqala8O9Is7GVdm6rgNdLvahgtaZqECbHYNkRyD6r07sDQyc06mOxFLDd5U0tdMucRv7/0Xita2pOKu0YrG7nZh2iZhmFnZ+i1rnE68TiWGR00NO43vt67Lk5NrzPNsJhwXVqlR7TUqOJc9wbBc5x5sInoV1pSKR+zfGZd3GmlRx1eiA0Cm4tAPA4SbVpPaLSPI7rfhxyum1hkkX4lZQBpA0tn+Y9VMLllDG6QS0SboYxn8oIFwCZVMgsvDGm+1tvVSaY342gi6cCXYZj2eJgEf9q8/2gw4o4jDBogOa4kj15UymHt+wT5ZRgCJsZn3/wCEfavk7MzzTAPdqEYZ7AbQAXzC5xOLZbtGzwVbsu+5ZVcTsNXK1anZ3H03l1N5Jde5XojU/TjNPTUdgs1w9nBxG/mTxdUzMsyw27XEA7O/VlraWczDPT7V42nHeMaAOIj3W/hu2dIkd5T0mdvJSdPzDUXdSj2ty9+nU6OCNM+i6VDPMuexrjXYNVhNliaTDUWiW/Sx2HfGl7HAwbbrKa1AmJvEwZWf9aBdTIkNBP8A4qmODhtMc+akLucRuBPAARA1RodPpKLiV0i3V4mPjew3WZoJt3TrImHzqi7VmNYtMaqjpB48RX2nsr/02HgyADuPJZvy04uOJOMxHhka3RcbSsYBNw0kRst5ZwQEQYB8pV0w50juwJ6mQpkwZ7wWDGXGxd0QSZh7WiT1mUyYZGNLaofSeQ6xBm9l7PL8QMXhWVZAd+F0GYI3/XmvX8S28w4a9dstlw2iFIsZ68L3vMbTq8oVfisEA2x/JCLs/JxcQ+NUg9DZFOpBBjxXEcT1XNygw4uJBkN9ZIumKrgSDqBBsTaFMqp1eq0S4QI9ZWRmNqtIAfYj4IMjMwrAktO0giTZZW5nXLbl2qZHilMjMzOK2mQTHMLPTz+rTc2XEO/WysTKttvaKqTDJNrgGY81sM7TOa46vpdXORt0+09OQHlthcz1Wc9oabg0NI2UyMGI7TU8Ph31ZadI1b7r5BnmJfisdicTUdrdWcXOI5BMrFuYXw5hAIbp+KplWrSZpY6WjhwmFqYidpTjeGXD4mgC92Pwnft/hNIhvxldBo7N1msdOMwpMCztr78yuV41I+ktVms/aG8zDdn3N1MzitTa03FUtNr9W+i6tPIcvqPd3WdUi5oDoIpugnk2HC81tTVjmrvWtPEslDKcuYH6cywwqCC4tZTho4kkLbZgsup1XAZ4waS4fhoyIjV/BuJ3XK1tSdun/wDXWK1jy2amFyqk4znNR7WtL9DMRG0SYbA5FkUndlWEufiaVSsXGA0Oc+CdiTufLyKz0as8RhuJrDPh+0GR0NRp4LH1CGwwMpNZPP4vKB8bcrdxParu3VTgMroMpPYW06uJcS5h/n8Nj6Hc/BX+PEb3lrMzxs0cwz/NMwZU73MDTw7y0Ow+GaKTXNHAI8UW/m8+VyKj2Nrd4KdnHW5zvE6STck36zKs28VhulYrvLNhcDjM7qM+5U31tPgNUfgBv8T6BfQ8ly/A9i8mr4uoS/FVaZJc/wDFUcAYawDaTx7mYXOZn6l5fKM2oZnmWNq4yixzXVCXOaw2kkk/VaX/AOtYJwGis23Ale2k1mMS8V4tW2y6faTNcLY8D+IcLew/bbGsIbVoUi70I/Na7UTxLMasxy6OF7dsFq+Gdf8Aib/RdXD9tMrqwHuNKNy5my5TozHDpGrWeXTwvaDLK7mj7/RNvwzEnzXQpYqjWpgsq03AyfC6bfFcprMcusTE8Mxc1j3Bp8R5XlO2dsTgyIGprufMLMrEPU/Z4XNNPUQTxdeq7ZtJxeFc1rtIpmTH/cuMb2bnh5sgukzBFgG8pFoc6ACDGwC3lnBik0t256LHVw1FxIdT13vwFcyYalbLMJUgOoNkXPgEj3WliezGBqkywtDjYjfqtRaY3TpiXOq9jMK9w0uqA7SRM2sufiOxFUau5xQJN72W41p8sTpemk/s3nODINIuc3Yhr7x7lY9PaHBAQ3ENZxF/kusXpblia3rwzUO1edYQaq7dQjao2JjddPD/AGhYkE/eMLTPB0HSp2ong7kxy6WG+0TL6gIxGGr0yRu0Tz1XXodscjr3OOFMkEHWC1YtpWjhuNSJdLBZvluLM4fF0al//qAfVdKiQ9zTctJEEXB91zmJjmG4xL5fhXmpjqjmiQ6q9wHH4ivtnZSRhMOA7gxPoud+XSOHOxYBxVYiI1EkgfVS2k0ggyTaIhbhgxTbfwkyeibqQvqBj1utJlruoMt4HTtcQAqZQaPwvbvsPnwsqZpbEFrncdFu4CvWwmIY8CKYdpcBYOB3+C1S3TaJhLRmMS9eCCNTbtIkHhPTLd19eJy8OCBtHHmg/iuY6FVDLhJ22hCD8nbOcHNLSNxNgeiokW/EdP8AKuTmxfxnciduDKskuc4GDpMAE7ovJElw1SR67C6HAmYjmDCkQG6SHQLcyfqmw+BzYFiBIsoLLiAZEAcdPJSx0EiRa0yFI/SgFw1S6ZNyLWT1khpE6ptzZWQnPcJM7jjg/qEOce7sSAd7JkcvNcf4DRY4x/EFxn1GfheAaZnSRuP7JjKtWphqjXF9EyDcHqsPfOYdNVkecQtROeWJ2Zqddj7yABuYsfgjwuPgInkEpiYazEtqlSYWEuDXGOlh6rcayk4kinTbpIEtYPJcrTLtSsMop4cBrQ1kAfiIEb/8pCjQe4Hug+AT4AN1nql26at2lRomiJFFkssNMkf3WR7m0qBLnN1C4PQefnK4zmXesRCm4hpDGNDnF1gB7LqOZVr0tFPCOIAEF8Nc70BuVi0e2uuJ4dLL+zea4kDuKD9BAjumaoHBvpAG3K9bl32e0MJhhi+0FfumN/eVO9OpoEbnZoHrPquM38UM+2xmHbDKMkw3dZM1mY4hrtIFExTaBH4qhFp2ESZXha+bY/N8Wa2MqPr1iSKNMbU5vpA+EncwtV0+iMzyzE5nL0tDBnC4Shh2gEtZDp8Uu5380iyrtANpIgKxLMpqYdrhpqUaZH/dTBWlWyrAVnBtTBUTO5DAD0WuqYZmsTy51bsrldYeGjVp8eErQr9jMMSdGKqt/wDIArUa8w5zoRLRqdjcQCfu2JpPb5ghYj2azeiHFtDUBcFjxK6d6s8sdq0cL/8AUeDbLBmNNmrZrjCdPGY/FVmMxr6rhTkDvgZbPmR+oWb9E1zDpSbZ3fTewDhTdTDjp3u4r2Ha2q3FBrWvLW0jfxQD/wAL5826ZeuK5eV0P3LiXbzKGB4OlpeOt/ousMTsoMqOENBnbZOm2o6zQHEcalcJk4c27gYG+nlMh2kCXEbx0C0gY3W0OFQ6QIg8LIxlUU296fCJIgIIcKo8JptIGxCmiS4EOH4jY7yhhkdQo1XkVaTHT/M0EbLVPZ3LMSZqYKi4kcMi/srEzCTES5+L7B5PiGS2lWou3kPIBC5GI+zmmf8AYx76fHiZP0IXSutaOXOdKJc3F/Z/j6bnGhi8JVcBadTCZ9f6rQd2f7SZe4GjRxRgwDh6pIF991vu1naWe3aJ2dbJMuzBmIa7FUK9JzDqJc3cr7D2axFT7jTIoueGCHQ0mBG+1l4dW8RbEPZSuath9Oi9tR2kkuJIELUguA0tDSOYXWtsxlzmMTiTc2oLucYi8iFiLnDUGxfYN4WkWGDS3wOMAiTNxwovTZIgk2AAINuVBkbWewAPpzaTAlW6rTcTpkEi15HtdB2slxbjTdh3vlzPw/8Aiup3g3m8L6mhbqpDyXjFi1Hba3KmSXXcYXZzOYBuSfNCbD8rO0gXaC1ovNpWJwdq0gA8W4K5S5MjdVtxa8cyFOp0sBJna5iFIWBdxaS64uSLIb4RYi9pBugoXa2DdAkcbXASQACpAIHnA3Uj8RNgTuS3YeaZBInctBHImb8IaQ0HRuLTNlP9VHIIuXLDiqpoUSX77NjaVCHArOc9xLvEYmSbrUNd1B9yA0/r2WohM4Dnh0PDiwnlhsUOe4MkhlRvXkpj2v8AjJSbllRw+8NxFAnlrZhb4yjKa7g2hnttOoh9MT7SVi1tSvjMLWtbecOnR7MUn4ZzqWe4Rwa0OE0952iDt/Qrbo9icVWc3TmWCIc0GPGJMT04/quM/JxzV2jRnxLNQ7Fd4KZqZnh9VVx0sYHEgD3sD8VuM7AFrnubmzOBoZScYcbCb8rnPysf8W40Z9t6h9nwFZvf5m11InxaKBMdROoxAnhdf/BmS4DEAYrMXUapcXU6dZ7GAxsZgETxe65TrWttWHWtYjmWxhW9iKGErP8A2rhH1QNLmVqrqjgSYOkEEWO8b3Rg+2fZrLG1v2dlD8ZXDi4VHBlKm4bSDJcJ6gFajQtbe+0L1+KtTGfahm1YGllWDwGV0n/7bxT7+rTttqd4SDt+Cy83jsfmOPaH5pj8ViQXd5oqVSKYM2IbsB6BatFK7Vhqlc72alDB4vMjpw9BzqIJa2pdrNt9XO3EhewynKWZYRXcWVcRGoy0wzjwjj6rne2IxDUe/Dcr13DUHOh3J3H6sma5JkaQT4SPos5mGeS7x4aNbiPVLVAtUAJMOtuFc5RTXOgjU0kC1/n5rK1jnNDnP2G5dE3UVlLW0w3xCSZuUmth8F7CSIMW/XooMlOlTeGB4AaLGDJV/csO6oX6WudB8LhJ9/ZFh0MBSbRfLdA3ktdytnGP7x51uG+5vPmueGstGuKZZJFgbBw6GVLXaZhmkxMR8FpMm2q5rjDjIPi0kBI1CQ0ObBnxReVYRDaj4ECWxYn42WQlpu4tsCDeEDpVmsPjdp6Ejb2WU12lstqSZG6sbphbn0y4tL9UCZHRTrcJMmInYGEMLbVY6+gSB0MlZqVQaiTTaAfxN1beV0yYUK+pgJYGtAgCDI6rIyo3um+DQWmQWmyZ9m4HjBsXGebgdUCiA4azERA4TlW3h6bdRaIjyNxzC38OTohrYLhBgwTdTpjOZXO2ElxH4d9oJU63zDi3TxELX+JyHanEyA4kgbrDUpCGhzWEzu68KosU/GADckuIjcqajXXFjfeNz+igksfJ1F17G03U9xLfHJ2kgR+aGWWhUfQrNe0O1NIgyLjm69JSeH02va4FpFl7Pi22mHHWjfLLBAJcd+Z5QTLfCSfzXsecpI/EYJ5Qqj864rI6jPwsNpsDZc2rgKjR+Ai9lzc2CpSLDDmkELGYAIA1TzFws8HCWtE6jqncwQAkA0lxAIHQhApAAGwItfY7pkAhxkeQPKf6Bx5cT6EKZ1Ehtgd1FMzZ0zO/EJNaXHeeJ4+KSIN2nUTB8t1r4nA4vFUGVKbD3AJa2Tv5/VYtaI3brXq4c2tlmKpgF1OoPQErn4mg4EtqMc2Nw6Vqt4nhm1ZjloVaNSnemXRvCwmuQdLhBXXlyzMMgrEi5+KoPa67gIRrOWQCnaABwYWxSN51OHmCZ+qktQA4texzXGAIBJIj0WzRxFYPlleqHzAOs3+azMQ3EyzGqXM0Pk2tBMn3JWXDOY94FQDQDPiuSucu1beG5TJrANY4OLWwAySZn+XeV16eExlLCF7aDxhS4EOdFKnqFpJO3Ikrhe3iXenuG5gMidiZqDGtdUDY0Yak6poJFtTjDT0sSF28DlP3egGdwwEgeLEHvKgFiYEaWmRxqtyuFrZ2h0iJjl0r02gNa95AgF1yB6koD6pmab43kRYcLnjBM5NlDUYIIMERb4pdzpJbUGouNtoVZZu7cLgO1OIJJmUu6c4iGvg+JwHsp43FPoOadUPAB28k2TB0AgEyBN03VTWPqAgkl8/htf1WapR/eDvW/vI2kX9AFIAcN4wDBJEiHCT5fJOlTczw6TBvIP06qrlt0WaXgaXtBtYn9cpV26w0glp2EPhTBliLHAgFwIImE2UgXOqOnVExM/rhMGQMMdRfog8EjyWMU3tgaXSI/hsT0QyyaiAdbXCTI328lfdMqNAGsERfSBN/6JhMkQxni0umLSqk2GgmRzeff2ViBbXamAOBjY6Rwrc7wu0ue5wub/BMQA1tbhrcXO6ysgcWm4OjeXIbspqM1aXsBc0XIVNqtIHgmLATsiYlbapJBBFthdXrPhJcTvttKphmo1SAJYDPnC2m1HG4bBHMz+amVwx1KxJh7w0E9DZT3wbIDiRx+iqYU1+8uL3bzafkrFU2JcCY6/krEpg3VGOhpcA4baYH5Jd5TY2xsLeEKjHUqgO1Avn1up+8ul0ugRbrKphkbirD95JJi1+PVdXJsW15dR1N0gagdgF10LYvDGpXNXaYJbuDwPJIkh3r1X0nlS7eSS7m6FUw+ZGkx0gjjla1XAUaxJLJmLi3zWJhycjGZGHAuY3fjouFjcnqtnTTcBtuszsOXUwdak4+A7RtJWu4EfiEuA5EKcwIsJdMzxAScYE6ZIBJ5hTkReTMW5RdpgwQTxZWFN4iAL6bG/zSfGog+JwmL2PwU3GIhzqjaLTD6xgEcDklemoUGYdraLC1rGgAQLWXm1reHp0Y8reabTBLNQmb3WOoyjUY5tWlTeI2LZXDO7tjLRxGR5XXBHcsbY+Jnh9yufiOyGCqCaVV4bzMOhdK61qy5W0a2aT+wtMiaWNex3Qsj81gqdhcS12mnjsM507Opmfku0fK9w5T8X1LFT7F5gQ7S7B1I6VHNPsk/slmguKWFLfLFf2V/k1lOxaFN7JZo1je8w+GcJ3+98dNls0eyuYG7sLh6YO04om/wUn5FfE/+NV0bev/AF0T2ZxDnMBpYKmBa76j4PyW83sw59JrDVwrXaYlmFFt+S+PeFwtreIy710m/gco7llFlTF4ktp2AY8Umx5aAD810aWX4IVBW7mk6qGgGo8l7jvuTcrlNpmXaIw6ArQwAvAaIEfrhSXgCAIJ3us4wSvvBpE62g3EpOrRT1a5dGzWyR6FUwvvnAAmoC4ROwM9UziQGCHBzjAMmZ8t1EwltZpcKZLmNDRBJIB9FbazQAA8uHMFAnVnafxiJjexVCtIIe7SZuCQmVwJJ8DajYmL7T1T1nTq1P0AC5sAbqZMM1OprIaCQCbCLTyslPSJ8bXWkTNkIhsU3wRLXSBYaiN1RIduXxN5korCQ6Y/eQR0t6pEOLRDnafxdSmUDe8DpJduqbUc7p1iVnK4hVNxaCNBI6n49UGo5oc8+sTp/L1+KuTEG6u7VAbpEEzIP6sqDnONgG3km5TMjI01Guc4iWk7xseVdnNd5X/DyY6KxJgp0Xlsi0QqbUJlptBseqfoVpDXTqJIG2qJTinDS4nUd5vCmMplkYGS7xeEmbnb3WVhpnSQ4ETFyqMktklwaBEmX8dFka1kHSNH/i4SqLD6ZsS4cHlTrpt1Q8kDfayAD2ERIknhZQ5hu7QRYGHq4RLatJpP4TfYOMhUa9KW6mmB/E2YJP1VFd/Qc4jQ89Dex81LMQCJFOoQ3rNvVMG5ffWAuaA1oPhgtBVMxzKb6dRtRtiCBG6V2nJOZeooVW16FOqxwLXtm3CybgwfdfWrOYiXinZWlzogC3VC2mXzaYmYsPgnaLTCjkenUSCIhQ/DtcAHAEHiFMK0cTk1GoPwb9AuJjOzLdZdSEkjcLEwjz+NyKvh3GGyOJXLdh6jKvibpt8FnlWFwcySfEBNx7IbNQNibWvyoInkSSDI8/iipIu6Gt2JKuRzcLXxJx5q4cNc4iIuYG/B8l0f2hjyTqos6QGuEX6SuF6VmczL0aczENwYnEto66raZfcBraZMm9gPWFipYzMHu0GlSpGYBfSdB9fn+isdFPLpmSOa5iXPa3B0wAY1NpmfKTyFhrZpmZu7CuB2Dg13XcJ26eyL2OnnGYsawdxTc43cTTN4/W62KGe5kyq2MNSAYQbMMfP3+CTSk+Vi1vQr5vmOJDmnBBjJgwwtMTeSBc/3WJmbZkxv/TUSYuAw33HX9SpGnSPJNpbNXMce+GNo02vbu0h1zGwg3397J1MfmfeOb93DnTALWuk+6k0p7XqlnOaZkWkuwrCDTggMPS/1QMyzNwIOFa6IDTBvtM3/AOE6KeSJlYzfMW4dxGGpNIabuEAnj9dYUHO80a/UKAc3VBYAR4Y3n9b7J0V9mZD86zJ1R+mnSjRLC4uYd9jB9NlnwWb5kaR77D0mtBMzq5vbxce+6Tp05ysTaGOhmuPos7t1Noe9xN2mG+ck7enRZaea5kQwNZh+8Jl4cJ0zwBqnkKdFPa9Usbc1zI1C6pSpv1GC1uzRtP5+YVHNMwghmGAgtA0tLiWng/n9U6KR5MyyUczzMd4ThwYuP3ZII8ll/auYiqQ6iBpMAtZAjgi/06p01OpD85zFlqeDY2ZnU2b8Dfpz8k3Z1mzw11HCs0kbNbF+QZ+KnRRYllZneZ6APulMkg6nFhmZt7JnOM4ZWdGFZpE6ZYSPr7SnTQW7O82ZWnuIsDBpn6SlUzrObCnSBIHFI+Ibc8p01XZk/bWbmlUqCk3wkQG0nGeLGeEVM4zaoHE0aYMwCGEQYEXJiZJ4iNlOmhEsbs8zkVYGHoN4Dn0yC6Bfnfqs9fN84dTc77vhi6bhrHdJtJsnTQzMIxOe5mKkd1QMAEvLYk24k2UOzzOwHEUMNUaC1svpwfTexV6KQchme52+oGDCU2iAAW0jO/In5+qwHN83Dqhe5jYgw0AE+Vzz+SnTVYzDJQzTORTDHuOkugFwh/JsevxWVmd5w1zfDTe9ws57fnv5fNa6aJvKWdos4NZrAyixxBJD6ZBBi43WOn2jz0kspBgk7d2SY8723Tpof6yMx2eMcfFWPeDZ9MGQBu2Ttt81t4fOc+dpaabSXNkO7i5BuDvuOU6aJMswzPtGHvFOmT/E09yA0z7zZRSx+fvqTXpNa0HSGgO1aombHbzTppJwGZxnLKj9WGGktkhwLr883RSzPOHhr30A10Rs7e8TBss9NFybM7zqjUcynh6bmxdwYTDpG8lZmZtnNeuXdy1paLaaLuYtuAVYpVZkzmOe98Q3DjQ1xDpY7VETJv8ATqsdTOM7DWh1CoJkBxD4HOw4sr00hMp/a+fTUptpuGjxFzg6Tf1usjM8zgk06mGYQGF3iYTJ93WT8AqOdZw/vKb2YckCBLDxfruoGc5rVbT09xoIMwDuIt+K/qpEUWMp/bWalgBdQcZgFjt9zH4vZY255mtKtpNFrzSF3kmCP+4at79FYrU3Ot2pzKm5mmjh6biJLYLeeBPstnB9p83dig3umEPIlkGN9je6TFOcmJfUOy+Lc1xwdZ0z4magR7L0wmwIkbr1/Htmjy6sYsGyJFgNhAQvQ5vmgF522TvMmSjiqTyPJAJv+agoGB5eqo3IJ45RWOpQp1JDmh0rnYzJ8LVa4vY2PIKTA8Nn+Fw1Co7R9d1wKrdjMNuZJn4n3XMyxgtaY1EjcytbM3VWUQxjHaKg3AMR6qSsQ5+GqOoj93AJEGTA910srxzQ6BLqlw1rXySJ3sYsJ4WbYdqTOG0KtZ9eoajIcNvHBI2t02281VMPNQMLajA9m5cIDpsLkdFy/H26x1Je+s5mrD97piXDUBcEkjfosLKWN2Y3/wAXB8x6KTFTMqJxtFsmpDRBdZpP15hVTbmjtJ7tzmmCdGkRzz0/qmNPyZszh2YikZpOFIS6NLSebn5+yxl2MY0aHhl51w2/rdJihmzdZVxVAMqFriPE4NLA087dJtPspL67i4ay9uog6aYj4m8zPsn4LmwNDMqTWVqtOoGNgGaQIkiR5iybGZi8tY2m0OdAnS2fh0nhTFCJldFmZCoys6dJHhkNkDkEjYwsncZrS8f7wAEzNNtzzfrz/VPwMyzuOOcBRqUHtjxu8An2JIt5X6rFQqYpztM2iAx7CZIHHEeRt0ViKLuzPZjTVdNMy5kF3hDQbW5/qsD8Ri2d+yqXsaHAl50kGBxaYuTPCR0Ju2GftOpRFdjqhoagC9oZpaY2J6bFa7a2PNKsGFznAgjQ1pJPWyzMUaiZKticcHMDw9tGoZYXtYBHJEewhZm/tQvbqcW6w5rneE36RA3ukRU3azcTjtcCs+kdzoqCJ8oPW0rM3FZnUJLWvDSJaXAGLRf0/urihuba2cvGlmtzReBBJtJE+d1VGvnbG2qucI2LG23tfjzU/BMslSpmxptcXh7jaNDTH/OyD9+Dm6yxt4A0sbpj68+aYr4azKqdWoTpqhukSNLWsMmPxRyQeFkAqNZUFJ76bmtuwtE6rEtmOom/CsVqZlkNWsx1RlACo4CIfSbvAvJHS3v7KaxxAcyaT50APs2JP9JHHXdTFTc2vxLS0NBp7hzQ1hE+U2jdYa9bHNbpBcwujw6GiT0Ajfb2UxWViZGrMDrLTVNRrYBgyPIxebEhZXPxr3NqmpU7t0FxNgy3w3CmKm5Ofj2U3G/eEXBaL3EQ74f8FNpxXdjS01KhJcIAtc3E2sfr5K4okdXKw/MaTqdUks7sa2GoWuMgLLRxeMe6t3WIdYAAOcBuDuDyrHTCznkMxeKc/S57mlohri5oBI6g229VrOp4stLyWwCYBLevmTun4JuQoYzu6fctY4gWAawOnn5pinjqFZoaNEx4CWw47+sXT8VzMnrxj+8c6kwy0agQC0iLGJ322hKpUx1EACoxsX8LhEiZiLKfibq+/wCcMot/1FLuibQ1rjEcrYZisyc9rqr2gabOEQSn4+lYMVjswouAq1wDq0zrFxsOUmY7N2vaGV9NwIFQeP4ccK4qJr4rMqn+7WouLjcO0wB1j5LHVq45jCZoU3udDiKbRYeZU6arEyyYeri2OJGh7BDHaKbQC0naOY3WZ9TMG/gFVouXQwCOvvAmyRFPJPUYqYwUWl9Wq0NI8btJg8T0MqWYzMX1CykHF0kl3J6cK4oZnyTqmdCkNTQ1olviGkgny+crfyepmrsYwucKh1jUdOojYTe4WZivozL6Ayo6nVbUY9ngIOoXNl7HLcW3GYWnWaRexAP4TyuvxZ3w5a8cS2xe9o+qF7nmfMyXRpuJPRBiRN0cVlvQaTwnbTq5Pz8lFDIBmyqIlwgnZPADLZJEieFoZvXNLD1CAdvZSR8zzSq+tiDIkAkAlcsg6D4YYbXC5RIhoAqs1uAYTDrxA53XYpYrCnu29/Q0tkXdIt0XDWiZ2h6NHHLKMfhA0A1KLAR+Fz/6psxmDb+N2FBtJJBt6QuMVs7ZhkGMwD3TU+6eIkkENJPrbe3yTdmWXG5o4N5Emwna/S/CvTPpc+lOzTLgO8DcJTBMOdF/TaeQhmY4Fzoovp6o0xq0gE/mp0WMwZzDBPLnVThzUJDZdUDj+tkHHYNwNN7qLWu4LhZJrYiYMYzCsMNrYcF5AGmxHRDcVltOGsrYYgEgidttlOmy7JGa4CR+9ouLfixRUzXKzTaX1GE1BOxiPO3UJFLGYbFbOcFXYO8xFN4gFrD7iwhYaWYZa10062Ea6IHhJcN7GyvTfkzDKcwyvuW03vw72iXAFogDqArGZ5Se7Z3uFLGn8OizTxFt1Om0rmGZ2YZWGkPrYYgANOobeWyQzHKi3u6b8N4fEGtBNueFJpZImJX+1MupsnvqB1SCOTx85+an9tZY5wYalFz7W08T0j5eSdFlKjnWXtY9lIsFMXLYAYREC3SD05Tp5nlumo5jcEwkXAsd4SaXlcwp2Oy+pTGHqVMCxheHEVPw6hsT6GUhmWWhpY4YKASdLW+EE2I29UiLQu0pp5lkwPgpYVriLRRA+BhbGHxmVBlRtP7r3ZuQdEAieOokp02MwyfecqLfwYHSZLhpbEwrbick0WGADoIcNLQYnrCTWxiGKpicmplhBwRc/kNbt8L+qxDHZLou3BEhv8NIRePL9QmLYNmVuYZP3RbrwQb00gCY9OiVbN8sFQPL8CbgFxZ9bXTpumyv2rk+z34J8CYNNp99ll/aWVsGjTgbEW0s6R0V6btREKONyju3h9PAgiDDmNk9DYJnMcnefE7BuJsPCBI26LOLGyjmeU06/eMxGDBN5gSflKsZtgWYZzWVcOaVSA9gAAfzMcqTF/JHS1WZtlLy3WcKR1LRI9vyW43NcmpGPveGYTAdDOehsrFbkzHozn+VGo1rqlMgjSHBoIjztsqbm+S6Xua/Dk7E6fntZOiyZhkdnGTG1SrhSP4bWv5wpdnGThwMUHMEDVAPyi1yr0WXK2ZxlGqo5v3QBrQbN2k+nqVkObZY0Nb/AKUyYjp8lemyRMMYzjKXOHePozcBum1+vTZM51k7nAmph3adgG7ellnpsptzfJqgDteGdO5gQPkrOZZI1gcX4UCCYIuPaFeiybD9uZU2Xfu9G0lkE/oKP2/k7vFOHjklkHb0/UJ0WyuwOd5KJaO6a6JJayB8VkGaZQ1zWsqYKTYOI6Xjb0SKWTMEMyytzjLsK5wMWG3nETys7cxyhrQGuw0bDTMhWNOx1QxnH5K5x1PYY5FPVdX99yjvHNa2mHM2hgE+n64U7dl6v0y1K2XUnMd3WGa0kS5+m3Tqhmb5X3pYyrhQ5rQXEPaBEWvCvRZItCqma5Y1jg/H4fSHbNqGRO3HK7vZPOsHVzI4HD4htRzm6gASdub2W9Otq2iZZ1N6y9o0wIF0L6TxvmzjtpvHXhUxwO3wHKOILyXlxbZWWyJO6kqRALieTZU4G2kASgoGOVL2MdIeAQd0mB5vtTgsGzBOccKzWQYIbC+e4hjoFiADYdVzmMTsNDGUe9p1AAYIsB6hc5mXaS4EVWu4II2/RXO1sbO2nWJjdk/ZzKbIL3NAIsSJIPP66pVcJQY4uc2oWnwkg2JPAXPuTM7Onbr7V9wpjXpbWfDgCBAP6kq3YWgx7g8VhNi4uifKeVeuZWKR7R3OGNIBzoIN5qQfTb9Ql3FAsBa7VyNLo4O9vmnVYmtfbVFGkah0mKcSSTdbDqeHa7/cqOJdJLgVZtKRWrL3VKq3+EB0QDa/wsmyjRpPFO34QW6n78iLLPVOWprHtQp0TI0022i9WdRPS3CyMoYMEy9sACzK3qOQpN7ZXprJnCYEtLg8gaYJbU1EecRv5crHWwuGD2lwrAgSbzqi/wAwkXus0r7FKjQcC5j9JFwKtWIIta3sipRpyyqx47y/j1+4O3EFOqy9Mew+jREvZWpkgidEyb2g+q2XU2sB7urT1ENBYXkSB7WU6reiIhhpMo93WFV0tIs5pmP10WvWDTVFRjmkGCARMj05urEz6JiMctkUaca9bXVWwADHikjcdAoayicS5jvCLatRgTzuPRT8scLGGR9Wi2mf4qoB0mJDYdv0KZax7dJlzxcO16RJG3Mxf5rOZaxVga0MadBZ3gBhzqu3PsFbaNOoAKj6dPUT4mn8XWZ91qZlnEe2w3D4VzHOZiKZDidIJJO0AzCp+HoTFXEUmkWMVdrb7LM2s1EQYpYcUSxmmoS4NLy+LHe8eSmhSwT5a97aZbLP9yZ+SZt4OmFOo4KmSKdVj4IiXAeuwuPqjucG57SHtY4OgAVA4HmwjnhWJv6SKwhtOgHMGw0Al4qA3A/onUoYcu0CqCzYu1tmJkcfq6ZtBiGUtwZDjquG3aCII6WHMLHWp4etUOhwDZL5qVAYjpa/spm0NYj2p2EwbnkNxVMO1EC46enmmzC4cgDvxLSdLg7cgWgR9UibT4OmA6nhgGl1bU8AOLyb7D+6yOo4QVA52LY9pjxSQOkwQnVf0dNW1SoYEltRuJa0PEQZdF4+ibsPgg3/AKg69RIeC46vl/wpE2SIhFClhKh8VcN1ODSWNMDqUyyhTcA57BTdLrOMhwj2/pflM25MQymnR1uexwFYGGtcC4kDrPqtdrKbqVMF4aGlzS3UbiN5vwmbeliI9nUp4YPkYgOdAAIcNh+f9IVUqOFdSqOfVGtphrS+Ab3+XTmE/L0uIUynhRTcWOILrTMRv+vdZnUcNpfFOs1vEvbJT8jEK7jD6Q5j6jgRMPeCfptFlgbh6YcA0SNVtVQ9LDaJU/I2ZaNDDnW+tQqMfa/eWPWIG8nbZbLsLl7jDqlYtmQ0mS3p/CrM2TEeG6zAUKzmupDTTJOnW8+G3otnC5Vh2Uy412g7FziQ5pG/FjKRazM4N2XYUEkV3Bpc1xLTAPU391tU8Fg/3jGOe8tAjVpLXA7xP5q5sbLFGiHNl7gA2ZDRMz8N+JWlUy7AYqpSNSWCZD2iC4jggHp1+SnVaPCxhtUslyzCUhUbXFWoHTqeTIG4Pn04hdXsJl4odsKVRultQB2ts3Mt3/srFrZ3hLYxL60DtxyeChfQw8b5pImBEHrYKw4uDQAdoHKu7iQ1Sb2hNpdyT6+SKoFoEAyI5KbXGbmw6oGXt1CZ1eW6prwJJHsVAOh4AeJEbO2XNxmUYDGAivhmX5b4T62WZrEkOPj+xuCriaFV9EG8GHfNc/8AwIwPBGKIaJjeQI2hcb0tnZ0paIH+BGGm5v3sgkANPn6bJjsIwUHMq16bhEDUCfKfosdqzfcgM7E1GukYqiIgCQ68cmybuwrXOipXpua8GfCfgnatK9yGAfZ9RI8OJYzgkNcT9fVP/L+lpn7zLtpcHGI99lei/tOuPSGfZ1Q0gDEzFtWgzZJ32cUJk4p0biBpm/JSK6nmTqr6Z/8AL3D03h3fNNogg7dfL2THYHDAkuqEgGwLTA9E6L+1649Mrfs/wb58TpEQQLg9fmtvDfZ3gBTio+oTIkk7geSvbt7O5+mSt9nGXNpOZTdUE+IyTCw0/s5wbS3VVc8DqDbrynat7XuR6Ufs8wRYGgtAMSDqN/jZA+zzCn/cdSdAgatVth18lO3f2dyPRj7OcEQ4B5JJkTIj5pM+znCaO6Nd+hrtUSTCTp39kakQX+XGGZAbUBJs5zi4yPb0+aT/ALOcLrkdwSZidcgHpGynbv7OuPR1fs2wpLtFWnMblzwTf9W2WEfZnRDm/vqQbH/dJPmfRXov7OuPTOz7OKILmf6RzBt/uA8+fp81R+zmkCCW4IH+UGpAU7d/a9yPQp/Zrhw4/vKAIJNmv5ueVJ+zHDlw1VWahMaS733lOi8eU649H/lfg9Ab94IJJ1Q4wR8FkZ9mWELXTXAMHcu58k6NSfKxqRHhlwv2Z4KkBqqh4NtJc5Wz7M8IwnS7DugGA4PF+Dup2tT2vdj0X+XOHcB3owxc4+It7z35UO+zLDy0itTBG8l0brXav7O5Ho/8tMMdc12SRG7lNP7L8M1oa7EtLevin+qk6ep7TuR6ZP8AK3Ch3/UtLdMAAumf6Kj9l2E0O01qckbEPiOkynb1Pa9yPR0fsuwrAD3rJvcFw33Tf9mNAnV3tHVaJ1x8E7d/adzCB9mNLxtL8LBuCXVIWX/LanpaNeEsIiKhm/Knav7WNWPSv8saH8L8Mb7aqm/X5q3/AGaYd75LsM3rpL78RutRpX9ne/TKz7NMGGODnUpnwgF8AdEf5Z4QODqJohoB1DU8FynZt7O9+gPs0pbzhYPBNQgf3Q37OKRDu9fhiDIkGrPzKkaFvMrGt+j/AMs8J3Zk0BIjepP1To/ZthWuaSaGncwakknzlWNC/s70emw37OsK2APu1uSal/n8Un/ZxhXuj/TMaCSAzWSSp2b+07yz9nuHiC+gJMuANQzaNyUf5c4UANFShERMvn9f0Ts29neNn2c4a4e+kALCC8CPjun/AJa4XS1r6jCGmbl1x+ZVjSsndWPs+a38OKaLzs4+xVt7BOFOoPvFM1HkTqDiPOyvZsd1R7BBzDOIp95pDZbqA87Km9hGtADa9GzYILXX8p907Njuwr/Aw8RNWk502hzgPcQlS7BUgT31fUJMaXkASLxb3TtXO7C3dg8KW6WvBBgOa573Bzf6rq5N2cwuVYgYii1ra+nQXCfw+hNvVWujbO8k6uYdzRLzMnqhetwmz5qLQDB+qbRBA5B26qOYa7UT+IXgeatp8AEmwv5hRUjcEMtc3F1kAIdfcclBVzMHYcWQJkRvvKB926bRA6pgW1GQJsgotA0wSL3CRbBg9VFBZZs7byOUyxrzHO4vCAIAMweboaJZqcBvwoKgECIE3tum1rdQsb9Ux7XKmsaJsY46oidh5oZQYBOltuiqNNQTY9EGdpkGwkcraZAEnfm+yEpe46BAHugXnrG8qipBdtHmmRv5cRuphTa0kyYjlUWC9oHTqgqw4JPIQ5rekHlQgBrSBE2VNZe49IRT0XkzITDLwSICoGtMXPwVaCSLCDwgNAAINm7yd1REiDJPAQUwFv4reaewdYj80Mk3eYP0QW7mT6lVQG9LLIBBMiw+aIyDb3TIvA9YO5UwJAPMTKqCSLx0VXJuAgAiXFU1pEzc7wEDaCZjYjlVAvNuiIpm9m3ixKsGCYnb0TAOklK07TdUMbSmBJO0eaA3u4k+XCZsbIKYZifRVAA3HkoBg3m/mqEHndVMjmB9E1VDY2Bn1T/iIiQhkciLHZEabwY8uUTIMkX46J6dQJiCqnIa0QfNCEPmW7iI9eiBGni28qMFwSG34VyARI4soKaSSYdeIugOIMfAoAucATaOTHCyNdAub9N0ISyC/S4n06K5BEAfJFEarkmd/wCyoC8kwegUDYYIjr8UiZeQAB0HPxVAwuAOqCHDgIbB1EAyDdRTBJ/Db80w4k7RG8IFJBsIQHOMNg35PJQIAgC4keyoQJMGEVnaC4xtPC2QCGyBBO6GS1W2iN5KpjSG23hAxNtyeiYmxMkgbkbqDI0O3JAtdVyOQN1VAgbyQm0DaNhYKCi0gwPghoMHn04QOJdz6nhMAmx2QHIJPorE6rDf3RSdv4jN4MIa0g2O6GVAXE3OyoAXm1+EQWuRupEzAJQZIHJuFQHWY4VFNMD80zcwkBtEbJC24vOyKyAGBZMF1jI9k8gIgDaFTTa4lUUL8bFB1OFrQUCG8cK5g2AKABnf3SkSQOu5RFAWgEqgABBIQDTqsJTIEzKobSdunxTaZmQgY4vbomBqHLQgGWEAghPUW/hKIXmqG9wqGJLt7dEE3/sgZMkxMDyQg+WE2sDcSb7Kg46bzHwUYVEuBJtMyd0yRBgkeqglni4iLzKtwEjf+/VFUHT4TuPVMkg2PoEAH6SNjKNRmBeeEDaS5wPy2VSQZnc7wkgHJHuEgTuZ+iCoMAXI8wmxp2NxyUVUCdvmm18u+UKABmATbyQWi/HIJRVaZu4CYViTDo8hCiNpggbRyrtB2uqIlp3VNcdvoinJsYA8pVBpPJQWLxJMJgyDEeyqwoANk79CVQLQ2d/JQXqmABPukDB+cpgF5kiyoG9xfogY6hDpBv8ACUDMAmNkv4h5IGN9/JVtNrRJQAJBsqaCXGUDjxGwhZBDmfhKBC5u66toJaSPVAmmbkG42TABH5lBV+u6obx0VwGNMX2N7BU0NAiPigc8b+iQIOx26pANzIVA72Q5G4gbo1EgwEA2wiFQAAlA5IJAsm2TKooA7FJs9SiH9OEwTG0IpiLDopuQYEoimCLncJ7EwRPKoJnfdWCA7aSgIE+SEH//2Q==)"
      ],
      "metadata": {
        "id": "65hD-izk2ckV"
      }
    },
    {
      "cell_type": "code",
      "source": [
        "class hanoi:\n",
        "  \n",
        "  def __init__(self):\n",
        "    #aqui criamos os 3 pinos como objetos da classe PilhaDE\n",
        "    self.pinoA = PilhaDE()\n",
        "    self.pinoB = PilhaDE()\n",
        "    self.pinoC = PilhaDE()\n",
        "    self.iniciar()\n",
        "  \n",
        "  def iniciar(self):\n",
        "    #caso o usuáro queira REiniciar, precisamos limpar os pinos\n",
        "    self.pinoA.clear()\n",
        "    self.pinoB.clear()\n",
        "    self.pinoC.clear()\n",
        "\n",
        "    #Iniciarmos \n",
        "    self.pinoA.push(5)\n",
        "    self.pinoA.push(4)\n",
        "    self.pinoA.push(3)\n",
        "    self.pinoA.push(2)\n",
        "    self.pinoA.push(1)\n",
        "  \n",
        "  def mostrar(self):\n",
        "    print(f'\\npino A: {self.pinoA}')\n",
        "    print(f'pino B: {self.pinoB}')\n",
        "    print(f'pino C: {self.pinoC}')\n",
        "  \n",
        "  def menu(self):\n",
        "    self.mostrar()\n",
        "    while True:\n",
        "      print('\\n1-Do pino A para pino B')\n",
        "      print('2-Do pino B para pino C')\n",
        "      print('3-Do pino C para pino A')\n",
        "      print('4-Reiniciar')\n",
        "      print('5-Sair')\n",
        "      opcao = int(input(''))\n",
        "      if opcao == 1:\n",
        "        self.pinoB.push(self.pinoA.pop())\n",
        "        self.mostrar()\n",
        "      elif opcao == 2:\n",
        "        self.pinoC.push(self.pinoB.pop())\n",
        "        self.mostrar()\n",
        "      elif opcao == 3:\n",
        "        self.pinoA.push(self.pinoC.pop())\n",
        "        self.mostrar()\n",
        "      elif opcao == 4:\n",
        "        self.iniciar()\n",
        "        self.mostrar()\n",
        "      elif opcao == 5:\n",
        "        break\n",
        "      else:\n",
        "        continue"
      ],
      "metadata": {
        "id": "Yjx8AVKLowC9"
      },
      "execution_count": 1,
      "outputs": []
    },
    {
      "cell_type": "code",
      "source": [
        "jogo = hanoi()\n",
        "jogo.menu()"
      ],
      "metadata": {
        "colab": {
          "base_uri": "https://localhost:8080/"
        },
        "id": "yr5FWjF0qHbX",
        "outputId": "10878a67-cf6a-468f-e367-99fa635a8b49"
      },
      "execution_count": 5,
      "outputs": [
        {
          "name": "stdout",
          "output_type": "stream",
          "text": [
            "\n",
            "pino A:  1 2 3 4 5\n",
            "pino B: \n",
            "pino C: \n",
            "\n",
            "1-Do pino A para pino B\n",
            "2-Do pino B para pino C\n",
            "3-Do pino C para pino A\n",
            "4-Reiniciar\n",
            "5-Sair\n",
            "1\n",
            "\n",
            "pino A:  2 3 4 5\n",
            "pino B:  1\n",
            "pino C: \n",
            "\n",
            "1-Do pino A para pino B\n",
            "2-Do pino B para pino C\n",
            "3-Do pino C para pino A\n",
            "4-Reiniciar\n",
            "5-Sair\n",
            "2\n",
            "\n",
            "pino A:  2 3 4 5\n",
            "pino B: \n",
            "pino C:  1\n",
            "\n",
            "1-Do pino A para pino B\n",
            "2-Do pino B para pino C\n",
            "3-Do pino C para pino A\n",
            "4-Reiniciar\n",
            "5-Sair\n",
            "1\n",
            "\n",
            "pino A:  3 4 5\n",
            "pino B:  2\n",
            "pino C:  1\n",
            "\n",
            "1-Do pino A para pino B\n",
            "2-Do pino B para pino C\n",
            "3-Do pino C para pino A\n",
            "4-Reiniciar\n",
            "5-Sair\n",
            "3\n",
            "\n",
            "pino A:  1 3 4 5\n",
            "pino B:  2\n",
            "pino C: \n",
            "\n",
            "1-Do pino A para pino B\n",
            "2-Do pino B para pino C\n",
            "3-Do pino C para pino A\n",
            "4-Reiniciar\n",
            "5-Sair\n",
            "2\n",
            "\n",
            "pino A:  1 3 4 5\n",
            "pino B: \n",
            "pino C:  2\n",
            "\n",
            "1-Do pino A para pino B\n",
            "2-Do pino B para pino C\n",
            "3-Do pino C para pino A\n",
            "4-Reiniciar\n",
            "5-Sair\n",
            "1\n",
            "\n",
            "pino A:  3 4 5\n",
            "pino B:  1\n",
            "pino C:  2\n",
            "\n",
            "1-Do pino A para pino B\n",
            "2-Do pino B para pino C\n",
            "3-Do pino C para pino A\n",
            "4-Reiniciar\n",
            "5-Sair\n",
            "2\n",
            "\n",
            "pino A:  3 4 5\n",
            "pino B: \n",
            "pino C:  1 2\n",
            "\n",
            "1-Do pino A para pino B\n",
            "2-Do pino B para pino C\n",
            "3-Do pino C para pino A\n",
            "4-Reiniciar\n",
            "5-Sair\n",
            "5\n"
          ]
        }
      ]
    }
  ]
}