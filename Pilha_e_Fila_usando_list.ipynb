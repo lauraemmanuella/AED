{
  "nbformat": 4,
  "nbformat_minor": 0,
  "metadata": {
    "colab": {
      "name": "Pilha e Fila usando list.ipynb",
      "provenance": [],
      "authorship_tag": "ABX9TyOtxg+Po1orntTKsxnJJJku",
      "include_colab_link": true
    },
    "kernelspec": {
      "name": "python3",
      "display_name": "Python 3"
    },
    "language_info": {
      "name": "python"
    }
  },
  "cells": [
    {
      "cell_type": "markdown",
      "metadata": {
        "id": "view-in-github",
        "colab_type": "text"
      },
      "source": [
        "<a href=\"https://colab.research.google.com/github/lauraemmanuella/AED/blob/main/Pilha_e_Fila_usando_list.ipynb\" target=\"_parent\"><img src=\"https://colab.research.google.com/assets/colab-badge.svg\" alt=\"Open In Colab\"/></a>"
      ]
    },
    {
      "cell_type": "markdown",
      "source": [
        "# Pilha a partir da classe list do Python\n",
        "\n",
        "Nesse caso, criamos uma lista e definimos as funções push e pop usando as funções pré-definidas na classe list"
      ],
      "metadata": {
        "id": "4EYGYQA3DMs6"
      }
    },
    {
      "cell_type": "code",
      "source": [
        "class pilha:\n",
        "\n",
        "  def __init__(self):\n",
        "    self.itens = [] #os dados dessa pilha serão armazenados em uma lista\n",
        "\n",
        "  def push(self, item):\n",
        "    self.itens.insert(0, item)\n",
        "  \n",
        "  def pop(self):\n",
        "    try:\n",
        "      print(f'Removendo elemento {self.itens.pop(0)} da pilha')\n",
        "    except:\n",
        "      print('Pilha vazia')\n",
        "  \n",
        "  def isEmpty(self):\n",
        "    if len(self.itens) == 0:\n",
        "      return True\n",
        "    else:\n",
        "      return False\n",
        "    \n",
        "  def __repr__(self):\n",
        "    return str(self.itens)"
      ],
      "metadata": {
        "id": "TFSSqsvtoEuv"
      },
      "execution_count": 4,
      "outputs": []
    },
    {
      "cell_type": "code",
      "source": [
        "minhapilha = pilha() #cria objeto da classe pilha\n",
        "minhapilha.pop()"
      ],
      "metadata": {
        "colab": {
          "base_uri": "https://localhost:8080/"
        },
        "id": "EQviUwiDoqG7",
        "outputId": "66f7c021-fa99-4c1c-9d4c-021f18950466"
      },
      "execution_count": 5,
      "outputs": [
        {
          "output_type": "stream",
          "name": "stdout",
          "text": [
            "Pilha vazia\n"
          ]
        }
      ]
    },
    {
      "cell_type": "code",
      "source": [
        "minhapilha.isEmpty()"
      ],
      "metadata": {
        "colab": {
          "base_uri": "https://localhost:8080/"
        },
        "id": "eB5cDr4T6VQW",
        "outputId": "8782a88a-678f-4bfa-f40c-2af484309228"
      },
      "execution_count": 6,
      "outputs": [
        {
          "output_type": "execute_result",
          "data": {
            "text/plain": [
              "True"
            ]
          },
          "metadata": {},
          "execution_count": 6
        }
      ]
    },
    {
      "cell_type": "code",
      "source": [
        "minhapilha.push(58)\n",
        "minhapilha.push(5)\n",
        "minhapilha.push(8)\n",
        "minhapilha.push(18)"
      ],
      "metadata": {
        "id": "lfYxGM_XpAA1"
      },
      "execution_count": 7,
      "outputs": []
    },
    {
      "cell_type": "code",
      "source": [
        "minhapilha"
      ],
      "metadata": {
        "colab": {
          "base_uri": "https://localhost:8080/"
        },
        "id": "EEsmVlPSpFCM",
        "outputId": "1d8f8178-6048-4012-c3b2-d48622a6fa08"
      },
      "execution_count": 8,
      "outputs": [
        {
          "output_type": "execute_result",
          "data": {
            "text/plain": [
              "[18, 8, 5, 58]"
            ]
          },
          "metadata": {},
          "execution_count": 8
        }
      ]
    },
    {
      "cell_type": "code",
      "source": [
        "minhapilha.isEmpty()"
      ],
      "metadata": {
        "colab": {
          "base_uri": "https://localhost:8080/"
        },
        "id": "Irt_LHoj6u9o",
        "outputId": "1beaf2f9-3944-47af-a859-a30022f93b47"
      },
      "execution_count": 9,
      "outputs": [
        {
          "output_type": "execute_result",
          "data": {
            "text/plain": [
              "False"
            ]
          },
          "metadata": {},
          "execution_count": 9
        }
      ]
    },
    {
      "cell_type": "code",
      "source": [
        "minhapilha.pop()"
      ],
      "metadata": {
        "colab": {
          "base_uri": "https://localhost:8080/"
        },
        "id": "9sWCkaYgpVSm",
        "outputId": "202d81fc-23d8-463e-d2e9-d9cedd17f940"
      },
      "execution_count": null,
      "outputs": [
        {
          "output_type": "stream",
          "name": "stdout",
          "text": [
            "Removendo elemento 18 da pilha\n"
          ]
        }
      ]
    },
    {
      "cell_type": "code",
      "source": [
        "minhapilha"
      ],
      "metadata": {
        "colab": {
          "base_uri": "https://localhost:8080/"
        },
        "id": "qQdOBpecpXDk",
        "outputId": "3fec23c5-189f-4860-c22c-7f9109ed16a3"
      },
      "execution_count": null,
      "outputs": [
        {
          "output_type": "execute_result",
          "data": {
            "text/plain": [
              "[8, 5, 58]"
            ]
          },
          "metadata": {},
          "execution_count": 14
        }
      ]
    },
    {
      "cell_type": "markdown",
      "source": [
        "# Fila a partir da classe list do Python\n",
        "\n",
        "Nesse caso, criamos uma lista e definimos as funções enqueue e dequeue usando as funções pré-definidas na classe list"
      ],
      "metadata": {
        "id": "6khw1UfHDs1p"
      }
    },
    {
      "cell_type": "code",
      "source": [
        "class fila:\n",
        "\n",
        "  def __init__(self):\n",
        "    self.itens = []\n",
        "\n",
        "  def enqueue(self, item):\n",
        "    self.itens.append(item)\n",
        "  \n",
        "  def dequeue(self):\n",
        "    try:\n",
        "      print(f'Removendo elemento {self.itens.pop(0)} da fila')\n",
        "    except:\n",
        "      print('Fila vazia')\n",
        "  \n",
        "  def isEmpty(self):\n",
        "    if len(self.itens) == 0:\n",
        "      return True\n",
        "    else:\n",
        "      return False\n",
        "    \n",
        "  def __repr__(self):\n",
        "    return str(self.itens)"
      ],
      "metadata": {
        "id": "BcYHHcHMpy7a"
      },
      "execution_count": 10,
      "outputs": []
    },
    {
      "cell_type": "code",
      "source": [
        "minhafila = fila() #cria objeto da classe fila\n",
        "minhafila.dequeue()"
      ],
      "metadata": {
        "colab": {
          "base_uri": "https://localhost:8080/"
        },
        "id": "d9ZPpR0Op-vZ",
        "outputId": "2572a354-145c-4da5-a915-d074bd051c9c"
      },
      "execution_count": 11,
      "outputs": [
        {
          "output_type": "stream",
          "name": "stdout",
          "text": [
            "Fila vazia\n"
          ]
        }
      ]
    },
    {
      "cell_type": "code",
      "source": [
        "minhafila.isEmpty()"
      ],
      "metadata": {
        "colab": {
          "base_uri": "https://localhost:8080/"
        },
        "id": "qizg-z2E63ge",
        "outputId": "e56afc22-1df1-45ca-8471-155e3651bcbd"
      },
      "execution_count": 12,
      "outputs": [
        {
          "output_type": "execute_result",
          "data": {
            "text/plain": [
              "True"
            ]
          },
          "metadata": {},
          "execution_count": 12
        }
      ]
    },
    {
      "cell_type": "code",
      "source": [
        "minhafila.enqueue(58)\n",
        "minhafila.enqueue(8)\n",
        "minhafila.enqueue(5)\n",
        "minhafila.enqueue(18)"
      ],
      "metadata": {
        "id": "2LV9ZpbzqFi2"
      },
      "execution_count": 13,
      "outputs": []
    },
    {
      "cell_type": "code",
      "source": [
        "minhafila"
      ],
      "metadata": {
        "colab": {
          "base_uri": "https://localhost:8080/"
        },
        "id": "zQLvaHZ9qK-d",
        "outputId": "6fc813df-ddb8-4b5e-905b-bcf5ec1e033e"
      },
      "execution_count": 14,
      "outputs": [
        {
          "output_type": "execute_result",
          "data": {
            "text/plain": [
              "[58, 8, 5, 18]"
            ]
          },
          "metadata": {},
          "execution_count": 14
        }
      ]
    },
    {
      "cell_type": "code",
      "source": [
        "minhafila.isEmpty()"
      ],
      "metadata": {
        "id": "GnSsqOEb68Uz",
        "outputId": "126e7172-6516-4004-94c5-e1dd74a3591f",
        "colab": {
          "base_uri": "https://localhost:8080/"
        }
      },
      "execution_count": 15,
      "outputs": [
        {
          "output_type": "execute_result",
          "data": {
            "text/plain": [
              "False"
            ]
          },
          "metadata": {},
          "execution_count": 15
        }
      ]
    },
    {
      "cell_type": "code",
      "source": [
        "minhafila.dequeue()"
      ],
      "metadata": {
        "colab": {
          "base_uri": "https://localhost:8080/"
        },
        "id": "EUbQZ3o6qM0K",
        "outputId": "91b3ef3b-df9a-425e-a090-5ab59edeeb68"
      },
      "execution_count": null,
      "outputs": [
        {
          "output_type": "stream",
          "name": "stdout",
          "text": [
            "Removendo elemento 58 da fila\n"
          ]
        }
      ]
    },
    {
      "cell_type": "code",
      "source": [
        "minhafila"
      ],
      "metadata": {
        "colab": {
          "base_uri": "https://localhost:8080/"
        },
        "id": "EgPuDOijqQA4",
        "outputId": "1dd3655e-68cf-45f4-e74e-7a755890138c"
      },
      "execution_count": null,
      "outputs": [
        {
          "output_type": "execute_result",
          "data": {
            "text/plain": [
              "[8, 5, 18]"
            ]
          },
          "metadata": {},
          "execution_count": 22
        }
      ]
    }
  ]
}