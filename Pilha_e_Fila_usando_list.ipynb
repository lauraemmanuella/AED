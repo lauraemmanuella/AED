{
  "nbformat": 4,
  "nbformat_minor": 0,
  "metadata": {
    "colab": {
      "name": "Pilha e Fila usando list.ipynb",
      "provenance": [],
      "authorship_tag": "ABX9TyMiG0wEsx9ai9cuP6RdLTvZ",
      "include_colab_link": true
    },
    "kernelspec": {
      "name": "python3",
      "display_name": "Python 3"
    },
    "language_info": {
      "name": "python"
    }
  },
  "cells": [
    {
      "cell_type": "markdown",
      "metadata": {
        "id": "view-in-github",
        "colab_type": "text"
      },
      "source": [
        "<a href=\"https://colab.research.google.com/github/lauraemmanuella/AED/blob/main/Pilha_e_Fila_usando_list.ipynb\" target=\"_parent\"><img src=\"https://colab.research.google.com/assets/colab-badge.svg\" alt=\"Open In Colab\"/></a>"
      ]
    },
    {
      "cell_type": "markdown",
      "source": [
        "# Pilha a partir da classe list do Python\n",
        "\n",
        "Nesse caso, criamos uma lista e definimos as funções push e pop usando as funções pré-definidas na classe list"
      ],
      "metadata": {
        "id": "4EYGYQA3DMs6"
      }
    },
    {
      "cell_type": "code",
      "source": [
        "class pilha:\n",
        "\n",
        "  def __init__(self):\n",
        "    self.itens = [] #os dados dessa pilha serão armazenados em uma lista\n",
        "\n",
        "  def push(self, item):\n",
        "    self.itens.insert(0, item)\n",
        "  \n",
        "  def pop(self):\n",
        "    try:\n",
        "      print(f'Removendo elemento {self.itens.pop(0)} da pilha')\n",
        "    except:\n",
        "      print('Pilha vazia')\n",
        "    \n",
        "  def __repr__(self):\n",
        "    return str(self.itens)"
      ],
      "metadata": {
        "id": "TFSSqsvtoEuv"
      },
      "execution_count": 9,
      "outputs": []
    },
    {
      "cell_type": "code",
      "source": [
        "minhapilha = pilha() #cria objeto da classe pilha\n",
        "minhapilha.pop()"
      ],
      "metadata": {
        "colab": {
          "base_uri": "https://localhost:8080/"
        },
        "id": "EQviUwiDoqG7",
        "outputId": "48126c0f-3345-480e-edda-6f3ffdc765e2"
      },
      "execution_count": 10,
      "outputs": [
        {
          "output_type": "stream",
          "name": "stdout",
          "text": [
            "Pilha vazia\n"
          ]
        }
      ]
    },
    {
      "cell_type": "code",
      "source": [
        "minhapilha.push(58)\n",
        "minhapilha.push(5)\n",
        "minhapilha.push(8)\n",
        "minhapilha.push(18)"
      ],
      "metadata": {
        "id": "lfYxGM_XpAA1"
      },
      "execution_count": 11,
      "outputs": []
    },
    {
      "cell_type": "code",
      "source": [
        "minhapilha"
      ],
      "metadata": {
        "colab": {
          "base_uri": "https://localhost:8080/"
        },
        "id": "EEsmVlPSpFCM",
        "outputId": "4a24c38e-a177-4fbd-bae6-5881106b7daa"
      },
      "execution_count": 12,
      "outputs": [
        {
          "output_type": "execute_result",
          "data": {
            "text/plain": [
              "[18, 8, 5, 58]"
            ]
          },
          "metadata": {},
          "execution_count": 12
        }
      ]
    },
    {
      "cell_type": "code",
      "source": [
        "minhapilha.pop()"
      ],
      "metadata": {
        "colab": {
          "base_uri": "https://localhost:8080/"
        },
        "id": "9sWCkaYgpVSm",
        "outputId": "202d81fc-23d8-463e-d2e9-d9cedd17f940"
      },
      "execution_count": 13,
      "outputs": [
        {
          "output_type": "stream",
          "name": "stdout",
          "text": [
            "Removendo elemento 18 da pilha\n"
          ]
        }
      ]
    },
    {
      "cell_type": "code",
      "source": [
        "minhapilha"
      ],
      "metadata": {
        "colab": {
          "base_uri": "https://localhost:8080/"
        },
        "id": "qQdOBpecpXDk",
        "outputId": "3fec23c5-189f-4860-c22c-7f9109ed16a3"
      },
      "execution_count": 14,
      "outputs": [
        {
          "output_type": "execute_result",
          "data": {
            "text/plain": [
              "[8, 5, 58]"
            ]
          },
          "metadata": {},
          "execution_count": 14
        }
      ]
    },
    {
      "cell_type": "markdown",
      "source": [
        "# Fila a partir da classe list do Python\n",
        "\n",
        "Nesse caso, criamos uma lista e definimos as funções enqueue e dequeue usando as funções pré-definidas na classe list"
      ],
      "metadata": {
        "id": "6khw1UfHDs1p"
      }
    },
    {
      "cell_type": "code",
      "source": [
        "class fila:\n",
        "\n",
        "  def __init__(self):\n",
        "    self.itens = []\n",
        "\n",
        "  def enqueue(self, item):\n",
        "    self.itens.append(item)\n",
        "  \n",
        "  def dequeue(self):\n",
        "    try:\n",
        "      print(f'Removendo elemento {self.itens.pop(0)} da fila')\n",
        "    except:\n",
        "      print('Fila vazia')\n",
        "    \n",
        "  def __repr__(self):\n",
        "    return str(self.itens)"
      ],
      "metadata": {
        "id": "BcYHHcHMpy7a"
      },
      "execution_count": 15,
      "outputs": []
    },
    {
      "cell_type": "code",
      "source": [
        "minhafila = fila() #cria objeto da classe fila\n",
        "minhafila.dequeue()"
      ],
      "metadata": {
        "colab": {
          "base_uri": "https://localhost:8080/"
        },
        "id": "d9ZPpR0Op-vZ",
        "outputId": "b74cb28d-102d-4d00-9e76-43b9a693a28e"
      },
      "execution_count": 17,
      "outputs": [
        {
          "output_type": "stream",
          "name": "stdout",
          "text": [
            "Fila vazia\n"
          ]
        }
      ]
    },
    {
      "cell_type": "code",
      "source": [
        "minhafila.enqueue(58)\n",
        "minhafila.enqueue(8)\n",
        "minhafila.enqueue(5)\n",
        "minhafila.enqueue(18)"
      ],
      "metadata": {
        "id": "2LV9ZpbzqFi2"
      },
      "execution_count": 18,
      "outputs": []
    },
    {
      "cell_type": "code",
      "source": [
        "minhafila"
      ],
      "metadata": {
        "colab": {
          "base_uri": "https://localhost:8080/"
        },
        "id": "zQLvaHZ9qK-d",
        "outputId": "1432579c-5267-4b1f-9039-0eb375f2bb6c"
      },
      "execution_count": 19,
      "outputs": [
        {
          "output_type": "execute_result",
          "data": {
            "text/plain": [
              "[58, 8, 5, 18]"
            ]
          },
          "metadata": {},
          "execution_count": 19
        }
      ]
    },
    {
      "cell_type": "code",
      "source": [
        "minhafila.dequeue()"
      ],
      "metadata": {
        "colab": {
          "base_uri": "https://localhost:8080/"
        },
        "id": "EUbQZ3o6qM0K",
        "outputId": "91b3ef3b-df9a-425e-a090-5ab59edeeb68"
      },
      "execution_count": 21,
      "outputs": [
        {
          "output_type": "stream",
          "name": "stdout",
          "text": [
            "Removendo elemento 58 da fila\n"
          ]
        }
      ]
    },
    {
      "cell_type": "code",
      "source": [
        "minhafila"
      ],
      "metadata": {
        "colab": {
          "base_uri": "https://localhost:8080/"
        },
        "id": "EgPuDOijqQA4",
        "outputId": "1dd3655e-68cf-45f4-e74e-7a755890138c"
      },
      "execution_count": 22,
      "outputs": [
        {
          "output_type": "execute_result",
          "data": {
            "text/plain": [
              "[8, 5, 18]"
            ]
          },
          "metadata": {},
          "execution_count": 22
        }
      ]
    }
  ]
}