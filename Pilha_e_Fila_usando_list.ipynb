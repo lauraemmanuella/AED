{
  "nbformat": 4,
  "nbformat_minor": 0,
  "metadata": {
    "colab": {
      "name": "Pilha e Fila usando list.ipynb",
      "provenance": [],
      "authorship_tag": "ABX9TyOCp6kh32Ctiq1BhF+HRGl8",
      "include_colab_link": true
    },
    "kernelspec": {
      "name": "python3",
      "display_name": "Python 3"
    },
    "language_info": {
      "name": "python"
    }
  },
  "cells": [
    {
      "cell_type": "markdown",
      "metadata": {
        "id": "view-in-github",
        "colab_type": "text"
      },
      "source": [
        "<a href=\"https://colab.research.google.com/github/lauraemmanuella/AED/blob/main/Pilha_e_Fila_usando_list.ipynb\" target=\"_parent\"><img src=\"https://colab.research.google.com/assets/colab-badge.svg\" alt=\"Open In Colab\"/></a>"
      ]
    },
    {
      "cell_type": "code",
      "execution_count": 4,
      "metadata": {
        "colab": {
          "base_uri": "https://localhost:8080/"
        },
        "id": "Ye7dV357SjHH",
        "outputId": "668ba70c-077f-45be-98f4-edeeaed15a73"
      },
      "outputs": [
        {
          "output_type": "stream",
          "name": "stdout",
          "text": [
            "Pilha vazia\n",
            "[18, 8, 7, 78]\n",
            "[8, 7, 78]\n"
          ]
        }
      ],
      "source": [
        "pilha = [] #list()\n",
        "\n",
        "def push(item):\n",
        "  pilha.insert(0, item)\n",
        "\n",
        "def pop():\n",
        "  try:\n",
        "    print(pilha.pop(0))\n",
        "  except:\n",
        "    print('Pilha vazia')\n",
        "pop()\n",
        "\n",
        "push(78)\n",
        "push(7)\n",
        "push(8)\n",
        "push(18)\n",
        "\n",
        "print(pilha)\n",
        "\n",
        "pop()\n",
        "print(pilha)"
      ]
    },
    {
      "cell_type": "code",
      "source": [
        "fila = [] #list()\n",
        "\n",
        "def enqueue(item):\n",
        "  fila.append(item)\n",
        "\n",
        "def dequeue():\n",
        "  try:\n",
        "    print(fila.pop(0))\n",
        "  except:\n",
        "    print('Fila vazia')\n",
        "\n",
        "dequeue()\n",
        "\n",
        "enqueue(78)\n",
        "enqueue(7)\n",
        "enqueue(8)\n",
        "enqueue(18)\n",
        "\n",
        "print(fila)\n",
        "\n",
        "dequeue()\n",
        "print(fila)"
      ],
      "metadata": {
        "colab": {
          "base_uri": "https://localhost:8080/"
        },
        "id": "Z822-IY7ULIf",
        "outputId": "0d5c3b1b-e027-4058-f74d-679078971c7c"
      },
      "execution_count": 6,
      "outputs": [
        {
          "output_type": "stream",
          "name": "stdout",
          "text": [
            "Fila vazia\n",
            "[78, 7, 8, 18]\n",
            "78\n",
            "[7, 8, 18]\n"
          ]
        }
      ]
    }
  ]
}