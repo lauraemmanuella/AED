{
  "nbformat": 4,
  "nbformat_minor": 0,
  "metadata": {
    "colab": {
      "name": "Pilha e Fila usando list.ipynb",
      "provenance": [],
      "collapsed_sections": [],
      "authorship_tag": "ABX9TyMSPT4qUkcVqA7/zjQswqfz",
      "include_colab_link": true
    },
    "kernelspec": {
      "name": "python3",
      "display_name": "Python 3"
    },
    "language_info": {
      "name": "python"
    }
  },
  "cells": [
    {
      "cell_type": "markdown",
      "metadata": {
        "id": "view-in-github",
        "colab_type": "text"
      },
      "source": [
        "<a href=\"https://colab.research.google.com/github/lauraemmanuella/AED/blob/main/Pilha_e_Fila_usando_list.ipynb\" target=\"_parent\"><img src=\"https://colab.research.google.com/assets/colab-badge.svg\" alt=\"Open In Colab\"/></a>"
      ]
    },
    {
      "cell_type": "markdown",
      "source": [
        "# Pilha a partir da classe list do Python\n",
        "\n",
        "Nesse caso, criamos uma lista como atributo da classe e definimos as funções push e pop usando as funções pré-definidas na classe list"
      ],
      "metadata": {
        "id": "4EYGYQA3DMs6"
      }
    },
    {
      "cell_type": "code",
      "source": [
        "class pilha:\n",
        "\n",
        "  def __init__(self):\n",
        "    self.itens = [] #os dados dessa pilha serão armazenados em uma lista\n",
        "\n",
        "  #insere item no topo da pilha\n",
        "  def push(self, item):\n",
        "    self.itens.insert(0, item)\n",
        "  \n",
        "  #remove do topo da pilha\n",
        "  def pop(self):\n",
        "    try:\n",
        "      return self.itens.pop(0)\n",
        "    except:\n",
        "      return 'Pilha vazia'\n",
        "  \n",
        "  def isEmpty(self):\n",
        "    if len(self.itens) == 0:\n",
        "      return True\n",
        "    else:\n",
        "      return False\n",
        "    \n",
        "  def __repr__(self):\n",
        "    return str(self.itens)"
      ],
      "metadata": {
        "id": "TFSSqsvtoEuv"
      },
      "execution_count": 1,
      "outputs": []
    },
    {
      "cell_type": "code",
      "source": [
        "minhapilha = pilha() #cria objeto da classe pilha\n",
        "minhapilha.pop()"
      ],
      "metadata": {
        "colab": {
          "base_uri": "https://localhost:8080/",
          "height": 35
        },
        "id": "EQviUwiDoqG7",
        "outputId": "5f791f81-3025-4106-edfd-0e14170b230a"
      },
      "execution_count": 2,
      "outputs": [
        {
          "output_type": "execute_result",
          "data": {
            "text/plain": [
              "'Pilha vazia'"
            ],
            "application/vnd.google.colaboratory.intrinsic+json": {
              "type": "string"
            }
          },
          "metadata": {},
          "execution_count": 2
        }
      ]
    },
    {
      "cell_type": "code",
      "source": [
        "minhapilha.isEmpty()"
      ],
      "metadata": {
        "colab": {
          "base_uri": "https://localhost:8080/"
        },
        "id": "eB5cDr4T6VQW",
        "outputId": "81178fc8-f3c8-4401-c01e-019814947168"
      },
      "execution_count": 3,
      "outputs": [
        {
          "output_type": "execute_result",
          "data": {
            "text/plain": [
              "True"
            ]
          },
          "metadata": {},
          "execution_count": 3
        }
      ]
    },
    {
      "cell_type": "code",
      "source": [
        "minhapilha.push(58)\n",
        "minhapilha.push(5)\n",
        "minhapilha.push(8)\n",
        "minhapilha.push(18)"
      ],
      "metadata": {
        "id": "lfYxGM_XpAA1"
      },
      "execution_count": 4,
      "outputs": []
    },
    {
      "cell_type": "code",
      "source": [
        "minhapilha"
      ],
      "metadata": {
        "colab": {
          "base_uri": "https://localhost:8080/"
        },
        "id": "EEsmVlPSpFCM",
        "outputId": "b5b4a251-55fe-4e9c-96a2-deb794442d74"
      },
      "execution_count": 5,
      "outputs": [
        {
          "output_type": "execute_result",
          "data": {
            "text/plain": [
              "[18, 8, 5, 58]"
            ]
          },
          "metadata": {},
          "execution_count": 5
        }
      ]
    },
    {
      "cell_type": "code",
      "source": [
        "minhapilha.isEmpty()"
      ],
      "metadata": {
        "colab": {
          "base_uri": "https://localhost:8080/"
        },
        "id": "Irt_LHoj6u9o",
        "outputId": "d7ba1d26-7dae-4764-de65-98cb79074528"
      },
      "execution_count": 6,
      "outputs": [
        {
          "output_type": "execute_result",
          "data": {
            "text/plain": [
              "False"
            ]
          },
          "metadata": {},
          "execution_count": 6
        }
      ]
    },
    {
      "cell_type": "code",
      "source": [
        "minhapilha.pop()"
      ],
      "metadata": {
        "colab": {
          "base_uri": "https://localhost:8080/"
        },
        "id": "9sWCkaYgpVSm",
        "outputId": "7f8d49e7-291d-45d5-815e-ece38953b6c0"
      },
      "execution_count": 7,
      "outputs": [
        {
          "output_type": "execute_result",
          "data": {
            "text/plain": [
              "18"
            ]
          },
          "metadata": {},
          "execution_count": 7
        }
      ]
    },
    {
      "cell_type": "code",
      "source": [
        "minhapilha"
      ],
      "metadata": {
        "colab": {
          "base_uri": "https://localhost:8080/"
        },
        "id": "qQdOBpecpXDk",
        "outputId": "282ef954-0705-406c-f5a4-0323687a16ff"
      },
      "execution_count": 8,
      "outputs": [
        {
          "output_type": "execute_result",
          "data": {
            "text/plain": [
              "[8, 5, 58]"
            ]
          },
          "metadata": {},
          "execution_count": 8
        }
      ]
    },
    {
      "cell_type": "markdown",
      "source": [
        "# Fila a partir da classe list do Python\n",
        "\n",
        "Nesse caso, criamos uma lista como atributo da classe e definimos as funções enqueue e dequeue usando as funções pré-definidas na classe list"
      ],
      "metadata": {
        "id": "6khw1UfHDs1p"
      }
    },
    {
      "cell_type": "code",
      "source": [
        "class fila:\n",
        "\n",
        "  def __init__(self):\n",
        "    self.itens = []\n",
        "\n",
        "  #insere item no final da fila\n",
        "  def enqueue(self, item):\n",
        "    self.itens.append(item)\n",
        "  \n",
        "  #remove do início da fila\n",
        "  def dequeue(self):\n",
        "    try:\n",
        "      return self.itens.pop(0)\n",
        "    except:\n",
        "      return 'Fila vazia'\n",
        "  \n",
        "  def isEmpty(self):\n",
        "    if len(self.itens) == 0:\n",
        "      return True\n",
        "    else:\n",
        "      return False\n",
        "    \n",
        "  def __repr__(self):\n",
        "    return str(self.itens)"
      ],
      "metadata": {
        "id": "BcYHHcHMpy7a"
      },
      "execution_count": 9,
      "outputs": []
    },
    {
      "cell_type": "code",
      "source": [
        "minhafila = fila() #cria objeto da classe fila\n",
        "minhafila.dequeue()"
      ],
      "metadata": {
        "colab": {
          "base_uri": "https://localhost:8080/",
          "height": 35
        },
        "id": "d9ZPpR0Op-vZ",
        "outputId": "4c112403-2d80-482d-98df-c0ecb778a237"
      },
      "execution_count": 10,
      "outputs": [
        {
          "output_type": "execute_result",
          "data": {
            "text/plain": [
              "'Fila vazia'"
            ],
            "application/vnd.google.colaboratory.intrinsic+json": {
              "type": "string"
            }
          },
          "metadata": {},
          "execution_count": 10
        }
      ]
    },
    {
      "cell_type": "code",
      "source": [
        "minhafila.isEmpty()"
      ],
      "metadata": {
        "colab": {
          "base_uri": "https://localhost:8080/"
        },
        "id": "qizg-z2E63ge",
        "outputId": "08189a7a-3c52-4ab8-c8d0-cbf18efc0bcc"
      },
      "execution_count": 11,
      "outputs": [
        {
          "output_type": "execute_result",
          "data": {
            "text/plain": [
              "True"
            ]
          },
          "metadata": {},
          "execution_count": 11
        }
      ]
    },
    {
      "cell_type": "code",
      "source": [
        "minhafila.enqueue(58)\n",
        "minhafila.enqueue(8)\n",
        "minhafila.enqueue(5)\n",
        "minhafila.enqueue(18)"
      ],
      "metadata": {
        "id": "2LV9ZpbzqFi2"
      },
      "execution_count": 12,
      "outputs": []
    },
    {
      "cell_type": "code",
      "source": [
        "minhafila"
      ],
      "metadata": {
        "colab": {
          "base_uri": "https://localhost:8080/"
        },
        "id": "zQLvaHZ9qK-d",
        "outputId": "0c808258-7ff0-40fd-c9f9-7e0476d8721d"
      },
      "execution_count": 13,
      "outputs": [
        {
          "output_type": "execute_result",
          "data": {
            "text/plain": [
              "[58, 8, 5, 18]"
            ]
          },
          "metadata": {},
          "execution_count": 13
        }
      ]
    },
    {
      "cell_type": "code",
      "source": [
        "minhafila.isEmpty()"
      ],
      "metadata": {
        "colab": {
          "base_uri": "https://localhost:8080/"
        },
        "id": "GnSsqOEb68Uz",
        "outputId": "8a50b8e7-8787-44e0-dda3-95a7d46c6892"
      },
      "execution_count": 14,
      "outputs": [
        {
          "output_type": "execute_result",
          "data": {
            "text/plain": [
              "False"
            ]
          },
          "metadata": {},
          "execution_count": 14
        }
      ]
    },
    {
      "cell_type": "code",
      "source": [
        "minhafila.dequeue()"
      ],
      "metadata": {
        "colab": {
          "base_uri": "https://localhost:8080/"
        },
        "id": "EUbQZ3o6qM0K",
        "outputId": "8b351cdd-1194-4df7-e27d-a1bf92671a0e"
      },
      "execution_count": 15,
      "outputs": [
        {
          "output_type": "execute_result",
          "data": {
            "text/plain": [
              "58"
            ]
          },
          "metadata": {},
          "execution_count": 15
        }
      ]
    },
    {
      "cell_type": "code",
      "source": [
        "minhafila"
      ],
      "metadata": {
        "colab": {
          "base_uri": "https://localhost:8080/"
        },
        "id": "EgPuDOijqQA4",
        "outputId": "1cf7c1b1-d02d-478b-e987-f8c083e74ac0"
      },
      "execution_count": 16,
      "outputs": [
        {
          "output_type": "execute_result",
          "data": {
            "text/plain": [
              "[8, 5, 18]"
            ]
          },
          "metadata": {},
          "execution_count": 16
        }
      ]
    }
  ]
}