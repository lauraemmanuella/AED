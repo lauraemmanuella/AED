{
  "nbformat": 4,
  "nbformat_minor": 0,
  "metadata": {
    "colab": {
      "name": "Pilha e Fila usando list.ipynb",
      "provenance": [],
      "authorship_tag": "ABX9TyMv2PIfBINvn13Y8n2lzlD6",
      "include_colab_link": true
    },
    "kernelspec": {
      "name": "python3",
      "display_name": "Python 3"
    },
    "language_info": {
      "name": "python"
    }
  },
  "cells": [
    {
      "cell_type": "markdown",
      "metadata": {
        "id": "view-in-github",
        "colab_type": "text"
      },
      "source": [
        "<a href=\"https://colab.research.google.com/github/lauraemmanuella/AED/blob/main/Pilha_e_Fila_usando_list.ipynb\" target=\"_parent\"><img src=\"https://colab.research.google.com/assets/colab-badge.svg\" alt=\"Open In Colab\"/></a>"
      ]
    },
    {
      "cell_type": "markdown",
      "source": [
        "# Pilha a partir da classe list do Python\n",
        "\n",
        "Nesse caso, criamos uma lista e definimos as funções push e pop usando as funções pré-definidas na classe list"
      ],
      "metadata": {
        "id": "4EYGYQA3DMs6"
      }
    },
    {
      "cell_type": "code",
      "execution_count": 1,
      "metadata": {
        "colab": {
          "base_uri": "https://localhost:8080/"
        },
        "id": "Ye7dV357SjHH",
        "outputId": "2eb0c6e7-ee4d-462b-b6b2-700793fbec93"
      },
      "outputs": [
        {
          "output_type": "stream",
          "name": "stdout",
          "text": [
            "Pilha vazia\n",
            "[18, 8, 7, 78]\n",
            "Removendo elemento 18 da pilha\n",
            "[8, 7, 78]\n"
          ]
        }
      ],
      "source": [
        "pilha = [] #list()\n",
        "\n",
        "#Insere no topo da pilha\n",
        "def push(item):\n",
        "  pilha.insert(0, item)\n",
        "\n",
        "#Revemo do topo da pilha\n",
        "def pop():\n",
        "  try:\n",
        "    print(f'Removendo elemento {pilha.pop(0)} da pilha')\n",
        "  except:\n",
        "    print('Pilha vazia')\n",
        "\n",
        "pop() #pilha vazia\n",
        "\n",
        "push(78)\n",
        "push(7)\n",
        "push(8)\n",
        "push(18)\n",
        "\n",
        "print(pilha)\n",
        "\n",
        "pop()\n",
        "\n",
        "print(pilha)"
      ]
    },
    {
      "cell_type": "markdown",
      "source": [
        "# Fila a partir da classe list do Python\n",
        "\n",
        "Nesse caso, criamos uma lista e definimos as funções enqueue e dequeue usando as funções pré-definidas na classe list"
      ],
      "metadata": {
        "id": "6khw1UfHDs1p"
      }
    },
    {
      "cell_type": "code",
      "source": [
        "fila = [] #list()\n",
        "\n",
        "#Insere no fim da fila\n",
        "def enqueue(item):\n",
        "  fila.append(item)\n",
        "\n",
        "#Remove do começo da fila\n",
        "def dequeue():\n",
        "  try:\n",
        "    print(f'Removendo elemento {fila.pop(0)} da fila')\n",
        "  except:\n",
        "    print('Fila vazia')\n",
        "\n",
        "dequeue()\n",
        "\n",
        "enqueue(78)\n",
        "enqueue(7)\n",
        "enqueue(8)\n",
        "enqueue(18)\n",
        "\n",
        "print(fila)\n",
        "\n",
        "dequeue()\n",
        "\n",
        "print(fila)"
      ],
      "metadata": {
        "colab": {
          "base_uri": "https://localhost:8080/"
        },
        "id": "Z822-IY7ULIf",
        "outputId": "65a737c3-4d42-43d7-f42c-84776accfd5f"
      },
      "execution_count": 2,
      "outputs": [
        {
          "output_type": "stream",
          "name": "stdout",
          "text": [
            "Fila vazia\n",
            "[78, 7, 8, 18]\n",
            "Removendo elemento 78 da fila\n",
            "[7, 8, 18]\n"
          ]
        }
      ]
    }
  ]
}