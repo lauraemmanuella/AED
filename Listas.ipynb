{
  "nbformat": 4,
  "nbformat_minor": 0,
  "metadata": {
    "colab": {
      "name": "Listas.ipynb",
      "provenance": [],
      "collapsed_sections": [],
      "toc_visible": true,
      "authorship_tag": "ABX9TyPTqAN1XjBCChF5T4r96cHF",
      "include_colab_link": true
    },
    "kernelspec": {
      "name": "python3",
      "display_name": "Python 3"
    },
    "language_info": {
      "name": "python"
    }
  },
  "cells": [
    {
      "cell_type": "markdown",
      "metadata": {
        "id": "view-in-github",
        "colab_type": "text"
      },
      "source": [
        "<a href=\"https://colab.research.google.com/github/lauraemmanuella/AED/blob/main/Listas.ipynb\" target=\"_parent\"><img src=\"https://colab.research.google.com/assets/colab-badge.svg\" alt=\"Open In Colab\"/></a>"
      ]
    },
    {
      "cell_type": "markdown",
      "source": [
        "# Listas em Python\n",
        "\n",
        "Aqui vamos observar as operações básicas das listas (criar, inserir, remover, buscar e atualizar) implementadas pela classe **list** do Python"
      ],
      "metadata": {
        "id": "UHUe_-1WknXO"
      }
    },
    {
      "cell_type": "code",
      "source": [
        "help(list)"
      ],
      "metadata": {
        "id": "akfp3fKwQ56n",
        "colab": {
          "base_uri": "https://localhost:8080/"
        },
        "outputId": "d23c4093-64bd-4d9b-b781-b901fbcbbe07"
      },
      "execution_count": null,
      "outputs": [
        {
          "output_type": "stream",
          "name": "stdout",
          "text": [
            "Help on class list in module builtins:\n",
            "\n",
            "class list(object)\n",
            " |  list(iterable=(), /)\n",
            " |  \n",
            " |  Built-in mutable sequence.\n",
            " |  \n",
            " |  If no argument is given, the constructor creates a new empty list.\n",
            " |  The argument must be an iterable if specified.\n",
            " |  \n",
            " |  Methods defined here:\n",
            " |  \n",
            " |  __add__(self, value, /)\n",
            " |      Return self+value.\n",
            " |  \n",
            " |  __contains__(self, key, /)\n",
            " |      Return key in self.\n",
            " |  \n",
            " |  __delitem__(self, key, /)\n",
            " |      Delete self[key].\n",
            " |  \n",
            " |  __eq__(self, value, /)\n",
            " |      Return self==value.\n",
            " |  \n",
            " |  __ge__(self, value, /)\n",
            " |      Return self>=value.\n",
            " |  \n",
            " |  __getattribute__(self, name, /)\n",
            " |      Return getattr(self, name).\n",
            " |  \n",
            " |  __getitem__(...)\n",
            " |      x.__getitem__(y) <==> x[y]\n",
            " |  \n",
            " |  __gt__(self, value, /)\n",
            " |      Return self>value.\n",
            " |  \n",
            " |  __iadd__(self, value, /)\n",
            " |      Implement self+=value.\n",
            " |  \n",
            " |  __imul__(self, value, /)\n",
            " |      Implement self*=value.\n",
            " |  \n",
            " |  __init__(self, /, *args, **kwargs)\n",
            " |      Initialize self.  See help(type(self)) for accurate signature.\n",
            " |  \n",
            " |  __iter__(self, /)\n",
            " |      Implement iter(self).\n",
            " |  \n",
            " |  __le__(self, value, /)\n",
            " |      Return self<=value.\n",
            " |  \n",
            " |  __len__(self, /)\n",
            " |      Return len(self).\n",
            " |  \n",
            " |  __lt__(self, value, /)\n",
            " |      Return self<value.\n",
            " |  \n",
            " |  __mul__(self, value, /)\n",
            " |      Return self*value.\n",
            " |  \n",
            " |  __ne__(self, value, /)\n",
            " |      Return self!=value.\n",
            " |  \n",
            " |  __repr__(self, /)\n",
            " |      Return repr(self).\n",
            " |  \n",
            " |  __reversed__(self, /)\n",
            " |      Return a reverse iterator over the list.\n",
            " |  \n",
            " |  __rmul__(self, value, /)\n",
            " |      Return value*self.\n",
            " |  \n",
            " |  __setitem__(self, key, value, /)\n",
            " |      Set self[key] to value.\n",
            " |  \n",
            " |  __sizeof__(self, /)\n",
            " |      Return the size of the list in memory, in bytes.\n",
            " |  \n",
            " |  append(self, object, /)\n",
            " |      Append object to the end of the list.\n",
            " |  \n",
            " |  clear(self, /)\n",
            " |      Remove all items from list.\n",
            " |  \n",
            " |  copy(self, /)\n",
            " |      Return a shallow copy of the list.\n",
            " |  \n",
            " |  count(self, value, /)\n",
            " |      Return number of occurrences of value.\n",
            " |  \n",
            " |  extend(self, iterable, /)\n",
            " |      Extend list by appending elements from the iterable.\n",
            " |  \n",
            " |  index(self, value, start=0, stop=9223372036854775807, /)\n",
            " |      Return first index of value.\n",
            " |      \n",
            " |      Raises ValueError if the value is not present.\n",
            " |  \n",
            " |  insert(self, index, object, /)\n",
            " |      Insert object before index.\n",
            " |  \n",
            " |  pop(self, index=-1, /)\n",
            " |      Remove and return item at index (default last).\n",
            " |      \n",
            " |      Raises IndexError if list is empty or index is out of range.\n",
            " |  \n",
            " |  remove(self, value, /)\n",
            " |      Remove first occurrence of value.\n",
            " |      \n",
            " |      Raises ValueError if the value is not present.\n",
            " |  \n",
            " |  reverse(self, /)\n",
            " |      Reverse *IN PLACE*.\n",
            " |  \n",
            " |  sort(self, /, *, key=None, reverse=False)\n",
            " |      Stable sort *IN PLACE*.\n",
            " |  \n",
            " |  ----------------------------------------------------------------------\n",
            " |  Static methods defined here:\n",
            " |  \n",
            " |  __new__(*args, **kwargs) from builtins.type\n",
            " |      Create and return a new object.  See help(type) for accurate signature.\n",
            " |  \n",
            " |  ----------------------------------------------------------------------\n",
            " |  Data and other attributes defined here:\n",
            " |  \n",
            " |  __hash__ = None\n",
            "\n"
          ]
        }
      ]
    },
    {
      "cell_type": "code",
      "source": [
        "#CRIAR LISTA\n",
        "listapython = [] #LISTA VAZIA\n",
        "\n",
        "#OU\n",
        "#listapython = list() #LISTA VAZIA USANDO O INICIALIZADOR DA CLASSE"
      ],
      "metadata": {
        "id": "Gb135EKpkoxV"
      },
      "execution_count": null,
      "outputs": []
    },
    {
      "cell_type": "code",
      "source": [
        "listapython"
      ],
      "metadata": {
        "colab": {
          "base_uri": "https://localhost:8080/"
        },
        "id": "7doWsEN3PHmx",
        "outputId": "95303a0b-eb3e-480f-8867-41abe0cdecd1"
      },
      "execution_count": null,
      "outputs": [
        {
          "output_type": "execute_result",
          "data": {
            "text/plain": [
              "[]"
            ]
          },
          "metadata": {},
          "execution_count": 35
        }
      ]
    },
    {
      "cell_type": "code",
      "source": [
        "##INSERIR ELEMENTO AO FINAL DA LISTA\n",
        "listapython.append(6)\n",
        "listapython.append(89)\n",
        "listapython.append(99)\n",
        "listapython.append(99)  \n",
        "listapython.append(54)"
      ],
      "metadata": {
        "id": "AwzEFjAck2yu"
      },
      "execution_count": null,
      "outputs": []
    },
    {
      "cell_type": "code",
      "source": [
        "listapython"
      ],
      "metadata": {
        "colab": {
          "base_uri": "https://localhost:8080/"
        },
        "id": "Lmp2z2bLk-__",
        "outputId": "b251729f-4741-49ce-a8b6-37388f4d94d3"
      },
      "execution_count": null,
      "outputs": [
        {
          "output_type": "execute_result",
          "data": {
            "text/plain": [
              "[6, 89, 99, 99, 54]"
            ]
          },
          "metadata": {},
          "execution_count": 69
        }
      ]
    },
    {
      "cell_type": "code",
      "source": [
        "#INSERIR ELEMENTO EM DETERMINADA POSIÇÃO DA LISTA\n",
        "listapython.insert(1, 56) "
      ],
      "metadata": {
        "id": "9NT5cqpZmsPd"
      },
      "execution_count": null,
      "outputs": []
    },
    {
      "cell_type": "code",
      "source": [
        "listapython"
      ],
      "metadata": {
        "colab": {
          "base_uri": "https://localhost:8080/"
        },
        "id": "phbNmtjiTGog",
        "outputId": "bb01d9c5-14b1-48c7-8938-99a8d8142586"
      },
      "execution_count": null,
      "outputs": [
        {
          "output_type": "execute_result",
          "data": {
            "text/plain": [
              "[6, 56, 89, 99, 99, 54]"
            ]
          },
          "metadata": {},
          "execution_count": 71
        }
      ]
    },
    {
      "cell_type": "code",
      "source": [
        "#REMOVER ÚLTIMO ELEMENTO DA LISTA\n",
        "listapython.pop() "
      ],
      "metadata": {
        "colab": {
          "base_uri": "https://localhost:8080/"
        },
        "id": "Hb-u_rI7Po1k",
        "outputId": "4d32446e-5dcc-4b92-c18c-44ad1f3377b5"
      },
      "execution_count": null,
      "outputs": [
        {
          "output_type": "execute_result",
          "data": {
            "text/plain": [
              "54"
            ]
          },
          "metadata": {},
          "execution_count": 230
        }
      ]
    },
    {
      "cell_type": "code",
      "source": [
        "listapython"
      ],
      "metadata": {
        "colab": {
          "base_uri": "https://localhost:8080/"
        },
        "id": "t00nr-0omxh-",
        "outputId": "cc2d0771-e4d7-4bf2-da68-f7ade186bb98"
      },
      "execution_count": null,
      "outputs": [
        {
          "output_type": "execute_result",
          "data": {
            "text/plain": [
              "[6, 56, 89, 99, 99]"
            ]
          },
          "metadata": {},
          "execution_count": 73
        }
      ]
    },
    {
      "cell_type": "code",
      "source": [
        "#REMOVER ELEMENTO DE DETERMINADA POSIÇÃO DA LISTA\n",
        "listapython.pop(0) "
      ],
      "metadata": {
        "colab": {
          "base_uri": "https://localhost:8080/"
        },
        "id": "QaiZdvdePxwa",
        "outputId": "b230903f-c18a-42ad-eafd-dad087519353"
      },
      "execution_count": null,
      "outputs": [
        {
          "output_type": "execute_result",
          "data": {
            "text/plain": [
              "6"
            ]
          },
          "metadata": {},
          "execution_count": 231
        }
      ]
    },
    {
      "cell_type": "code",
      "source": [
        "listapython"
      ],
      "metadata": {
        "colab": {
          "base_uri": "https://localhost:8080/"
        },
        "id": "xNuhdo3VP37-",
        "outputId": "81f90a7f-1e48-4ea3-999f-5a4e43b4ba6b"
      },
      "execution_count": null,
      "outputs": [
        {
          "output_type": "execute_result",
          "data": {
            "text/plain": [
              "[56, 89, 99, 99]"
            ]
          },
          "metadata": {},
          "execution_count": 232
        }
      ]
    },
    {
      "cell_type": "code",
      "source": [
        "#REMOVER PRIMEIRA OCORRÊNCIA DE UM ELEMENTO\n",
        "listapython.remove(99) "
      ],
      "metadata": {
        "id": "7btJQnGHoG15"
      },
      "execution_count": null,
      "outputs": []
    },
    {
      "cell_type": "code",
      "source": [
        "listapython"
      ],
      "metadata": {
        "colab": {
          "base_uri": "https://localhost:8080/"
        },
        "id": "gJm_gxBgP60W",
        "outputId": "4c6f8b59-9efd-45d9-a87e-1fd3e8ff85dd"
      },
      "execution_count": null,
      "outputs": [
        {
          "output_type": "execute_result",
          "data": {
            "text/plain": [
              "[56, 89, 99]"
            ]
          },
          "metadata": {},
          "execution_count": 77
        }
      ]
    },
    {
      "cell_type": "code",
      "source": [
        "#BUSCAR ELEMENTO DE DETERMINADA POSIÇÃO\n",
        "listapython[1] "
      ],
      "metadata": {
        "colab": {
          "base_uri": "https://localhost:8080/"
        },
        "id": "jpLyFAFgoRDi",
        "outputId": "5c8b1b42-a9a3-479d-c04a-41a21c349425"
      },
      "execution_count": null,
      "outputs": [
        {
          "output_type": "execute_result",
          "data": {
            "text/plain": [
              "89"
            ]
          },
          "metadata": {},
          "execution_count": 234
        }
      ]
    },
    {
      "cell_type": "code",
      "source": [
        "#ATUALIZAR VALOR DE DETERMINADA POSIÇÃO\n",
        "listapython[2] = 100 "
      ],
      "metadata": {
        "id": "0YHKst22oVZ9"
      },
      "execution_count": null,
      "outputs": []
    },
    {
      "cell_type": "code",
      "source": [
        "listapython"
      ],
      "metadata": {
        "colab": {
          "base_uri": "https://localhost:8080/"
        },
        "id": "01UJPFbsoaCR",
        "outputId": "82950555-8e3f-46ea-a2b3-d4fa28fe8ad1"
      },
      "execution_count": null,
      "outputs": [
        {
          "output_type": "execute_result",
          "data": {
            "text/plain": [
              "[56, 89, 100]"
            ]
          },
          "metadata": {},
          "execution_count": 80
        }
      ]
    },
    {
      "cell_type": "code",
      "source": [
        "#VERIFICAR TAMANHO DA LISTA usando função embutida len\n",
        "len(listapython)"
      ],
      "metadata": {
        "colab": {
          "base_uri": "https://localhost:8080/"
        },
        "id": "j9zTgLBwTokW",
        "outputId": "54c4c9ea-5704-41b8-cec3-380093bd0fe7"
      },
      "execution_count": null,
      "outputs": [
        {
          "output_type": "execute_result",
          "data": {
            "text/plain": [
              "3"
            ]
          },
          "metadata": {},
          "execution_count": 236
        }
      ]
    },
    {
      "cell_type": "markdown",
      "source": [
        "##Outras operações implementadas nas listas Python\n",
        "\n",
        "Combinar, verificar posição de elemento, contar ocorrências de elemento, pesquisar se tem valor, fazer cópia, limpar lista"
      ],
      "metadata": {
        "id": "k7n5JRdEU010"
      }
    },
    {
      "cell_type": "code",
      "source": [
        "l = [78,99, 2, 3]"
      ],
      "metadata": {
        "id": "86m6rKcKlEJJ"
      },
      "execution_count": null,
      "outputs": []
    },
    {
      "cell_type": "code",
      "source": [
        "#COMBINAR ELEMENTOS DE LISTAS\n",
        "listapython.extend(l) "
      ],
      "metadata": {
        "id": "I0R-yhb5m3BR"
      },
      "execution_count": null,
      "outputs": []
    },
    {
      "cell_type": "code",
      "source": [
        "listapython"
      ],
      "metadata": {
        "colab": {
          "base_uri": "https://localhost:8080/"
        },
        "id": "HoUtA2rnm7AN",
        "outputId": "cad2cd1e-6f56-41c4-8629-8bcab1c4b2d7"
      },
      "execution_count": null,
      "outputs": [
        {
          "output_type": "execute_result",
          "data": {
            "text/plain": [
              "[56, 89, 100, 78, 99, 2, 3]"
            ]
          },
          "metadata": {},
          "execution_count": 239
        }
      ]
    },
    {
      "cell_type": "code",
      "source": [
        "l2 = [200, 300, 400]"
      ],
      "metadata": {
        "id": "bwy36eXbodED"
      },
      "execution_count": null,
      "outputs": []
    },
    {
      "cell_type": "code",
      "source": [
        "# OUTRA FORMA DE COMBINAR ELEMENTOS DE LISTAS\n",
        "listapython = listapython + l2 "
      ],
      "metadata": {
        "id": "CfCrydzrogez"
      },
      "execution_count": null,
      "outputs": []
    },
    {
      "cell_type": "code",
      "source": [
        "listapython"
      ],
      "metadata": {
        "colab": {
          "base_uri": "https://localhost:8080/"
        },
        "id": "dIxJRwMAokos",
        "outputId": "3a081233-89d0-4077-8afc-c5de8a15881b"
      },
      "execution_count": null,
      "outputs": [
        {
          "output_type": "execute_result",
          "data": {
            "text/plain": [
              "[56, 89, 100, 78, 99, 2, 3, 200, 300, 400]"
            ]
          },
          "metadata": {},
          "execution_count": 242
        }
      ]
    },
    {
      "cell_type": "code",
      "source": [
        "#PESQUISA SE TEM VALOR\n",
        "100 in listapython "
      ],
      "metadata": {
        "colab": {
          "base_uri": "https://localhost:8080/"
        },
        "id": "Coa0uGFzo5hv",
        "outputId": "1dc490de-8890-4256-b7fe-078ff337b9a2"
      },
      "execution_count": null,
      "outputs": [
        {
          "output_type": "execute_result",
          "data": {
            "text/plain": [
              "True"
            ]
          },
          "metadata": {},
          "execution_count": 243
        }
      ]
    },
    {
      "cell_type": "code",
      "source": [
        "#FAZ UMA CÓPIA\n",
        "copia = listapython.copy()"
      ],
      "metadata": {
        "id": "QMSl2I0yqAhs"
      },
      "execution_count": null,
      "outputs": []
    },
    {
      "cell_type": "code",
      "source": [
        "#REMOVE TODOS OS ELEMENTOS (LIMPA A LISTA)\n",
        "listapython.clear()"
      ],
      "metadata": {
        "id": "JAKxgEuxp4tt"
      },
      "execution_count": null,
      "outputs": []
    },
    {
      "cell_type": "code",
      "source": [
        "listapython"
      ],
      "metadata": {
        "colab": {
          "base_uri": "https://localhost:8080/"
        },
        "id": "Q_EpH4vjp6mR",
        "outputId": "467d2bd8-5141-4d98-c7fb-f1b9212db13c"
      },
      "execution_count": null,
      "outputs": [
        {
          "output_type": "execute_result",
          "data": {
            "text/plain": [
              "[]"
            ]
          },
          "metadata": {},
          "execution_count": 246
        }
      ]
    },
    {
      "cell_type": "code",
      "source": [
        "copia"
      ],
      "metadata": {
        "colab": {
          "base_uri": "https://localhost:8080/"
        },
        "id": "Sms7N3ZlqEQO",
        "outputId": "2af944e5-8c53-4e28-e0d5-3867861792dd"
      },
      "execution_count": null,
      "outputs": [
        {
          "output_type": "execute_result",
          "data": {
            "text/plain": [
              "[56, 89, 100, 78, 99, 2, 3, 200, 300, 400]"
            ]
          },
          "metadata": {},
          "execution_count": 247
        }
      ]
    },
    {
      "cell_type": "code",
      "source": [
        "#ALTERA ORDEM DOS ELEMENTOS\n",
        "copia.reverse()"
      ],
      "metadata": {
        "id": "Sgz4ggK4qm4r"
      },
      "execution_count": null,
      "outputs": []
    },
    {
      "cell_type": "code",
      "source": [
        "copia"
      ],
      "metadata": {
        "colab": {
          "base_uri": "https://localhost:8080/"
        },
        "id": "PrtNsgtYqqr6",
        "outputId": "64e1458e-e532-4cab-f8ce-3970ca293102"
      },
      "execution_count": null,
      "outputs": [
        {
          "output_type": "execute_result",
          "data": {
            "text/plain": [
              "[400, 300, 200, 3, 2, 99, 78, 100, 89, 56]"
            ]
          },
          "metadata": {},
          "execution_count": 249
        }
      ]
    },
    {
      "cell_type": "code",
      "source": [
        "#VERIFICA POSIÇÃO DE PRIMEIRA OCORRÊNCIA DO ELEMENTO\n",
        "copia.index(100)"
      ],
      "metadata": {
        "colab": {
          "base_uri": "https://localhost:8080/"
        },
        "id": "5AoPVh7cVlJx",
        "outputId": "bd9658f8-ecdb-4a5c-f250-a594576a008a"
      },
      "execution_count": null,
      "outputs": [
        {
          "output_type": "execute_result",
          "data": {
            "text/plain": [
              "7"
            ]
          },
          "metadata": {},
          "execution_count": 250
        }
      ]
    },
    {
      "cell_type": "code",
      "source": [
        "#ORDENA LISTA\n",
        "copia.sort()"
      ],
      "metadata": {
        "id": "6Cs1nGN5x1Q4"
      },
      "execution_count": null,
      "outputs": []
    },
    {
      "cell_type": "code",
      "source": [
        "copia"
      ],
      "metadata": {
        "colab": {
          "base_uri": "https://localhost:8080/"
        },
        "id": "TKyckmINx4CO",
        "outputId": "56099626-42a2-46fa-daeb-841d2f6aa764"
      },
      "execution_count": null,
      "outputs": [
        {
          "output_type": "execute_result",
          "data": {
            "text/plain": [
              "[2, 3, 56, 78, 89, 99, 100, 200, 300, 400]"
            ]
          },
          "metadata": {},
          "execution_count": 252
        }
      ]
    },
    {
      "cell_type": "code",
      "source": [
        "copia.append(100)\n",
        "copia.append(100)\n",
        "copia"
      ],
      "metadata": {
        "colab": {
          "base_uri": "https://localhost:8080/"
        },
        "id": "gSGJuA_6Vs_B",
        "outputId": "03e907b5-d9f3-45c8-d4c8-c18a6df5d348"
      },
      "execution_count": null,
      "outputs": [
        {
          "output_type": "execute_result",
          "data": {
            "text/plain": [
              "[2, 3, 56, 78, 89, 99, 100, 200, 300, 400, 100, 100]"
            ]
          },
          "metadata": {},
          "execution_count": 253
        }
      ]
    },
    {
      "cell_type": "code",
      "source": [
        "#CONTA QUANTAS OCORRÊNCIAS TEM UM ELEMENTO\n",
        "copia.count(100)"
      ],
      "metadata": {
        "colab": {
          "base_uri": "https://localhost:8080/"
        },
        "id": "dW46L6N9V18-",
        "outputId": "7c897ec1-8cd4-412c-fddd-46013f0a1a92"
      },
      "execution_count": null,
      "outputs": [
        {
          "output_type": "execute_result",
          "data": {
            "text/plain": [
              "3"
            ]
          },
          "metadata": {},
          "execution_count": 254
        }
      ]
    },
    {
      "cell_type": "code",
      "source": [
        "#DESTRUIÇÃO DA LISTA (APAGA LISTA DA MEMÓRIA)\n",
        "del listapython"
      ],
      "metadata": {
        "id": "F4Mt51VmWCcN"
      },
      "execution_count": null,
      "outputs": []
    },
    {
      "cell_type": "code",
      "source": [
        "listapython"
      ],
      "metadata": {
        "colab": {
          "base_uri": "https://localhost:8080/",
          "height": 168
        },
        "id": "fjqQk_wzWG2x",
        "outputId": "505bab4a-caaa-4ef6-c7bd-05998ab71734"
      },
      "execution_count": null,
      "outputs": [
        {
          "output_type": "error",
          "ename": "NameError",
          "evalue": "ignored",
          "traceback": [
            "\u001b[0;31m---------------------------------------------------------------------------\u001b[0m",
            "\u001b[0;31mNameError\u001b[0m                                 Traceback (most recent call last)",
            "\u001b[0;32m<ipython-input-104-9193961bd9bd>\u001b[0m in \u001b[0;36m<module>\u001b[0;34m()\u001b[0m\n\u001b[0;32m----> 1\u001b[0;31m \u001b[0mlistapython\u001b[0m\u001b[0;34m\u001b[0m\u001b[0;34m\u001b[0m\u001b[0m\n\u001b[0m",
            "\u001b[0;31mNameError\u001b[0m: name 'listapython' is not defined"
          ]
        }
      ]
    },
    {
      "cell_type": "markdown",
      "source": [
        "## Exercício de Listas Python\n",
        "\n",
        "Considere a lista `l = [2, 6, 6, 7, 10, 6, 6]`. Ao chamar a função `Index` para procurar pelo valor de 6, ela retorna apenas a primeira ocorrência desse número. Implemente a função `findall `para retornar uma lista com a posição de todos os itens com determinado valor. Se a lista não contiver aquele valor, retorne uma lista vazia."
      ],
      "metadata": {
        "id": "2Qg_AKLNtOZX"
      }
    },
    {
      "cell_type": "code",
      "source": [
        "l = [2, 6, 6, 7, 10, 6, 6]"
      ],
      "metadata": {
        "id": "Y331bXdXtOok"
      },
      "execution_count": null,
      "outputs": []
    },
    {
      "cell_type": "code",
      "source": [
        "l.index(6)"
      ],
      "metadata": {
        "colab": {
          "base_uri": "https://localhost:8080/"
        },
        "id": "LXXe7mWptcY6",
        "outputId": "e1003cd3-317a-4110-b637-7fe0b57b11e4"
      },
      "execution_count": null,
      "outputs": [
        {
          "output_type": "execute_result",
          "data": {
            "text/plain": [
              "1"
            ]
          },
          "metadata": {},
          "execution_count": 106
        }
      ]
    },
    {
      "cell_type": "code",
      "source": [
        "l.count(6)"
      ],
      "metadata": {
        "colab": {
          "base_uri": "https://localhost:8080/"
        },
        "id": "qUje0Uymu0BQ",
        "outputId": "358f97d5-a010-48a1-fe13-a6bbfc2e26b0"
      },
      "execution_count": null,
      "outputs": [
        {
          "output_type": "execute_result",
          "data": {
            "text/plain": [
              "4"
            ]
          },
          "metadata": {},
          "execution_count": 107
        }
      ]
    },
    {
      "cell_type": "code",
      "source": [
        "def findall(lista, valor):\n",
        "  indices = []\n",
        "  \n",
        "  #SEU CÓDIGO AQUI\n",
        "  \n",
        "  return indices\n",
        "\n",
        "findall(l, 6)"
      ],
      "metadata": {
        "colab": {
          "base_uri": "https://localhost:8080/"
        },
        "id": "BxYdyICmtfhs",
        "outputId": "8aa94b06-7dca-42d5-9f32-055aa7a58f23"
      },
      "execution_count": null,
      "outputs": [
        {
          "output_type": "execute_result",
          "data": {
            "text/plain": [
              "[1, 2, 5, 6]"
            ]
          },
          "metadata": {},
          "execution_count": 216
        }
      ]
    },
    {
      "cell_type": "markdown",
      "source": [
        "# Exemplo de implementação de lista estática sequencial\n",
        "\n",
        "Para implementar um TAD em Python, devemos criar uma classe\n",
        "\n",
        "> Em linguagens orientadas a objetos, classes são as estruturas usadas para definição de novos tipos de dados\n",
        "\n",
        "Definimos no método especial __init__ os dados que irão compor esse tipo (**atributos**) e depois definimos as operações que podem ser feitas sobre esses dados (**métodos**)\n",
        "\n",
        "![TAD.png](data:image/png;base64,iVBORw0KGgoAAAANSUhEUgAAAZUAAACkCAYAAABfCrOHAAABOGlDQ1BrQ0dDb2xvclNwYWNlQWRvYmVSR0IxOTk4AAAokWNgYFJILCjIYRJgYMjNKykKcndSiIiMUmB/xsDKwM7Ay6DGIJWYXFzgGBDgwwAEMBoVfLvGwAiiL+uCzJpivO1cjMWGdoHpqRe3pXw2xVSPArhSUouTgfQfIM5OLigqYWBgzACylctLCkDsHiBbJCkbzF4AYhcBHQhkbwGx0yHsE2A1EPYdsJqQIGcg+wOQzZcEZjOB7OJLh7AFQGyovSAg6JiSn5SqAPK9hqGlpYUmATeTDEpSK0pAtHN+QWVRZnpGiYIjMKRSFTzzkvV0FIwMjIwYGEDhDlH9ORAcnoxiZxBiCIAQmyPBwOC/lIGB5Q9CzKSXgWGBDgMD/1SEmJohA4OAPgPDvjnJpUVlUGMYmYwZGAjxAZuLUogy/0AyAAAAOGVYSWZNTQAqAAAACAABh2kABAAAAAEAAAAaAAAAAAACoAIABAAAAAEAAAGVoAMABAAAAAEAAACkAAAAAFOqbJkAAEAASURBVHgB7N0HvC1FkT/wcXNyV9cc0IeAugqIYkbchwQFs67uKkEUc8SsuLqo4BLWLKBiADMqmEAFAyAYMaKYAwqKK7urm/P+//fb8Hv0G2bOPffec96d+97U5zOne7qrq6urq6u6e3rmXOX/LUAzwiiBUQJbjATqIX+Vq1xlQ7ulJ+/Xfu3Xmv/7v/9rhCOMEliKBEaNWYq0RtxRAmtcApwGZ/E///M/GxxIHIlQ+v/+7/8WnISr0WS85FqN+lezzvTHNDzoy6HBbwyNoQjUDCrx8CiNops9ZYYFh2B//dd/PWgbhfJd8OsyQUpa7sdwlMDmLAFjIeOH7ruvIXnS6jFT42yKeMZlm79NUfdaqWOosrnKAmMba9UqSzTs/PjHP27OOeec4kRq5f/v//7v5vd///ebffbZpziS008/vfnlL3/ZbLvtts2uu+7a/MZvXOYnf/GLXzRnnXVW8+///u9l9sXp/PEf/3Gz0047NTe84Q03DKY+Z7TKYhirHyUwSmCUwJqUwOBWKnEgF1xwQXPkkUc2//qv/1pmTHE2VirXve51m9ve9rbN3/7t3zYveclLmr//+79vbnnLWzY3uclNmhvd6EYFX3l5//iP/1ic0H/91381f/iHf1jKPfCBD2zucpe7NL/1W7+1JjttZHqUwCiBUQJDlcDgnApBcSycw1577dX8wz/8Q/PRj360sfLYYYcdmtvf/vbN9a53veIoPvShDzWch+0veF/84hebG9zgBmW18rOf/az57ne/21z1qldtHvSgBzVWOGeeeWbz5je/uZR56Utf2uy8885D7ZeRr1ECowRGCaxJCQzSqZDk9ttv3zznOc8pq5BvfOMbzaWXXtrstttuzVOf+tSy4rDlZevrOte5TrPVVls1X/jCF5ozzjij2WOPPZo/+qM/av7t3/6tdMj1r3/95glPeEJxQre73e2aF7/4xc2nP/3p5uSTTy6rG1tpI4wSGCUwSmCUwGwkMNjTX1Yr17zmNZtrX/vaGx7C2/aySrn61a/efPKTn2x++MMfNne+852bRzziEcWReIZy8cUXl+clVia2zGxx/e7v/m55nvKABzyguc1tblNWMhzLP//zP89GiiOVUQKjBEYJjBIoEhisU8GdbS3PUAK//du/XaL/8i//0nzsYx9r/vM//7OsaO5whzsUZ3PRRReVLTDHIj1DCXAuaP3O7/xOWeVI53RGGCUwSmCUwCiB2UpgsNtfmpkXrzgJkIf13/rWt5rzzjuvnOr61Kc+VU5/OeX1H//xH2UFY0XCiQArHie8XOh49oKOVc+49VVENP6MEhglMEpgZhIYtFPRynq1EkfxkY98pLnkkkvKlpeH8T/4wQ/KyoQT+uxnP9t4SJ+jwsr80z/9U1nxnH/++c3Xv/71kmfbLCufmUlzJDRKYJTAKIEtXAKDdyr6xwrD6oKjcETYA3nbWwceeGA5Iiz/V7/6VXPMMceUZypWMXFAP/3pT0u6bbSvfOUr5Rjy7rvv3tz73vfesBLawnVgbP4ogVECowRmJoFBOxVbV1YT2223XXkG4riwVQeH4jjwox/96GbHHXcsDsf7LFYoVjE///nPmxvf+MalnIfxcUJOhXFEtsduetOblq2xtiSzxSZd/W2o84NTp6WMtDrexpWXcl14qbem05VW02jj1vd1vKaTeHjI/VoK67bV8bShndZ1D7eWAZyk1fGSePlPTacvHvw6vy+tXU/7PuXGcJTAkCUw2DfqM8CtQjw34Si8sOi9E++nXOMa12judre7lZNdGbC2tr70pS+Vh/eemTjhZWWTZypOk3lp0jHkGlJXndYXHwd6n2TG9FlLYNS1WUt0pLeYBOicXR42M3Z1sTLt/ME5FQx+85vfLC8o2rJi8DXQ51ec2HIvzNvwGXgRhFUMnJRr30dQ8Gv60pP3m7/5mxtOhyU9hwbcO0WGLhr5VpL0xIXyQOL4V58LrjbV9dS44vLV4wACGtrLwSojTxo5OJzgyLT64CqDvnqUEUpTNjylvHsn6PAGVzrwjk9oqkdZK8bIUhq6QnJWXohe2ibEHxz5IPxHBsrIhwvULx4+pcl370IHDWl4CSgjT5ow7UAfyFfGhSdtdkgDLZd7ZbQxtPAoDQ35QIgP6eoJTfKSToboy8vzOn0iTb+hHZmIAzTUhQ9pkYk+22WXXcpzw7SjFBh/RgnMWQIZ26pZju4Ncvvrve99b/O+972vGLYMMgPWwM1AzgCNAKTLB9JcGfwZrPLgSTeIDXBgAIMYj9/7vd8reWioH134tZFWVnocA7qMibqUE5evLsZOqIxLmRgluMoA6cq40MNXDLk8/EkLXbx5lvQHf/AHpay4LT5lGbMYtvCY9ignTb2cknttc6lPWStCbU69kRm+Izv46kJHOjrKM9hopHxp3MKP+tGpZaR88ELbPZzQJTNl9Qt+lQnfaKPpghPAC1mFlnT3ZOhIuk/24FV+aKEf2cLHDx60RaisOsgED0I46EmP4yWX5HE46Qs8qQuIh0dbt+i71w7txetRRx1VHEspMP6MEthEEqCDK4HBORUDygkug3v9+vVl8KaRBrDLgDOIM2DNqg1kgz7GJXF5BiwQGuwuxsSlHsbEgPb8RR7joDyIoZUnDg9OaDEu8vAlHTBWcPEoXZsYDvcg9aEBL4ZSHD/SXfjDizRlXdoXw8SZ2N6Dc7WrXW3DCgNOeIqhQw/vIHTwhpYL7+TKQGpT+FYePhzl4ahTmjje9IM2ocGA+nCn+oE2yUcPX56JoRmjjCba8KTB1W6gjDQ04alDveJkCiJDafDVKw8vHGz4RpMu6Bt9C1eIF2XVIS2yznHz1I2OutBIO+GLo5n6hQAd7dUeadoHTzoa6QP1kAk66Gvv1772tfK+la9IjDBKYK1JYJBOhWHbeuutm4c//OHFkBiQGYQZyAaqQWrQM24GI2MSwxDD4h6u8i73rtwbyAa08ugFX5xRCC6eAFz8AGUAgwPXFaOSOpWP4VWXe+WkibvUBV/5GBb5DKH6xKUnL0YRvnYqyzilffAYM3zCkQ7HBdATxwf5xXnhJfTQgAfHBSf08SuONtB+fYCmMoxmjY/fyJhzTbulKZP2qzO01Zm240ldwVcn+qDmA06ckrjVVtoafVAuZdUVB0cO0TP5cSrpW4YfLQ4Tbfj4CQ9pk/ZEdtqNFnz5ymhX+kpZdeItZeCccMIJ5dmgMiOMElhrEhic1hqAMVBm4h6uG4gBg9YFzFzNRmvIoJYWPCGDYODWtNy75LsM9uBmNZF7eSkffHVIS7m6Tun1PQMH1C8PP+JoBVfovgvqvJSt09rlGPY6rY7X9OEBcg8fdb608FzXB6eNr46k1fWFX2UcsAB1P7hPuYQpzyiLw7cKcTHE9IJDCH5XWBvl5KsLuK/5cl+3s80fB+F7c3ihl/SOzPAAgi8/dXFa0qW5OEAQvtr1K+fDqcrIc40wSmCtSWBwToURMVuznZMZngHZB115XWkZ9DWdLjz5bVx89EEfjXZ6fS9e00xewq666ryUrdPaZdptaOfnPrTcd9FLmjDxlG3f99FYrI66XJumstK8uOrUn5deGfI/+ZM/ae5///sX5xJ+JoVtunBrvuqyjHsbn/P94Ac/WL7k4COlHJsH6be+9a3roiWesnE4QWjX19VHypikcDzt8qEzhqMEhiyBQToVs1F/pGXgGqBdg3zIQh15m50E9L+PhB5xxBHlA6L++sA33k499dRySOFJT3pSecbDENuqMiHxEdLojv/asXVp5Wl1Q5f8D4+tKxMY21lWILbNGHE4WUlYNdBFHzC1wvr+979fXqDlXJTzVQZg+wpNdSsPH23H4NWNH5Mk0OVISsblP5yXQwR40KYRRgmsNQkMzqkwIpb9Bn32rDPzW2vCHflduQT0/Wtf+9rGicA3vOEN5cVVhvov/uIvmqOPPrr8HcLLXvayYtjpC0fgfaZDDjmkOffcc0tZhtxW1OMe97iywnnsYx9btqI4g/vc5z7lbxNw+nd/93fl30Of+cxnNqecckrzlre8peB5r+mwww4rjkfdHJOH6ByJLa1XvOIV5XCJ50Wcz/Oe97zm85//fPPOd76zbOV6EffZz352Y4WzGHAm2mxVs5gDWozWmD9KYDUkcMXDitWovaNOA4lxMLgMXpCwA31M2swlYILx5S9/ueiEVYpnU4y8mb9VyE9+8pOyJeXTPP7RkwF/4xvfWIw8Z+Pjo/4V9Ktf/Wrz6le/uvHZHn9T/b3vfa9sXcG36rAy9hfWJ510UgmPPfbY4qCe8pSnlJds/QHciSeeWJzOcccdV1YR6Pvjt9e85jXFEeDJFx38qdwnPvGJxv8A+SSQv7nOM7VpusvzGzo/TqamkdaIMzQJDM6pMCJmf/WD5nFwDU1tNh0/+j6TCttLwMSD4bXFZVvL1pVnLHvvvXfjbxCsIHya5zOf+UzB89FRq4RrXetahZaycP3hm69Wcwy+C+c9H3VwLpyIfx/1p2+e3TjmazvrXve6V7N+/fry19UcltWQVQsHpyw+rFasgPy9tW06//1jG21aPdZeqyjXCKME1poEBudUMqDsb7cfbK414Y78rlwCDLFnF56XWBF8+9vfLisBn+Txh2ueV5iIWHlwDt5xssrlEIBTWv5Oet999y1/T02/bIV5XsHRMPoe/u+zzz5lqyqOi8PiRDgknwmyejbZ4aisitS3bt26Ug8n5bt0D3vYw8qqxqqHs7JyUp8DBr4SwRm6XwzgaRM+RxglsNYkMLhnKgRo4Bn0087s1prQR36nlwBdOOCAA8rqwbaVVYjnGhzKwQcfXPTEjN7zjNe97nXlbxAe+tCHlpXChRdeWJ6NHH/88cVIM/JWNhxRHoL7i2l/Rf2BD3yg6J2tMA7Cx0o9xznooIOK8/CcxWpFmq0t5T2b8fzG6sXpNA/8OSOrGysfjkTaTjvtVGhwFBzGJIgzgTee/pokqTFvqBIYpFOZZvANVaAjX7OVAKey1VZbNS94wQuKoc57K7e4xS3K9pK/lLaKiZOxzeTL1ba6nvjEJ5ZVjpWEd59udatblXdMPBPZdtttywmt/fffv7nZzW624SVFhtxKw8rGs5yzFv6imoPZYYcdmsMPP7x8k45++mDp9ttvX+hK53CsrKWr3/atbTQTI/S9zKstrsUmS/LxMTqV2erSSG3TSGBwTsWAtc2Qk1+bRgxjLUOVQGb2HAuDTT8YXU4CWBkw2J5feCAunzFmvOF7UA6fTtkWQ+8e97hHyZdmZRIcDguOlxs5K5+j8YwGXTQ5IttqaKuXExH3HGXdwlYY2vTW5a8Z8rcMeE07ppEzJ4lndaw2RN5tPvA3wiiBLgkMzqkYpGB8ntLVXWszTZ/GCFk1+OQJkOYhewyXkAG2naUMAy+e5xnwGX7OgH4wuvCe/vSnFwdiaywPt9FSPisb+Ay7snDE4bivDb46lONsHvnIR5Z3RuBcuLCVhlb4gifu8uxDGXWgHZrS0NZm6fh1ryyAJ02IF3hWWv7JlGP5zne+UxxccDMm4KKTtimfdjsw4KSZOrJCE7rCc+SZMtqAHrpwwo8VG4ep3qTjRdw1BMB7YCg8hZ8tNRycU6HolNuAGWHzkEAGuz49YeG7Vk5mSWPIGNH0tX73zINBBXEKVgkxinAZPXnS0bCisN3E+AUPLQY7tMUZU06ME4ALh1FCC0208OWihy5x9YQ2vtCKMRPCUxZODLJy7oV4gJN79aVuaeJAWbz96Ec/Ks+NXvjCF244iIBGyolrC5rqV86FlvbJA+iGvjJ4hI+n5JdI6ydts/pzOMJKUF1kS85DgrRlSDxt6bwMzqlQEpdBAupBsKV31lpvv4fp73rXu8q7InvttdeGWbp2cSSMYIyfNHFGLIbTPRxGXpgtMAaPvrgXxvjBAWjLY5S9HMnoutCTxkkwuDHM6LmANDzAc+QYL96Yd1hAngf20VH3cTi1DqOtLjRTn1Nm+ONElZcfvqwO0OEQhPhXn3x1ePjvXR35ViYckcMH6kxdyjmBhq73Z+SRG1x1kwcccXnuyS2yPPvss8vhA30WiHPN/RiOEuiSwOCcCiXP4AvDGbS5H8O1KQH96K11D8ydpmIAA3EAQkYOiDPCyuWSrpz7lBeHy8gChldcOpAHF11GVRgaiQuDL8ylfMrG0TDGjDWc1AkPoJOwbgvcmkdxUPORe/xLB+i5Dy10tCHONk6AU0jdpeDCDx6Vxa88NEML36EtTDz0nGy74IILiqNBD354Cv0xHCXQJYHBORWzJQMnAwHTFH6EtSsB/akPzbZtd9nz9yb7YpByNV5XWp0vHhxhIDoU4+y+Kz/4oZH7drhYfhvf/XLKhE7Nq7S0R3wxuilbl1GuC+DaQsuR/jjNacp20RvTtjwJDNKpUOD2J+23vK7Z/FpswmCmbPUxDXQZsq60Nq3gJKzz69l2V35wJ+XBWSw/dOpwOWVSflLZSXnKL5afOhLqI87F6sf2HFgqjdAawy1PAtON7k0oF8pLmX2pdVTkTSj4OVaVfrRlU69A+6rMzLovf3NPj7wiB/eJ123vwqvzp4mjGzrBd59tsnZecMZwlECfBAbnVDJLMpul0KNS93Xd2kvPPn5mv+0W2Jpi5LLl0s7f0u5r3a/jtRy6nEJXmnGFBhm7OHd44lZvXfThOBwwwiiBpUhgcE4lhicPQpfSmBF3+BJwgsg7IF3AyLl8gNEHHRk8QCcYRUbOg2S6wQjCBZyUNPh5OJ0tthhLuIwnWnngnvJowHNlUpMTZnmwX+tl8IXS0cklLYAeo6w+vAU3hjx4wui7Mk57CcOD93q0URpA01aiQy3q9bJmaHoeog3w1YcuenDJL/LxBQLfKpNWgzrIKbISjjBKYCkSGJxTMUgodgbxUhoz4g5bAvqUkWL0ukC/OyLr/0gcm+V8GFCGMEY5htW9uHx0GW6G0z1HwKm46FPKikuLYVU+NOC44ADx4AYnfMfRSI8BZ+RjjPGCJ+XF1cd4o6lM+FIWv0J4tgfF41TQU9Y9B5N8tPGQOuMs4EiXDyK7tFeIB8eqfe/MN8q22WabwlMpsPCT9ofHpI/hKIFpJTA4p2JQAc9VRti8JBDjybB1ASPKuPoCsA81PuYxjykGGL6yDF1m74wfY8pIi8t3ssysHQ204NdlY/TN5gHj65IentBjrNFAP/lwGGVXZv3oM/jqlJ46lVUOLUYeb/RZHM3wgQf1whdyGkK0pMVBqM/Kw4V35dNmPMBVBz6ky8eXurRFHK3Q9KdnjnbDxWMXoBG+uvLHtFECfRIYnFPxspVBYGCNsHlJQL8yfvlr3XbrYuQYSt/Yyre8GGh5wjiKGM84FfdowwGMc4xv6LoH8FLevXgAjvzQSpnUkzzpeHEvL8ZZ/erOPdqpP/XIU14YJyKubNI4AXnSlFOXvDiv0MK3NHmciPRc6pCHDj7F/UmZ48KcCgfdhpquvPZ9G3+8HyXQlsDgnEoGxKjM7a5au/f6MgZRKxi/LoDDmJpYmHWbuUtzBcSjG0kP/eAIg1OnpaxtocWgi2bKhHbqT3rC1JP7vjB4tTzaae06wlcdhn5wk5d0oTQXx27VxOGol8MRr4EDgkdOcdJ1/hgfJTBJAoNzKpbcBkf9YHJSA8a8tSOBzJb1cR9ki8ZsOrP0GMuUWeweXhunr2zS22FfeXiT8kJnGpw+Wsr2lU96O0y9k2hyKmQaR8GhhE5dPiubrrwab4yPEuiSwMZTlC6MTZRG4QHDUyv+Jqp+rGaOEohxMkM2O859V5WZUU/C6Sq3WmnhV/3R4dXiZVK94S38kq8ttS6Q3rU11oU7po0SaEtgME4ljFF6jiWDIOljuHYlkL7Mg996u6fdqjiTtXRQIzxrS9rabtdq34evrABN3Loch7akPXDaW2Or3Y6x/uFLYJBOxQDIEj2DYfiiHDnsk0CMVCYLkwxV+js4KdtHe17p4aNNvyvd14D9l0tXXru8+2nxusquJI388eqZFblmjPXRzCSgL39W6aslj1nxP9LZWALd69+NcTbJHcWi6ELL79U2Kpuk0VtYJfrUZc++Dxg+epDVTPSiD38e6ep0OS318Y9/vPnc5z5X+Nlll12au971roV/PGqL/3I5+OCDC66/KfZ5obp98AB6CZOWsGTM+Sd1OQhBxi4P4x2IqCHthhee6/zE5YVm0lYSoufKuF8JrbHs6kpgME4lCmp2NGuFXV0Rj7VHAowYYzUJGGT9v9gsehKNWeTRQ39Q9ba3va0cb163bl3z5je/ubnpTW9a/rsk/NlC8h/0JkJ5XuTdkPbJKe2GE91OOAtep6ERmebkl3uOpc2HcZhLe/qMPBx9FdxpeOjDQaPNRx/umD58CQzGqUSpDGaKbLBSthHWvgTSt4wqYyzsA30uPziroQPqPP/885tXvvKVzQ1ucIPm0EMPLV/NtsXlkynHHntsedvfOx/3u9/9ykuXW221VVmtnHjiic25555bjkPvsMMOzX777VfeXj/ppJPKUd5rXetazVOe8pRyurFPBvNMN644Cw7BWGuDtrv0WR8kz0pOf8bxrKSvVlK2j88xfXUk0D+6V4efsiSnYDEqq8TGWO0cJKBfXe0tl7qqbM14R2U14bzzzmsuuuii5lGPelSz0047FSPrP2B8k+xNb3pTMaT+ffEOd7hD+Xtk/9a4fv365lOf+lRxKN/61reaT3ziE83OO+9cHNQ73vGO8tLnnnvuWQx6HO2maqP6XJ6n2LLTD10P6jkbK0qrLfju26CsPDjG6Vo6VNFuy3g/ewkMxqlQVECJKewIm48E0rc+NyLuBFIf5A3wLoPXV2Ye6f5QDOR/feikWbnQ2+gczdFHH13+1teK5YY3vGFxGvJ/8IMfFJyLL764fMOM4bX95bMzVjbaBi9ymQf/bZrqMrby2Rbbc10yDl/wXVmF1PTgACuexFOuxhvjW6YEBnP6KwPMgLUsX+2Z6papDvNtdQzVpFpipKxYQO4nlZlH3rqFZyiMphULh8AgczT4cW233Xbl+2Re0jWzh3vqqac2Z555Zvm75Nvf/vblmYXTVspySLe97W2bm9/85uV5S5exnkc7QpPs8a3erBQ5u4y74CWUjueufGkubeaYxDd1e8LnGA5PAoNZqRh4FDOzWTOpLoUenghHjpYiAYZNX08C/a7/VwvwuNtuuzX7779/c9pppzVPe9rTyuoK33vvvXdxFniL0TUJsqXE6Vid+G/3HDFW5le/+tWGVcJq6rS6OYGslLTT1eYp98LEu/piUl4X/pi2ZUhgME4l4o7RWUxh4dUQ/AyS5Euv4ymTtNwLa9ykh27u63LJq9P66CS9i07yajpt2vW9ONykheZQw/Bqxp+TUX28MsLwI4vVaKM6PVA/5JBDmmtc4xrlq8lCH7hct7CCOeCAA8rRYm1whPjBD35wWbnY2vr+979fHIpVictpMavu+973vuUUWV+7552uTZyglRWHbZUSp1jXDU9+JnWrIf+anzG+9iQwOKeS01+LLaf7lD3pCXVJHU8XdaX14aZMX34Xra60WdAJ3YQ1zaHH9a1trUm8ZxXj2cpqw9Zbb13eQbHq8DD6ute9bgmf//znF2eiLbaS/vIv/7IY62tf+9rNc5/73LIykU6HOSMP+G17ee6y2sBZc+xXvepVi2OJww9fdd/gf7FxmHJjOEogEhikU2FYJhkVxsllL5vS29s1UAwIMzCDHQ33QveMgrgZWPLNnM3W0BKig558lzRXGx+OdLTQzH9cSM/+u9mpe3wZuOJC/NWAdgBNOAAevrQh5clEetomLl+6MHJg0MSBsvKGAGQAJvUtfrUvcltN3tXthJdVC8C/NE4ibZF+k5vcRFCA47j+9a+/Ub4MK5rowGq0iVxdZB+dpV9tfQyeECQsN+PPKIEpJLCxhZuiwLxRKD1FZmyFBmBCdXtw6sy/fwhkeAxUBtSzGEY5RleedAPHILLsRzOOQL664AiVRUt5jgFIc+FBGieWNHTgKsup4BEtOOpj2OXjS55yqR/ttEkIXx3BSd1xdjFgeSCce6Ey6hc6VQWHEXz0ox/dOOaaetBcbSDDyLiPl8iP7IYA+HXVclyMN/ht6Epr48z7np5lEkO3gHaBOLqESRsC34XB8WfNSGAYI7cSF+PIOFPmKDjFz6D2/+Xvfve7ywmbDG7/+BcnJA0upyHO+LtsYeQhJeMGh0OIoeYEnDxTpwF39atfvRhrNKxyPGxVJs4EDXH1KCNESzm8oMHIW7EoC0e7PNB1TFX7Qi+0lBMH/ko3MrBVgVd8eM/APXocFhx8aJsy6nrPe95T9v85FXirDeEhoT7uA3IMBD/3qxkOiZeVyIFjcdG9rn6QR8dc9KoLZyX1j2U3fwkMxqlQcldmULXoM6ApvBWKvetDDz20GO2UgyNe44rHMKPLQbhHB6SsgRMHIV0+I82Qw3fFeYSmsqElTRlpyiWe+uo2iatLmZpGaKUsByQO0AmveEr5zDrhpQ2cp6Ot3vweCuBP+7RBu60a+0Bb4WhnIG2XDhImfzkhmoEuenV+8BLCT1uSVt/XZUO7TlOmTaOdH7p12EerxumKh7Y+QIOu6IPc12Xgkn2tW3X+GB8lsJgEBuNUMMr4OJbJaDKqNWQQyrdv7cHnpJfo6rJbUtxWGMM8yXBvannEGHLMDJlVYR9YqcGhAwHlQyNpKw0Xo7fU/Bq/jofPxdK68lO2HS4FV9ngG1+cRZwGWdOVGsie0+FcXClb44zxUQKTJLCxRk3CnHMe5aX0FJlDsW0UhU5olp/3WOCNcGUJkJVriPLRv4DR6gPbLgyfldall15a4vDphHbRAXSkMY5WhmmvckmPAeWcggMPjhAob5IiHyjrAowrXbOliQYnHdoMMT6VI2fbksJ66y7GWX3yXOhIZ8y1Q3lp2fLEs4vuo+WCgz4c9aNju1d62iGUh1/14RWedPWIq1c5L2PCca8dwSuNrn7k9+VVaGN0lMCVJDAYp0KBDSLbW+IZ3DXHBhYjUA/eOn+MX7GtwiiAIRkG/Yaf9uy47jcGFLz2ta9tPvKRjxTjxzhKV47h5AzEGcx6RYY+5yOd4aQv7uGQBzrKClOevsVAM/D0Tj58jkN9cK92tauVNDTdM9BxJuGZA1Je3WihE6MeZxHjL53zcB+a4dtKTt14RQd9NMnOpW5lgTpccJQhA8/c1AdSLs5LXd6l2XHHHTfwWBAv/0k5NNWf+xpnjI8SmCSBQTkVA8DApMjibUh+Zq3t/PG+KTN8ximGbkgyyUyaIe0C/X7LW96yechDHlKMOUMYo8bwcw7CGFvGnXHN6TehfO2nR/QEwKE76uUsXOQTB8NQA+lo5D9R1I8GHuIMGG3xOCX50pQF4vC1VRrcOFK08eZeHieQuuNY0LVKgwsH3+7xgpZ2pUzqdY8uRyCOlrYJ0UATHTjSbR37YgD8NoRn9cEfYZTAUiUwGKdCwaPkGRwGSNI0jKJnFrfUhm4p+IwCOblALb/VkkH6kRFk6Bi4PvAJ+WOOOWaDMwmedrnQCmibixGvQ/nwgptycNppua/LwM99QmnqCT5aIDQTJr9ktvKltfODh3bqlZY2hW7qCw8cTOSIZpySsmlvnAJdgMuhKO8+H8qE3wVoopN6u3A2dRqetEPba76k50rbw5t0UOO7r+XrPnjC4CZN/iSA38Ztp9U063j4DX5df/DadbfTU6bmIfRSNmW0e979OhinovEabHB4z8LsKoKIYAjNDM6AaOcFZ0sPyZCcKM5QIH3luLWVRB/Aw7cDGPUAqfGlh16dLt4uAy/4yWuXTX6bVui18Wu80K/T6ngf7cXK1TSWGu+jLZ1uAGPL1Qe//OUvy/OsjMM+vNVIJ1OrQHaC0+Qg6UxWpYvxFPmkb9r3SUdHHAQncWHw5KkbP0mXhycXJwgnjl0f1HEOEsCVx/GLd9m/gtjxgz5IGJT2vfTUF5x5hP2aNY/aJtCMACiK7YpJxkde8CeQ3CKzDDiKOST5ZADqW7z1bc3h+Uc/+lFz+OGHl/d5DDJp9eCU5jI4hGgbgAavKwMyZaWl/hggPARXWnAjM/jy6Rnc3KOdesVtk9mOCk4GbPhyj6Z2C1O/snDUUdeJDocqdMELhAeyE3cpq46aDlnICwRPOj6A1aBvkd361rcO2oawLqsu5YYEv/jFL5pnPetZjf+rAQw6Hq95zWuW+1rW0snQle1QsoKj7yKPUvByWuRpDClLvsqKp0/Tj/oHLh0hz0suuaTgqAeufjT5dTBCGa9BxBl6Pud9Nbxw3PDJ2jan98y0yed90PB8DB6npT6rffl0yb3+EuJTHtC26Bp+1I9PNNDyxYfb3OY2Gz2PLAVn9DMojSEsQvbwtIYMjIQEOEK3BChNBkA3xqZPjaEyqPBmEPTB2Wef3fhDKy9u+tdFoLxtTwPZYDF4DBL00EJTu1MPHHEDMp+eZxjqwakMPZIWIw4n26toOxRCJ+Gox8UQKZt8ZYCB6wG6vAz48JQBLw+ee7SFDABe8SAPwNNGONLSHnH1JlROPLJAAz94xif6cPARXuAwLp/5zGfK+0xwQ0fd4mmrPHUPBcjlO9/5TvO+972vtBt/ATKQj/fwzEi7lydkYMk1/ekZnXsykV/LAd30V/Dh1ThkD6Jb8nKRvUvZ4KAnv8ZXL0BLvgtID43QhCOeehPCT5585dy7Qk9a6Pj00Ktf/ermbne720b00JkFDMqpGAgGZgRQN5BADChKUAuzxhnjlx2TJaso6xBkkv4yqBcDMzj978OMZtLiMZYGo3ttiyFAzz1Dib4ZX3Dg0ynyyAAzyA00ODFKaCnPGCkjXxpdQw8N5eGrAz10YqzSPviuGDXxnNJCT1m05YcH9NFz4Qkf4vLRjVFCC0hT3jgBeEub0l7pymcbkXMiV2k/+9nPmiOPPHLDn4epK/wrB/Dgaqdflrt6v3jVFrzd4ha3aO55z3uW2b0VAQehvZw0fZD2zW9+s7TZrJ9s2Q8vB0cnrB7Ebanry/SBFpKVevS51YPy+k9Izi79QEZw9YE+dvhC/fpdHnwAH4460Pvxj39c8qNbaDP2aLqsyLKaymoHTXXhyeTbF0DQgqcelzaqB4760cePetH53ve+1/z85z8veoCvefTxYJwKYekUyk8ghFCDxrsIn5BG6JYAJSLLKPM8lKa75v7U8KDfDC792wf4h+OLwJbp4qDdHvqBbkI49AdeBpG01B08sklcXmhIC37iJWHhJ/fBlV7TqO+Dqx6An5RL3UkTwk9/wavLhS6c0FUmdILPiJBTfa9sxkkcmvArX/lKMV4MLXxXDe4ZZxdo59e4qxFP33LG2267bWHBXwxomw99koM4HVu/fn2JRw61HMnQBV8+GQqlRcbaLs6hi8sLLfecEWfGwYurUz7ZpT/oc/LQ4gQyOdYGcfnwrazxDqyyOAt8ecZlyywTFHy4t6OjrMuqXjpHw6FacSvrks9BciZWKN/+9rdLmnrIZNZ9PBinUjeMwLoMDw9OSBlghDLCxhKgnJntyJmH0mxc4/R3BkUGZV8pemDw6X+zR/FpodaZWp+Uz31X/cmbtp5Z49U8TdPeGn8aXsiRATMh01b3ZNXXboaQEQJDG2vhB4/sBINvhs9JxpDXOh/8yKluc/LqtOC1w5qmPPcOnijL+Mfh6L+6f+CxWdLgevaTeuHGnqUMOoHguVc2l3RlOVH47rVdPHXV9KS5vJ/E+XAq7ucFg3IqhENJGMVauGk8QRHeCP0SoHhRqH6s1clhqBiDaSA6MI2RnYbeiHPZysUYM/P1PlAXyCd7EwBjcZ7Gp6v+xdJiWDkSKxQG3aycnsgDCdvxkln91HhVcme0CzdpxpvLvYsMk4dYrcNt+9Ueq+2y7kHSu+izlak7jjX1q1uafuQErWJAu96SOKOfQVlogmN0zKLqRkdAWcbVnTQjOWw2ZMiKUTAbHRpYrjNUk4DyZ4BmQE3CH/Omk4AxQy98yVo4CRgp41A/DGms0e0YTTbCrN/2U+zDpDbNOk+d09TbxlusTDu/fa8d7bTaVrbbGVw4+t34kzZP+zD93kKb2znda3CUuTYq4vYuPWiMYs2JhTVN1hYHw5y92VqGq9UwPLjyEHPSIMA7HdDHk/BWqy1rvV5OIv3R1xYrSnrE8AytD+gH/tmCGMi+dozpV0jAmLIFmi0742teMD/KS+RYoymLGRKDKB7IIKDs2Q9O3hhuLAEnPJyQyemgIcw09a1LvwonAaORvWHhvPinZ07gcHQerKrXPziazU1bL71crD3ttqrHde6555Z3G+5///tvOCnUxp31vXqtFrVZG/sgD4/lL7V9fTRnlV7bAg+erbxGmE4C+lzfzhsG41Q0lAK7MjuqFZpxceVo5LwFs1bpG3TkZJ8ZLMfwzavtFJrRrvu1XVd0AB7e5wVOyey///7FAdufdyrHEWb/N+8B6DSA1w9+8IPN5z//+eYFL3jBVFsKdNvJnuOPP74cefUSmndyNgWYnTpGa8ba51Skpw/w1Ie3Kfht11Hrg/iQeGvzOrR78jLRdKSa3OggmDQWl9uGQTkVDXfZJzX4xOtGe3jIYArr9OU2fnMsF+dLhpOglm3kruw8gTJzdpN4sxo1o9a/8+TH9o4X6f70T/+0Oeyww5ozzjijOfTQQ0u9r3nNa4rz++pXv1pm9t6YvtnNblZE4wTNxRdfXN4T4Iw4B6uO29/+9s3d7373cqQT3wYwA25lQF+duuG4PCT3joG/ezbTlu5tbGVMmJxoUm4eoJ89iyB/p6W6AB/GXmSfsAs3OpQQTh3vKjOLNLrhgXNfG2ZRx+ZKo+2I59Ffg3IqtiQm7ZPaPjGDNdMaoVsCtjYMukmGW0nK5fKSVY5jTjIg3bUtLRV9fcew9QEdkD8Jp6/sUtLzzIaBt1KwOvGW+cc//vFi5N/ylrc0Z555ZuGXsXe+n6ye//znF3nh8zGPeUzD8Zj1HXvssc26deuKY/rpT39ankk86EEPar785S+Xd25e+cpXNu9617uat771rc3RRx/dvPe9720uuuii5o53vGPz9Kc/vTgYDueAAw4oL37OY7DTCw5Dv/eNITjaFsfeJ1M04IKE4vPgG10Q/lPfvHXkslo3j18y0+f5nE3GemQ5y1bOd2q6BE41jtOg0BS/q7EUFs64UukXbN5FWGzAMYZPeMITmj/7sz8r39oi13mBfgMMeYx5X134j2Hq0oG+cktNN3nJqsgAs4Jat+AUGNMvfOELzctf/vKy/7zNNts0X//615uTTjqpbHV5efBOd7pTc/DBB5fPx+dYq+0v/0h6wQUXlDeX99133+Z2t7tdeSfA98y0yfMub3lzHhdeeGHz3e9+tzgkcXXc9a53bXbddddi9JfanmnwI1chOXeBPCCM4WnjJY9jsfX3vOc9r3nhC1+44S3tNv4s7+k1vsLnLGlv7rRMyE02yU7fzQsGs1KJknAoOaGQRse4MAKE0afswd+Sw8wwI0+yk0Zm4j7T8LrXva750Ic+VLZxyNRWzVOe8pTe2ess5KnfHAnHQ/qzi648Bn6eRx7VG6eSZ09kRDa2n+w726oywRG/853vXP7UymrmBz/4QfOmN72p+dKXvrTho3xkm7f/Getb3epWzeMe97iy9YWGSRAgg0ya4KlT/ba70GCYPXiel36HLj765Etv9IGQETIJCCgnHR2rsXe+853NG97whhJHT5te/OIXL9rHobecUP0uekuWI0wnATJjWzPZdA+Ek8bjdNQ3xrpCYzZOX7W7DLwuBsymXZR9hG4JUBADvJYRZXLSyfbLe97zng2faaBQlsMPf/jDN7wU1U11Zanqcdk+wot4H3A8gUl4wVluGGPJOHpO8rGPfaz5xCc+0ey3335lu4ocfQbkyU9+cvPFL36xuelNb1q+jGuF4h8pX//61zef/exni8PgoNDIt8q0kbOwFSlUhxm95zby6HicvzjH5RMdfV+SWG4bu8oZP/jtW5mSubZzHOK5R0uaVda73/3u5u1vf3tZldka1BY0xecN6iEzvMRAzrvOzYk+2elfejgvGIxT0VAKk5lcV4PhEIq9QfERriwBRpkcDTpgxs0IWp3Y8mLoGAHPUTxYPuigg8o2Te2Erkx1ZSlRYA9XxXPfRdWDbX1cG7MuvJWm2Qaw8vDMw7MRxtI/Tj7taU9rrne965U0Tuaxj31scdK2pn74wx82L3vZy4r87nKXuzS77LJLacuHP/zh8jl2z1200QN8YMXto4fHHXdcoSfNMxwOhA679JP+IBNtnhdk7OQ48TT9jaeMMysDztWzI+3NkXW8m8Tc5z73KaszzjrOqG4LOn192pdel49sotfyJjnGlK1pT+Ih+EMPIwd8pm+WwrM+Nb5ytHg5NBarbzBOBaNtp5IGRzEoFOWuFWuxBm5p+ZSGwfCuii0u//XuGYFZpEFIlvL//M//vNlnn32KLG3lAMoGh3xjHBgNl3u0gX7KTD+zcXTFGeuUNUHITNas0vYS+sr3bb94Z0Q96fNS4Rx+bDnZvsEjfunauoVnKpyC+F/91V81j3jEI8qWjtWGv+DlfO5xj3uUfM4BDfc+xY6OB/62xmxhkSW6T3rSk5o999yztMBKRL/ssMMO5UvBDDMHxunAnefMmzxjTPRnn1PR9/Dg6yNxz4mciHNwwck3Y1A+nv0t8SMf+chyio6cclRVP+eDiNEX7VN33b9kHb2a1M2xBeoQx1efHQgueonjN1fSJtU31Lzwri1LAeXImX7PGwblVCidK3vQBBchEoRZuDTKPEK3BOxrM1aPf/zjm2984xtlBh4jkRIGPIN68sknbxhoyUtI7l2KKx299EvdR4nXZVO3NAbVexl9xiB1c0yMnrLTGJyUW0qIvu9fhVchvRICKznOwX0MIUdiuzA42ktfd95551LG/U477VTkBseFhmcyNR3x7bfffoMc73CHO5Ty0ucFaJM7fhhmvHYBvPTjT37yk3KIw3bXhQuHCTgTACf06Nr73//+shrO6gUOR2LFRtf0O3mbMKAhrg78oMP5RCfI2iWfU5NuRaese4cbgDbQkzYo52CEv6TGg/rWLUwWTKIculDfUgC9GpSv00IvaV337bya3lLi2vOpT32qbKfe+973Ljq6lPLkms/oR95LKT8t7qCss0ZTQp2QzklDpFEQhsY1QrcEyMnqgPKRJaMsBOKUifwo12oAg9Lu25qPSy+9tDjCGLA6b5ZxcuAQ+qCeuNTxPvy+9LoOba9hXg6zrqOO0wPbfCZn9bOrGkc84+9zn/tc87Wvfa1MUqQlXQjQO//888vkRZ8av+lbOkZucMWlk3lNI7htAxf6yU9ZoTrl49+R7Lw/VBha+JHnGZUj4Sane++9d1mtn3766eU5WBsfb+36tQOk3nJT/YQvSXD1YzsNzaQlDK5y+FS3sC6fdDihIQ1w2la1Joue99mCRRMenODB7dItadmaDU9wZw2DcioUxUy73fAIIAOhHqizFshap2fQ2WbxvoN3ITwkroEim4V7Wc+gNPBy4onszcQZP4pKzhSZ4mb/3zaPewbD5R4NfSO0/aGs5wZCRswDeoAXs0vKbQCkX8Mf3tRnNh0ekjeGs5EA/QD6pg/0iz5y6Vf9EqgNl7RJzp9uzAPwns8Rtenjjx57ZsCB2MY0yTrttNPKREvoZVM67KVWW5rnnXde+bdR5XbcccfmUY96VFkJOekHn05qp5WOFeanP/3pso0kzfanlZHnlXR7jz32KM/qfF6ec7OisuKzynIq0DND/NgqtfLFh0M0vvBA59k+Vy1zckTLZYvZmMqk0OoFf0AdtrfQ7BpfkY1QuXnBoJxKGkk4bSAIy2SKPktAtw0GlfS20Wvj5Z4CwA3+UsqGxqxCRoBjcET4fve7X3mw/NGPfrQYf/zhlZL6ztUznvGM8qzAIDWgAEeSdgRfmcg98gqOMsFDh0KD4DNiBoPQMVsDB37oFOTLf6S54qzqemu8Mb50CegXfWJyQMYmAF2gb1x0xIuZD3zgA8shD+/RJE85fe0ggtmySQojFYPHuOpvh0QYd7jqpWPwoif6GehnPOFPqEzw6smLPHUwqPSUUe4C9PCqHu1ULrpkLDi1J89pPe8WPfvZzy714duhFtt1D33oQ8shDV9dUBdDDt9Wp2PUygMvs1pdA2PP8zUHNk488cSyWkLTRAsNW6O278jhbgt/5fuSl7ykrDp8GsiHco0Nk72XvvSl5Yg6mhyG+lzkov2xj77I8Nd//dflpV1ycvDEmPbulDa3Ac+2ESPjdv6s7gflVCi+i0JSijYQhnQC7Mpv409730WrK62PHoWtB0jwlkIjZVYaqpPyAXv5ZmMeyFN2p5koFiU/4YQTyuzKsxf5DEMGykp5SHlySV/iy6CZBHDCn1ngashvEn9rPa+WZ5x+u03GmEu/cRoPe9jDiuNwhPqUU04pE4T0E8Pv8lFML3oau3l+gi49ywpWvypHNxlFdeCBjriSn3u04NQ6I81XD0yYjDeGugvQkOe0nu+7KWOVwCm8+c1vLg6TIV+/fn3zqle9qqwcXvGKVzTrFp69mPh43uh5mxWMlYdP6TDqttKsthl6zsW9lYHj6PDPOeecsorJcw8rkr322qs4EysmB2bI0/Fzzo0D4Qg8Z3RK0Ncczj777OaTn/xk2WngfE499dTyBQarF3VyemQlL47LVphDI/L0B16N5zaYKOgf5e0kADKu9aJdZjn3g3IqDElfIzU8y9a+AbEcAaCrTrMqswBgdpEXMPv4qesyACnrjW50o3JMN2US1rjzjpMh+bjEKb2jshyHjx96v8BeuQHv3QknezgWL97NErSdEaDIAD9kbcD3ATnimdIrK9zcgFy6IHooL/E6lL5YWfjBS7wkXP7D4NRHtuu8Oq6P1KXPzGwZTC81OjbsczOMn34CToTRIQ/Cn/jEJxYDrN/Ub2eBUzGW0OQgOBV5HAv60pOXejNBow9ohRc6wQYoHx2p+U6czrms2B2CcHTeKTUrGzTxsX7BodjqIg+8cIpeYGXkHZ1mfNXLyLMHcJ3iswrBnwfltsle9KIXlWPpvpTAhuBLm7XTKolTsdVlG4yh906Y5z0chxW87TTbYxwfXtTrOZW60TARRI9zVKfTdzmAwzHh5VnPelZzi1vcomzl4V157W0DmbBx5Iw26NKTdrml3g/KqegQVwxQuzE6bdbGRudZ4j71qU/dcLKEF3ec1ItwnjfoBDwB+BRTZ7ik6yhLVjMOChz8dJj7gPYB7QChW25m9KNeA4XCaYu4Aa5N+PMCpFmOpThDw7kwEvBmCdpmxmjrgwzSt2TYBdJd8MnYPnNmo3iTR27y0EaPgZAurt3yxF3pJ/lkIR8fNT48ELrhU33BVVf0Dg2DEz358oIXHtwnLTNt98nvars0tAOJh+fllA0tIT4BvsXJoAuSrj68q18Zz7ls2TgO7Vkdw+goujyzd7NjOvbc5z630FaOMSbHbLVJU7d+QTs84UO9rvS3OB6SHlz1AfrqkzkcRcqUjIUfZRjNdevWlVWNsvhgxM3wAR1TjsO0HWYVZiXjWQjjj3d8qoeh13a2QBu1QxxdqxM4f/M3f1NkwKjjUT7Q7wH0QPQDP+TmXamDFt4X45w5EaCOuqw4mtFLNsfYJSMysFKR79i+9C7Q5pz8i1Ppwltp2qCcSjqcQLuAcuowgu3D6So3KQ0dzoph5RR8Pdbsy36nTvcBQR3ooR0l1IHXve51i0J5AG2JTbl0UgwIA0RB0LVSMMtRj+WwWQQ87z3o4FkDHsmIAtVyUr+0dQsDzbsTlu5WLWY+Bx544EYDfBY8qS8X+RhQLn0o3cBvA77xb5DpB/wDA8ogpx/KGcQGt9C2gIHF0KNrBcYAytMnZCwfLaE0eGQhVKfLbNClLvyiry59CdRt1q4MHOWTpu44HXVIV1/kH2OirHYAcZdy6lNGWbqRNPWQh+0WtMTpk3typIse8morGtoauaAN8KlOPKrjwoWjwZlJF4TWjzbjI31RZ6uD7mdy8o53vKM4FzQZ3qyClHfhOf0cftBFJ/ehD0+6UJ4LrlBa6KQ/tMvKQj01wLfla7srRjh8oCePjOOMTCY9LzHJcnTaJEwax6IudTDYbIJyxjJ5kiF9sCKwS2HFEv3BT3Y69BmeGHr5aORYOjrawS7YPfCMRJ/HKShry8vRf9uPDghY0SiHhtUJx2rrzmrIST3vPW233Xa1SDbEybeue0PGjCODcioGvAEYBYqC5d5AImjXLIFiqsODNKc51i8sjb/1rW+VGdkDHvCAcubd/io8iupFMKG3r81yDGQOhiIZ4BSMwUaTIttaskLwyQ/7qsAXbDmutHFW7WE4MpgMCvUH8E/BGR+Dw8N68jaQKNw8wCBxxZDEKHTVBceHGA08A0c5oXQPQ8W1TZsYSena6yL7lNMHaRca2k23DGqDGJhdMwr6jpE2sJWPjEwIACcVh6VedRr0oRvdJFcgTxwenLTXfd3X8NzjS4iv9Jdy2iRdW1xAeugK8QtPOXXmUi6QtJRHAz1y7IK0H804w+ChBeiPz9YwvraEGGOy9BJkyrfL5F4YOnWacm0IXsI6n6PYeuutN9Jv+egwsJ4hKgcPiHMUnqGQveckwHaXj4daoZCLSQrDfNRRR5Uy7IFnkx7mM+omZG984xvLCoc9Mum0xWZy6XQYXfJ3CtLQsbLjmDxTkceZ2Yqmi7bGorce1OMFDZNbQN/ZCfyqk9O5173uVR7q45/9kWfFaIViPHvehE4fRB+7ZNpXZqnpV1icpZacA76BQik4DQOjbri4FYOOJ8hZApoGUOo2QMzIOBZ18fwGklmh7zdZhZjh21vmGAxsy35KZjlMcZ288qzCwKOg8rwkZgZFUfpmEyttF2U1kPA9aaCStVnvvEG/McaU2cUQ9oE+51QMOrzDpwt4NRMWGmhownUx+PquTk9d8KNHjCk8vESX8II+WdEBdbrkA2WVEQLpLvRzn7y6HnnoqLMPkqdeZTNRQl8enqSrH9AxcXSFeNcWeK7wJo4/ONLQkOY+zlO/ezDcBWlf+Ktx5AXEOSYnxBhOYHIivcYL/ixCbSEvgD+y6AKysSJpA3kxuOjUZc3etUM6nSErp9p8kcLKwMoZzoELK3qrA7sMaAHpJp70UL34iiPzAF1cXba30KWnnB6HYCKBziGHHFL6SN3GL0cD1z1HqKxJqXt9Z6LDYbEptt1sE5M5HXKarW5bLQM8smHyw2OdP6v4oJxKDAdhabhOjpKKm03qBLPLWQLaLk4LGJQ6SqcLPVS7cGGJr6MptY73sEzHOHKp3OGHH15CjsjgNWvz8M/Mg3JScg7mbW97W/ljJw/50r5ZtQU9vOMbb5R8nrAY//KDY0buymDs4wvPyhicBgk9kMbRSwtNhlI+enQEnjBlDcBc8oDyAfIJPvp1+aTDTVlx6aEhXV2RMbnXNOCpH8BTNvHguQ+OAZ/04KeOhNJrCJ9Jr+9DI3lCPLngGWN9ANel3sUAjr5Bcxr8xehNyldHLe+0bVKZdh4arjZEL9HUJ7vvvnv5uwM2R99yoFkZkWHdVrrkUramTS4BzkS58GySCuBzFElXT82jOFwOCqiX04necGq2e92jkasgVz/S0WI7xeOcK5SZRQfhVNJge7IaW8/atDT5OpfwaqGvRBKhK6RUnBpP7mGZ7S6npixrxa06GDKff1A/JYFvSXzhgsOxL0sBzSyA/U2dz/noeEpnWWum5P8nPOj04lWteCtpi7Lkw6GhGWO7Uprt8mSVWVQGVnuQ1WXkucy0GU59i0Zk38a1yrNHzXHbKiA37XFPxoyhttluNFvDi34gd+lkwHmp072y0Sf9h+fojzBtgQsPDt5SXv1oKidfG1zwAYP2Da8GAAAyOUlEQVQgXxqDh6Z7esy5R17oyJeurAtNOMB2Wwyme3XhXVvg4Uea+gC60tEzJtBxH+MCN3wrC59xCq6tF3rZBWm/cDFQp6sPQoNcZgGRUfpuFjRrGuiSET2zKonsIlu48mtI2xLWeXW8T051uTZt5eWn3e7bOO17OG1Ag64bR/qEns8LBuFUIlQDhrHOYGw3miAIcNIsq11msfsI2AyBg7DCYLDspVpZcBQcgT1ahgGe+h2h5Gycd8e348SWnspZvXjukg8WHnrooYUNxzEZH/iWtGln2r8Yr9PkMyT4i6Jp3yzph5YluL/RZag8TLT10Qa4LjxEztkiaeO65xx8nl9oC4zh5Zi1iVMSR4ch1RdkqX6DVZpy6tN2g9C9Mgw2Z0su8hlr/QoPPenK0z3tqldV+kjd6hBXPitaZaXRS/XFAEnHM/rwxeXhQT3aBcd93oyWBuKwDP7wp3zai07qUW/i6sGjMHTkuUdTvRwNPhkXeU43tgFfgfCU++WEoRe+lkMjZdDSFqE+cLzYZGIWtFNHHZKna3MBfW8iQX50YF4wCKeSxpmJUuQ+JSGMzPhSZiWhetC0TeVon0FqADM69okprHtvzTr95R6+PVGOwYzasxVbW5Rch3E6nIdTXoyC2bSlq3Y5pcFhKetBeW0EVtKOlGUotIHhNvgo0axBHfi2ouA4yZAD8M+HtgcAmUnPgEx/KjtJmZVjTH1ew9l7Mqsdrzga+iAGN3VIQ1s6UGd4TZ3SyAXAq8vClcb4whO6J0NORjxGFg28ypMevUEjbRVG/ngDaOIl5bJ6C9/oKocmfYInD116r57cSxPHhxBvnAYa6uMc4QdPG4CHvT7f78FwH+DBFfnUeGmLEA5ImLw6DW/ouOoycNwbDyZnHpA70qsdeAbt+tWjjaGXran0Sym0hJ/wG/4V7UurcRarYjEa8l3t9i1Gd6X52mASNm8YhFMhYA02QCiUwVCDPDjyxGfZGegx8k5s1J0dg2CAO8vO0InDocTKWR47BeM+bZDutIetGyAv/HpIr43ulzsQarm04+pGl2Ehq/DUxpvFPWOQz1P4q13fPnIAIV+DVTfQVnwBMjU7T15JrH7IF//wHZRgQEDkF9S0K3TdJy04wuSLd+HU+XACcKNr0qx2QPDl1xBc6W1e23hwtBNe+ggO2qHjPk5NmotcEkcDfvioy+l7hjy8qif4VkXex6CDJnBdUJdDqw3y46w4ur72qgOuPlQ/HuFKx5+ynMJznvOccuDFRM7hAUfJHWIJH+36lU97TDL66m+X67pXB3re1/Iw3hi36pbm3omq9evXl/HcVX5SmvaeddZZZffDX3abiAbwT7bejzNZVaedjnkDvbMaV3/bxs6y7kGt7TTWpfFtpXKvI4IzSyGgzeAZAF0rIfxIN7DhhTcKnZlTDAW+5EtPXniFIw2deQDZUGa8gshqViGa2uby9rSTWpTULNizI6fcOBUrsjgcMtLuGEVHISM/9NpgQEfW8LqMRsprV6BOE8998oVdaTWN4MJTryu06rJ1GhxtE0YHkt+mAc8lP/WmnDR5oWFLjq6QBRnTO0ZUnAGWL8y9GajLStmKOheH6EGuUBoa6CrXB+GN8e+C8IjnGtxzhsq7TCBsQcbJCa3OgHzbkt7PcLz7woXnkt7FoFP+A8hKqw3KxKlwkHTO/XIh9HwKxTezOFxtYGd8DdgxYvy129muD50a3PtWmhNeJltkXoM+JydfuLDF7h0Z0EWnK70gL/OHfVBPX98uk+xGxeZj3TaqYvGbdJqTCQaPwVULOHGdEaVanOqWh0FOBi1D5IpcZykJNF1mk7bArE5sHfqcBSNiEPm2kePTXpLzfInxM4gYCn3bBwyQ7S+GMXjTtKHGqeN1PctN7ytX0xav8er4pLwab7F4nV/TlF7nte/hBsiUbDkF46wPjDEzWfokzhCh6z700ajT0ZKf1Y18KxHOjy6GlnT3wEuF3qs44ogjygEZaQ642Epl6J2Q9JIuoxwjSI+AtpjdT2pHQVzkB190ziEhz2iANPVwXCZM6vZvl1YutrL9C6iVHqdmhwN/+Ibre17KOfFpYvWEJzyh8ImGMvhVF1tmZeYePbIExq84mpGx9LqP3S8H0tbllF1Kmf4RvhQqM8LVuaAtQPeUnJLqDNcI3RIwC/UA3UtalJNRMIgpb2aJcGrnLM89Jab8lC9yFo/8E4+yo2/wKW+QKwNXP5rh+R6Swci5bL3wvIXBac/a6lao22XGHR7q/DG+MgnQA32vHyYdy4/s9aVnhoF6hUNf4vilw3VZAQmBFZI8+gGCV24WfuA6LOBUpOdz/vOEwTX58AY7o825WBV73kI36B76Vrx5Pyb0lhNqaxxhdFMaWyP0WXvPSF2cICeZPwrz18peSrRtdvDBBxd8pzp9J832Gfn4G2+TqvUL22hWPl5R0EZb5He6051Km22VawtHZNWibttlvvXleWWc8HLa1y5Dhumrdt6s7gflVCgTZQVRzDTUPYHoaNcIV0iAPMhHyMhfuLCV4BBBILKM3Prug98Vpqy81FXjcVicCkfjgmN74wMf+EAxELvuumuZGBhgk4DRYGzmNXEIb2mPEK+1TOr7SbzWeaGTUF7qEA998dUAvLj0iTG22J46fn19155/gEHVN4yl8nEWjHEmIRwHUJd64MQRkL18Fz1wsIXeMNZm+CYhntXBY+htizkN6BNKjvR7yRAtYOLiQ4z4REddmdQUhCX8KItOeGdnsv2mzZybAw4+yWJ14d0zsvEZJzz6KKRVCb7x4B0XjsLKhFPkWKxwrOAd4HGa1ElRhzF8ZkV5DviZz3xmOdijvK0xL15y/u5nBfoOn5nAz4puTWdQTkVn6hSKqKOjQGGYAlJg+as9SMPTkEIOhbKQ42JGY5Z864/0mX4DjEqMw7p168onJMy49G8fUHgXg9LV/33llpIevcEfOTEk4kCeK/dLoWvrjwE2axW3BWKLsK3DS6E5a1ztypFube8COPRIHzCs2hEgm/QfvMiyK6xlmHx0EieX0KIX7nMkPGVj/LxQ7NNHJij+K0Q5/HNCQs+KatrlZsof/OQgRlYsdBlN9VhReLueA/MStDq9RhBgkzgeh31ydN17br6sIZ0uWHlon3ZahR922GGlHVYl9NxY9akV7fc/Lg9+8IMLec7Is5lZOhV8kCu+5gWDciqUiVHRGVGsNJww0jE6fYQrS8AAo5hmfZ5lGDAujphcyY8SGyzCDHCzRmUpW8qgDid9Yr84eUJ9BNCy1+zhaj4Xkb4zW/Pg/sADDyxlPfw0O+sDg9pl8Kkbv7OG8OZYLSPhAa1BK93zIAbAt57IK/KRlzh+2vfSbPfZP/ecyfajrQwfXDQLJddJgHb4gidOrrMG8tQutBnBPtC3+sAEBe81b31l5pEeuQjN+m2JWbXgSRvoLR1brq6gy5Z4bkM3bb/5gjfajDlZWSnQE5/951i8/Ox5oe0pfPj3VP+fIvT6gFDf2866733vWz7jZGxx1EKTGCsdK5Nst+Ej+kbunns5Yq1d9HGWEF3ES5cez6KuQTkVwnVpsLAGaQymmUFmFHX+GL/MwBskjkB7uTKKGrmSURQphqKdByeyD07KCUHKcCJmWwaRuMGojFmeUzz+vMlHOs3ODFJ9mIF0GaWNfzNDZtTCw8YYK7/Dn3c03vSmN5WVhVmivW2D/eijjy574bYefJyPvsUhwzPIGTLt5GTRUo6cGRwrFXLwnaYYPINYu+MgtUv56Lh4jCJ68oUg9ytv9RV9pi50Ga8uUD8cY8zHIs2a9Qvj1p5YwMmMV/tSljNyr422hchO3EVW6KnDVpq4ixw5DttDAC24AL8uLxYztrZ2lfWul4f1wSvIS/whf68FOBzguY5Jhj7T777npw5fCc6fYznqrn+tSL2/dvzxxxcno43kw1lzdCZaPrRJPsYDmpGJiZV66bl0sjBOAKelrIkJhzaL50YRiTrzLE2984JBOZUoY3slQqEIHhDGPAUyL0FvCrrkYjBSVsotTnbCWQF66jELP/LII8s+MWVlMBgqp8G8uGiGbrDDF4YXvPUBOgZeDPk8eEef0/Cw1MNVM1RfmrZ1wTka8D7Po23+qvXAhVWWh8mMjjKOSzvt5htudNLXaH3Uj1HBr60Un/qxZeP5wKGHHlo+QGrf33tNTjsxUg4wkItnTd7N8D8c/qeEQbLlpD6z2VkDB68v+iZm2uDSn54DaH/ShCD6lPQ6TTx44iaBGbNCfSwE+sI92dv+YaDjVOSTLxl5SO+TRj7Sqq84FTTouPyVAoemjzlRskebLnv2wRb5ryRf2uAgvejsfTNAD2x1cTzKyHfowBfKrW7IyTsqthx9hPKxj31sc+HC804TFnXusssu5U+7vHx9t4X/a/HQ3zMkq17PXGyzcWDkQFYrBbKeNP5WSj/lV94joTSDUMe4CLBWFp1DsPZ4CabtdGZQ9WZBwgBm+MgvAz/hrBqInhmZz4XbX44BYVwZTEt+TgGeK4YnM/vg9/GjfydtzfSVmyYdP4w/o+SrtBygUz0MAN6t8HwC3VdjbUEY3AwNMHu0wtEOM2rbi74LZ6UGh5EA8v0jn5mtv6b1jS3G5rTTTiv9YiVjm4VxsnrzIdJ1C8+c0PKehr6ztaIfORXywvdKIXKPbkyiyaGk3noc9vEQ2l35jHPy6zrFjWknqThlW0rGN/7gu8jI30VYLVmh0A0XIO/IvKvepaThRTudKPMMBdS86gerWbZJ/fLwxxlYYeAZyGebvMzI8cAJHen0DU74hqPtaMq3xWY1xuG7hxfapYIV/qibfgK0w9sKyV6p+KCcik6g0BrfBgKwTIYzQrcEDAwKynAasBkA3djLSyV/CmngmFXaBvDcxEyvaysiipt+M1j6AM/63kUPpjFofbT60jlCf11gRun0jpNHTvLY6rBK4DjWLxz/dKrH4M7MLu3Ak8v2GX2EwwGQOcC7rS+O1arF6oQTs+1gtmvFYhVHdoyoLTZxZYD/MLdKyZZJ6i2ZK/xBK0a7a4yFPL1xZask6X3hYjz25XO2TnU55USWQL3a7oG1LVz6RWfQiH7Aox+zhPCYsE07Mkl68Lq2EeXFcQRf2NZ9fVE7jehWXWaWcXzRS2ORvOmAds0aBuVUzLQ1WGNjFNNg6QY4wcRAJW9LD6PgZtBmwsCgo9hklfxZyAktA8ELa2aQtkjM7jJguuqThh+hfgVdPDHQ8l0xfl14y22H+r01Tc+sFvw3ju0uKwbbKga1LViXuAEnz1FQ2xachNWLrTFbVpyoPXj75pkBkgOanIx6bBN6wAzPi3JWLB7me+bEeFoZgWz9OiTgga8xMMu2q0P7OTFhl9GDk/7V/jhK6bMGPJCTFVociucknsNZ4XH69SpH/cq4QPSp3Iw/U0sgkwljLDZi6sJTIg7KqWgwZafYUZ60Qx4v65qHwUk9azlk0OyZ2wvumkHNqm3kzyDaB2Z4FzN+8rN6muR88AfXigHdtg4sl3900LV3b2vK6TjbdxyBlckBBxxQTv1YQdiGsfftn/psh3nO4d86vavg+Qf9Y3DNrn0IEbjHM/BAO8bYSsiDV87F+wji6xa2ugzoHIdVhm5LA5GlMPGSMYMfcrCqijzaJKW7tAE/K9mG1KZJbZBHZpytFwbprVWaiQrdpWNdwPmCecywu+rbnNLInK4ag306MIv2DsqpaKzViIHbpTQGJ0X34KsrfxYCWcs0yIRTnqdDqeXTN/BrnMT1LaWOU0l6HZo5MWYUf5ZgAAG6xYhZYXgGZGXk8rDefroHwlYjZszeMfHg2GpGHp7I1d56HijTQ3/vuscee5R2ebDK8XC4VhweznrQmg8k2u7yAp3tLVtu+YK1B71483xh3YLTCb+zlAFa5G9Li57EidV1yAfaKt94Wy6gFXp9NGz57b///mV1Qi88u1D3pHKRDccd591Hf0zfWALkZcJAhsbuJDlvXHJpd7MdvUur+0rYlsMaS8HaToOjIQRGUz7BzEsoV2Js4AmRBXlk1pu0obBui4jByIy+q++SthJj1tVeukQedMhb2e5dnITL3r266Z53TQAd8yDVakVeeFPOiR4nkZIGF3Aq9HPd5asRcX83rU/Ujz4enDpTT11efP3Cs5xMCJJXCM/oBw8ctzbkGU4X6Uzq8LtcmIZ/9E0SXfAX01k4DlAAMp+mjuXyvzmWM1HISo/sjcd5wHyoLpNTToWydymMGaV8sJjyLbP6NV/MfrktF0aZIVuJUZi1MOyb48cqoA8YPNA1i+4rM216DFAcQF2uTuMIAsrU90lnlLsGZByCvOQz0G1As4tuyrTxZ3Gf9tvyI+dJs3x9pY0r2f6alufwBb+O95WPjrAHiffhjukbS4B+GoPkRg/0c5ceblxq6Xezf/S/dB42lGAIs6zlOALiWY7DmUb5UnZLCiMn2zJDcij6gCIzVJP4MovS//BGmK0E6IaLU9cHk/pBHkdrS25oEN3An+dDI0wvAbKzU8C5cCjzcsqDGb2chf0+K5Uu72lmMjqUbgWKk6U0DIe9+qEBRcZneO3izzMHjiX9Pwm3q/yYNlkCDInTVsZR1woqpa2Y6JGV79CAU6TnHJ/J0wjTS4DcMqlwMCIr6+kpTIc5GKfCgFAUjXXVEGNkUFB298IRNpaAmcdQZcNZUOp6q2lj7i9bzSxm8NplxvvpJUD2+T+VSVuMdEj+JJzpa50tZmyB8T9pK3W2tW4+1MjPGPOMc9bPLiOlQT1TYRSjyBpfAyWyWjELN5Nt59e4W2qckpBTHsYNRQ6U2CpksT6Tb5Y8aWtm1m0ir8X4glPjJS6sAZ12mvzgd8WlKVeXrePJD43Qh9MHwa3zpemH1NU3S4VnDOqHSQ/za9qbMm57lJ3wfDXbN9rlmuczqU3ZxnnVpW/zPlX0YR51Dcap1A/irUi6gLJn2U4okwZWV/nNPc0g43CHZgysUPLJEYO/D+iAvvftLP+kV291mFnJcySWHmgnI2KQ0APGRh4ZcErqETc7d7mnM5ERnMiJM44zw4M4XHy7Z4A9X5DmXnq26KQF0I5O1o4RTtITd5+y4rlCK/lC0A6D1xUGt86ThieX+KR+sA1NJnUbalqrGY9tIGsXmNSW1eR1aHVnDMT5zqt/B+NUDDCN5jQYgQy+dAwByKPwoGvgBHdLDbNCibEckhw4BX3GIPeB/nc973nPK4Y8EwhpHAkjwsC7pw8uRgZdl3t5AXH1GURxLDGWnARHh64LnjxOSlw+x+G5gvdO1Bv6+FIffsID3NynTvWiLXSFH/zpI/jS8OEBqrqlcaZpr5U5embmOXrLsXmeEAeIN/Vro7Ly0NUefMLDM9q+Yea+D+BzzpF9H95qpMcJq1v7vJBK58nP53a6AJ42gYRdeDVt+fpC35LtpoLwMInPlfJCJ/S/kE7NYwtxME5F5xtIGcxdgg1OhL9SAW8u5cmDvCgJhZlkNFarzQxjrj4e/BnSUUcdVRQebvqZYTe4XXSAI5EXHMYUMATy4AmtXhhYW2++GAwYTMaZrOqBFd1DNy+IkaN0aQwMUMalbjJXJ4DLaKeMfAZPOXXlnnNxD9DWHqAN6CmvPpd8EBy0Mgbq8YE2p6IMZ6AOuHG45GBcKZuH76FdKrj8J/XCiYzr/CHF8eqrBD5L5Ptg+NUX5JDnRnDIhj6kvXHuwsgQnrL6ILokVHYaSP+08dGdBMmv+YCf+0lll5qnLhO72Ff386gHX4NxKjrdoNTZXWCg+yw1BdJ58xRKV/1DTyMPxooxGdosE2/+jlW/xTC2ByD5mm36WjD8GpbS18ENDQNHnLEWV3/SGAN54SWDLAYoPISme3FXDclPnvJo0WehugHjri4GTDpDKA9PjGFwlHdxSmjSe/jKomks5F5+HJHQ+IEjXXlxR2/RU580Rjefby+VXv6DJkCHbGJgL88eTIA330zzSXrtNHEw48a/y0Gf2BFfSLCSIXMygEsmJhZwjBVOVJ6Pf5p0oM/4SldW6H9UOCd9SC7oogEX6D+yVTf6wjhy+fjEG9nKiw4o19Y/+LMGdauLLuBZO0yO5gHdFnweNS1CU0MJnrApv84miIA4Jcjgq/OCs6WHZEg+Q9v+0ld4c00Cg4uBXQpksC5WZpKjrWnU8cVo1vnK9UF0FU6bfsp14SQvYei37+t0dOp88fY9fAayC+DWBq8LZ7XS6AfD7xPynEqMojbHbrAdvjDNaILoHRzGPmmRdy0v9NvpyY/jR4Md4hg4MvTJTJo640iMQXHOypepOSJOh9w59chfObjwjF1brRwbR8YBKaceaXgQwqXP8pTnKHzUFU1tMAlBi0OEo5y68UpmKT9pTBRBLfNnME6FMlCMCKrdHsJyEU49SNp4W+o95afwLrIcGuhX/YbPDNw2jwbl2WefvWFmbVapnJm5WaHB5UvM6EjXVgM3s07bXO7pkYEEP/fqUs6AMtgMMIPWgBYnMwORjhl4Bpx7dOQbvMLQkS4NzehmBrW84MUodbU58khYCi38qAfNpKet6gudhCkzy5CMQMJZ0l4pLX9elb8dsJ1Ty1q/0yH9Ko/8yNIFL05IX2ubdPrEpsDXf8oo76JPZK6suDIXX3xxqUP/ZKwpT9fQ5QzsGFy48FVr+qNM+hKefkNP3aDuR/Fc+AgkLfjRC+nRDU4u+hG+OS/58PEqTq/TNrxyeLOGwTgVDQUEQOAEVoN8CkMw8iLYGmdLj1NeshmiU9F36dO+vvv4xz9evhisH+Foj4GZAWHQaJt0OhI6dMLgdcFJOlyGQt3wlZPG0bhHl+OSboAZ7HiULp4rhiE0Qj/twS9ctIQGuBCeusXxESeFHsBrDIE6xQHctEPICXKs/qhKHojDlY++NgnDU50W+SmDJ4cC/BFYHygLwmcf3qZO1za8mQiQsS0okDbrH3FtdPVBnRdcYegkP2FoohddShoZqRdfQvoFxxex9ZU0OK78q6S+4mA859M3aAmlcQjiHKRLHt20fSzOKaDPHnKScOkv+vCi33ilM0A5fMBVls7YziPHecBgnEoal2Ve7hMSCCFSJEIa4coSoFRZKl85d3VTKDLld2Wwtjn60Y9+VAajjzD6MnAGiP5WXtuAwWCAmhEaZPLMNBlttA1waXDgwjMIpdEj+WSFl+yLG8zqUR6uEK4yBre4fGUNTPd01dZDZqryxZU3A+bsMvi1BSgnXahOfABt0wbtcTFK6mUshIxCLjyhKw+IA+nAfeScNgnRVS/Zmu37UnMN6Rdh4nX+ase1wRWo49K0GbTTS+KMfshwMYj88FHLsY6joT9rSLk2nvvgpm3S9LP+lOaiP3QTyOdUhPKUh0sPyYlTsdU2DxiMUzFYDTYDNcpRN5gwCCYztQi3xtlS45GFGRD5MJRDgxg+Su7qAumMq//u3mGHHTbM/uDSD+10MZ4MqkmGNuc+eAYWWmQBP/XRn9BImnv4dI6OqV8e+gnRhwdHOjy03aOZK3UFB2+AU1AmKwVpynBA6lZOvRwMunGE2gdPWTQZBSHnyWmJuzgnePodT4yLUL2cE1z50s4666zyR2O2cdpOBV8AXtp7Wcr4uxQJkJ0LJOwqT6enBbpY66x47eDUw3ZKF0+o3wPS9S2Q75oHDMapGFAGg0EC2p2Re0IyiAhEpwgz0DLoCM4VQ2TgystgyUwxdaFhoKItLR3BEKKR9BofjzFABj8ajI96AHp4jkEQR4vRwA+gFMqGrrTgJS18y1MHXtJu9YnDke4Pp5TTvqGBdjKWkVkXf5Gh1Wjf5KIuF6MtjSwCdTxpXaH6yDvyqunV+MET6ld4SQte7vUDmrkX1+70G3x5wJ63/IDTb7nP1o684AdPSK/gRqelpWzwhXSNYwmucfb5z3++tEGZGuC4ppVfXXaMz1cC6ZvU4r4NdGEIcMVIXGVuGEMDL7PLNjvSDei3vvWtzac//emCxygrw6iKG2gGEeG6lBGasWVLwH1wlTPwXHCFWVKGbgw4/uADeOIMn87lDAHjpLx8xlNd+IlzQkvdcSqMU7ZLojTKwFMGqDc84MkVhYpM0FOnPVoGbIhGgbz0X/qkNK71Yyspjocc5g2RY+pp37fT6/w6Di/3+qoN8ur2BLcLr53mvo2vr+mRsM5r3ytLF+iZ+o0DWx547NIR5V3Rva62oDnCKIFJEhiMU2FsXAwk52DQ1GAf+LnPfW7zpS99qSi+AWKmB9+AiYH2fyIGGgNvAIWWAYImo8xQA0bODNqeO3wDKs6Co/AwEC18MXbylFe3fOlooI0HdOFbScFHU35oGKxwpMNXnzi6cNDGI57hGvjKg9B3j1904OJBeQ9zOTJbIE7IoI3mUIBM8KMdfUDeIAZvaG3o43tTp5Mj2QQSr/u7TiPz5Bkv4u3xhVZwEtLNEUYJLFUCg3EqlJ2h5AgYFQY2BsgAMQj8l/i+++5b2ihNfj14xHMPKYOjHYdT56k3tBhzhlv9manVuGgx+kmDz6G5R9c9Wi5pwUu+8jUkvR3WOOKhI5421mniucI33KEAA4WvSbw54cKxxKnU7RtKO4bCRy2bOh7+6jRxOkP2ZGvy0eVUolf0G6QfQnMMRwlMI4HBOBUKzRDbS+5SZgODYapnTxksCTW4joemMOmJuwe550QABxGA03Zu8qwOgLJ1CD/8xakUhMt/gp+667zEw0/ulxPOgsZy6u0rgx+f0+CsI58u3DxHmeR4usqNadNJgN5F97pk3M6zAh5hlMBSJTAYpxKjHqPDKAei7AmTLkxawq605AkTD43c1/UlT1inBzf5uU8ovWuwtvFz3xXWtLryp0mbBY1p6pkWBz9mv9najHNtl4fjhFScdjt/ufeZGDgF9clPfrKchrJduNdee5VZe+hGbsKaxzjp5Ad/Umj1++Uvf7n8Kda9733vjeqZVG7eedri6nMY2hgdXkp75833SH/tSGAwTiXKnlVKBvLaEeXIaZ8EGFinjqwCs1XYhetBPYcya2NmYuBz+o9//OObr3zlK82tb33r8ikPxvO+971vFysb8bAcfjjIN7zhDc2HP/zh5ja3uU1z6aWXNj/5yU+aBz/4wRtNVDorn3Fixhay5K/dcRx1VcHLBK/OG+OjBKaVwGCciofPHoBT7BE2LwnoV4bKhKFe+bVbydAx4JzQLMFzrhe84AXNOeec05xwwgnNnnvuWQ5aMLDqOvXUU8sXbx382GOPPZrtttuu+frXv15WNNI++9nPFsdwu9vdrrBlBeLbU3e6052arbfeunyC3YGP2972tuWFS++ArFu3bkN7tf3tb39785GPfKR8EJVTUy88K3OfysiBDLySAac0yQEvRT5xisaW51ZWjOppQ/C0Bcy6H9r1jfebpwQG41SiwFHszVPcW2arbLUwkpyKq6+PHa9mgDNjJq0+3KVI0ifS3/e+9zW77bZbc5/73KfM0m2zqeuwww5rXvnKVzYcxoUL32s6/vjjm5NPPrl53ete17zzne9stt9++2KI8f/e9763+cxnPlO+jsvZeCv5iCOOaA455JBynFvee97znublL39588Y3vrEYZQ/Fv/jFLzannHJKeV/kmc98ZnFw8DguTtZpvSOPPLI5//zzm6OPPro4E7y94hWvKA5uKW1dDBc/VoNOJ7YhE7o4nEkTgHbZ8X6UQCQwGKfiNIqZapxLGBzDtS8Bs3F9awbMWPYBw82QCWPgZuFUGEkOy3FrTi20f/jDHzbHHHNMs+OOOxZn8IUvfKG5xz3u0Xzwgx8ss3lbdi960YvKEW7bZLbQ/DGUbaz99tuvPJOxyvA5GPSBAwmXXHJJaavtPKfZbH9ts802zUUXXVSOxVvduKSdd955zQc+8IGyerJa90FNJyB9VWCSrPpk2JceOVoRLbZiDA14I4wSWKoEBqM1BhCHMsuBtFRhjPjzkQBHwZBzLJNmv3EqszZmViVm6JwBx5bjtHhS51ZbbVUOCGT2nofYysjzKXW6yUk86UlPKnRe//rXlxXIq171qtK2GOpsXzHetprQQsfJNuEtb3nLQssq5cwzzyz5ytgidKHjny85LWVmBdqKfj5q2EcX3qaa2JE9Z5xTf308jelrSwJXHLFaZb7t84J8MDIzq1Vma6x+BhLwoqgrK5YukowZ42prZtZOxfONBzzgAeXZyEEHHVRWJbahrDx8Y+yshe9hnXHGGWXLC2++4OvBOoeQSQ7+OJWvfvWrjbIHHnhg46vKnANn5GSZD2LaAuM4c9JNm9CQxqFZ/bz//e8v22GPecxjmoc85CFFHPSdI+J4PdMxDsRnCXhy4WXS+Eq9jP48AS/4mMTLPOsfac9HAoNxKhSLss/6OOl8xDZSXYoEYjgYqxisdvnMkOkA45oybbzl3NMpz06e/exnF6fwwhe+sDxov8lNbtK8+MUvbvwP/JOf/OTytYbjjjuuPHvxp0eMu+0r/Piig7Svfe1r5QTXiSee2Oyzzz7Nne985+KwrAAcHf7Od76zwan4xLz2monf9a53LSueZzzjGcUJeQh/0kknlYf32sSBWUlEDstp52JlrJTQV5ewDzgT8p/3WCRXchhh85LAYLa/zOgoukFIoUfYfCRghcKQ2Xbq6lv9Lt0KRf/HqcxKAuhzCraVfJUBLwy+1cCNb3zj8gDeZ8IZuBvd6EaFB6fFPOPwzMRK5PTTTy9597znPYvz4Pz8tbX8RzziEc1OO+1UttLco2UF5AE8Gh7qH7iwslEXGey6666lft+w49jo/h3veMeyFfT0pz+90J1V20OHDMjXSgnokz7gVODPG+bttObN/0i/WwKDcSoUjNIbrCNsXhLItldf38bR2CYSz/0spcBI4oNhr+sQt1KxCgHu4XI6HAQnZ4Z/85vfvKRbuXiIXgNn5HhxDWhwLEI0vWz5wAc+sKC4dyBg9913L/ThqEe48847F6da05pFPHxwcPrBfR/EqefZUx/erNLD26zojXRWVwKDcSr2VylXZlDZh15d8Yy1z0ICMWCMcx94OOyjk3CsJGb5XIURd4Eux9aVVvPJ4NfQvpfXlVaXqQ15Fy/SyAmd5NflVxpXP7pOwJnAZZx10eVUQMIunFmmzaO9s+RvpLU0CQxmWeAopqV5HowuNtCX1swRezUlwGEwmI7K9gFHYmLB4G2uRka76rblPmm575PRStONLV/xdmCg74RXzYtTcyOMEliqBAbjVDgURmVTzY6WKqgRf2USMEmYZKQYOcZuXjP1lXG/+ZTm3F2ZvLVbJt2hAxAH08YZ70cJTJLAYJxKzvHb9hiVeVKXrb08DoWz4DS6gCHzsNoxXuEI85OAo93G16SdgIy/vNA5P25GypujBAbzTIWSW6V4oBml3hwFviW2ySqEU/GQGPT1LzwPvScZvE0pPzP6Pl7lBeDU90kXJq+PTo0773hWJ3idxG+eZ/XhzJvPkf7alsBgnIpZrH31cftrbStUF/echWOqXX0bw6XvxRk+LxAybI785t0KRjn/tmmb1CksF9rKePCMfo6mK4+edGU5NXUIpXNceX4j3aVMDKp2THIE7bz2fS2HSXk13jTxyCsh2q44jDYNeWmv0HFnQA5dACerxVoWXbhj2iiBLgkMxqk4+cNAxAhQ7lkOxq7Gj2mbRgIcijfOu/ozaUIOxIcWfXtL/zvSSh8YQHE04KDH4MmDF6cijXNAy3aq53ScB7zkcUScCcPpGY+8PM+zklJPvhEmT13qVx4t751wXj7fgh86690WzyGkW2lzenhwj6Z6xNHCvzJo4Vu6uFB93okRjzONkUfPhT/4GR/u0cGfCw38wnHFWaobX45OX3DBBb0dH9mhb0yOMEpgqRIYjFMxyA02+7gU2oAYYfOQgL5k6BjzLmDIGF9vs/uiLzxlGMusJhhrH2TkFKRzBAylOECD3jCs4mbkqTerFwYWDh2ja4y9OEfx/e9/vzzzYdStmn2SxcoIpJ4YbzQ+97nPlbLqQovBVjdaLmnw5EeXc4+m/ADZhDangI5tQPjqhpu2kAd8AC+rNc4F78kXck7ajGZCH8RE19UHcNV3netcpw9lTB8l0CuBwTgVimxgGUQjbH4SYABjDLtax4jd/e53L1dX/izT6BmjGmNO9zgCPGTlQA+zDVQb4Dgv/CSd0UdDGzmXfBwSDXUok8kSAw/fEXrO61e/+lVZVf3iF7+40kEGNDk2ZcXR85FK5dDBn3R8wNEuztC9cvDwxAEDfLh8zp8D6oPQFI4wSmCpEhiMUzEgwCTDs9TGjfjDkABj6DKbngSZkcNhGBnAxEvk8p+kJy24wgCc+j7pCeXXOme7rAZGO/lw23XC5YRSR1d+TW8ecXXn4gDwTM7SOEnOzXgSD5+cnrb6ikAXwFMOcEojjBJYqgQG41QMBoN0dCpL7cLh42cmH04Zri4jXPd9nV/HQ6MOk58wee37pE8b0sfFYKV1oN8nj2nqTv2RXRy37bPlAF6seoBV2wijBJYqgcVHzVIpLhOfMgPOBeS+3Iw/a1oCZsf6NYYvhnBNN2qGzA9NHtkuG53KDDt5CyI1mJWKgcXoxPBsQX2w2TdV39r/P+2008ozgJyaysNleel3WzhWCLaelBPnlOQzctKiK54XeDagDFqeT2TLygNss3VlPV9wQks520RoyROiLx2t8OEhd1YPcJzEAraDxNWVepRDw5WJEHp1fCgd3OYpbUy6MGnaPekLCCtp0/9v716SIseBAAwzlyA4ABfgDLBkzwlY9cH6NLCENTeZ+RzxdyscZbogqME1o4xQS8qXUmkr05JNV+Px0zlAPnEvue6f3QWew1y/wsbdJBVbbherC9aF/IpJTh3f6wFn+Dc3NxfPz8/Lz/H2dRSrehouwBTY0To2cy/EJ9jhQQtfIpIw0AR/iaF3ND6NJY+ulJxKDGrJoYTTEZJEQbdPjI3rizJ/O+NLNboBXXj6CotNeBsbHT8fGIdd2n3FJlCRV5dk6aUH/+Xl5ZKwyLGDn/AbI5+pFQnW+sl+vtBuTZVAkx3ljVmfLdrNEe3/Dl1XfnFd1PnrO3zDnuA77ciGsd5NUmkh9jSgP+G/4QGfpv78+XPZSZiRIG/34IWwoFuQE/TsNgRQwdDCkYDQ8VnMag8g8JJAOxJ6HbHhobtFR1bffSXZ4LHbIEuHAG1cPxmsLRA7/iGHnx72+915Qdb4kgu8vtqiNpdsZ4uvsOihz1gCe3+LhT4GpuyGwwskOfoLXmyEA2xTAJ508Zu5qeHYpl9SaVelLzmarzZd2vjxPD09LXrN56vBGOaY/XsLiFvzZefo93Oxe2s+p8TvJqm0U7EIuuFOOfGp+9/zgAXo70wUIBAKtgoQqPEI/AU2fQGu4IgPbVzM+uHCq+HIdR/pA0kCCLpwgpvaE372sE0h25M9GbzkC+6NI5mkPxxZOsxHzZaCNhy6hFOQl/Tw+czYL1D6Ea/Hx8clUUlO5BU24lOMmYzkyA50dqrhFDaX0Epy6P4uh07zKdlZg3Sahx8Y85syXw3GBMZQzgGys3oPNu/JlrU/dpNU3Mw9dVowe3ba2omz/zEPCKpKu5GkJRdwiutPZ8lkfW+hsSV7oldnEz5QYNR2tJW9+NH0x4QUf/LpwA8nEeB/fX1dEoAfBLu7u1t04RntIHsMGFPysAviV7Vxsq+abglJ8pFU1Naio7br6+ul7Vp9FdD1mfl81fhTz+k9sJuk4kjBDT0++X1k+i3sUaZFfMxN/Bn5QzLG38JHU7PpPT48n4G1XmOsIR74fHOIby33Xv+jc4m/mm5tZQ0jT7RxDtFHXHzRqsNXr2Xyxxo/8tthjPq0g5LJiDsmKOOX1OgW/AFdx8LaHrKSiR2SuWwl1Pf0Szz54z2+j9JOofOjNkz+03lgN0nFovAjTrbcxy7Cbs4WcP3ctYWPPtZrWbRDuHHxHqJvyTXWKDO2ox9bj3aQqb+ut8ZY49f99Bxrz1r+PTm6C5hruXWfnkO4ET/Sx/YhnjUdT7Zoj7DmHftb7eRHerg/1clU/4l/pI8ytdW18Y7tUXarveWXLf5j8R+141i9k28fHthNUnHW7D+6+/Hjx3LG7YnNU5aXpGpny3YzwBOYG15wslXHq/RlDh5beWfU+CQpn7Fq4/cEpq34usbZsy9y/KeAnXk3TgnOk57/SsM7n44V8LDB2PjUzsfrd9zgWE/bPOjv6ME8OsdmFx3GoR8v3fgtQgm344lswjfOiT299KWPLrL0sEHbblBNB7xzdnwdkdChzUa+50N8ZEY54+iTNV96PWnTx3Y00DzYEz88eXr5nyz7yKqvrq4Wf7FD8cKYvd4N4FEb167W2N6J6OdXRzfA/cImOo3BBrJsUvMdO/Cj0wVvLAUdr2vAVnxq47DLfLTJwec3cvB0sCtfLEZt/EOeLeww5oTpgXP1wG6Syu3t7cXLy8tyrsyZFqJFWaCw0OAscGARCqrxoVuUFrjaAlcHBb/k8HXMAGccwcCY8IJRSQEvfHxqBc44BX5j0RE9PWwMD+ccXiJjs3ELuOoCVLRqPwMriOL3ElWg9aNWQND0NwXsYYu5Gs8XS4IkOn6yfCbY9nJashLI3t7elqDJrubpZa6gT5ZeOtlIBzvzmRqgmx8etuAZfUMvX5A3F74DtdmBhw7FC2TXQcLXRjcfid0c6EknG7QDtmQXHWRH4BO+ZSudbGCbNrvZpq80TzJAn05jkKOHDDobmjs74ek0H0mJ3+HsyI1hDgodHpx6KBltne3pgXPywG6SysPDw8X9/f2vAMuJFnSBogWuH646msWejLo+XQIAGPHJw2uPeuIPn2y8alDwGseFJ6ekBz28oCKYjbjk8WjXJ58e89EW0ApG+AtiZAro8JIqmpI+8mThtAU2evEKbGgBugQFhwfAKfQdAjSAroxy4fFkAx5t82xstuARYI0vWNuhoOuzsy+W0lkyI5sP6NQmZ5fXH112Tczdf9AoaeGhs7HplRAlI3z0o6klEnh0wDb9vuKiq3nDl7AkFPa0O+3a4sHfNWHPhOmBc/XAX/8s3t+Pd984C2ZsBapvNOskQzfXXD/OO5qBx3aGHCMT71gb45A+PCN+rX+kjfpm+7cH+KgiOWirJRCJSLKRQNqxSEIlGnx4JCI88L7+cvQ4YXrgHD2wm6Ryjs6bNk8PnMoDM5mfyrNT76k9cPw3i6e2ZOqfHpge+LXLGXev0y3TA+fkgb8B2NVyu+OAS+wAAAAASUVORK5CYII=)"
      ],
      "metadata": {
        "id": "rT8emyvQVXdH"
      }
    },
    {
      "cell_type": "markdown",
      "source": [
        "Nesse exemplo de implementação, estamos criando um novo tipo de dado listaES que é uma representação de uma lista estática (tamanho fixo) e sequencial (elementos são armazenados de modo contíguo na memória). Em geral, esse tipo de dado é implementado como um vetor, por isso, vamos usar arrays numpy (um tipo estruturado da linguagem Python) para armazenar nossos dados\n",
        "\n",
        "No próximo exemplo, vamos fazer um tipo usando dados primitivos"
      ],
      "metadata": {
        "id": "A9HKq61bY68J"
      }
    },
    {
      "cell_type": "code",
      "execution_count": 6,
      "metadata": {
        "id": "yR0X8yNHVTw8"
      },
      "outputs": [],
      "source": [
        "import numpy as np\n",
        "\n",
        "class listaES:\n",
        "\n",
        "  #o método especial __init__ é chamado quando criamos um objeto dessa classe\n",
        "  def __init__(self, capacidade): \n",
        "    self.capacidade = capacidade\n",
        "    self.ultima_posicao = -1\n",
        "    self.valores = np.empty(self.capacidade, dtype = int) #os elementos da listaES são numpy array (números)\n",
        "\n",
        "  #O(n)\n",
        "  def imprime(self):\n",
        "    if self.ultima_posicao == -1:\n",
        "      print('A lista está vazia')\n",
        "    else:\n",
        "      for i in range(self.ultima_posicao + 1):\n",
        "        print(self.valores[i])\n",
        "\n",
        "  #O(1)\n",
        "  def insere(self, valor):\n",
        "    if self.ultima_posicao == self.capacidade - 1:\n",
        "      print('Capacidade máxima atingida')\n",
        "    else:\n",
        "      self.ultima_posicao += 1 \n",
        "      self.valores[self.ultima_posicao] = valor \n",
        "\n",
        "  # O(n)\n",
        "  def pesquisar(self, valor):\n",
        "    for i in range(self.ultima_posicao + 1):\n",
        "      if valor == self.valores[i]:\n",
        "        return i\n",
        "    return -1\n",
        "\n",
        "  # O(n)\n",
        "  def excluir(self, valor):\n",
        "    posicao = self.pesquisar(valor)\n",
        "    if posicao == -1:\n",
        "      return 'Valor não encontrado'\n",
        "    else:\n",
        "      for i in range(posicao, self.ultima_posicao):\n",
        "        self.valores[i] = self.valores[i + 1]\n",
        "      self.ultima_posicao -= 1"
      ]
    },
    {
      "cell_type": "code",
      "source": [
        "les = listaES(5) #criação de uma variável do tipo listaES (objeto de listaES)"
      ],
      "metadata": {
        "id": "bTgLeJJOWRjH"
      },
      "execution_count": 7,
      "outputs": []
    },
    {
      "cell_type": "code",
      "source": [
        "les.imprime()"
      ],
      "metadata": {
        "colab": {
          "base_uri": "https://localhost:8080/"
        },
        "id": "mZ49xDp5WbR5",
        "outputId": "1268367c-b5f8-45e2-a48b-3e20d47e0bad"
      },
      "execution_count": 8,
      "outputs": [
        {
          "output_type": "stream",
          "name": "stdout",
          "text": [
            "A lista está vazia\n"
          ]
        }
      ]
    },
    {
      "cell_type": "code",
      "source": [
        "les.insere(25)\n",
        "les.insere(78)\n",
        "les.insere(39)\n",
        "les.insere(9)\n",
        "les.insere(3)"
      ],
      "metadata": {
        "id": "Tgh_jZl9WqGE"
      },
      "execution_count": 9,
      "outputs": []
    },
    {
      "cell_type": "code",
      "source": [
        "les.imprime()"
      ],
      "metadata": {
        "colab": {
          "base_uri": "https://localhost:8080/"
        },
        "id": "T82Ts82uWwOS",
        "outputId": "39753eaa-f67c-4cb7-85bc-09ca5d9678b4"
      },
      "execution_count": 10,
      "outputs": [
        {
          "output_type": "stream",
          "name": "stdout",
          "text": [
            "25\n",
            "78\n",
            "39\n",
            "9\n",
            "3\n"
          ]
        }
      ]
    },
    {
      "cell_type": "code",
      "source": [
        "les.insere(5)"
      ],
      "metadata": {
        "colab": {
          "base_uri": "https://localhost:8080/"
        },
        "id": "LUUI5Af-fBCv",
        "outputId": "7999ee06-76ac-4fb6-a73a-d8e3c11dc263"
      },
      "execution_count": 11,
      "outputs": [
        {
          "output_type": "stream",
          "name": "stdout",
          "text": [
            "Capacidade máxima atingida\n"
          ]
        }
      ]
    },
    {
      "cell_type": "code",
      "source": [
        "les.excluir(8)"
      ],
      "metadata": {
        "colab": {
          "base_uri": "https://localhost:8080/",
          "height": 35
        },
        "id": "FXw5bEkTZX_1",
        "outputId": "87d0e3ec-d567-4a47-e78a-a7cbb892a053"
      },
      "execution_count": 12,
      "outputs": [
        {
          "output_type": "execute_result",
          "data": {
            "text/plain": [
              "'Valor não encontrado'"
            ],
            "application/vnd.google.colaboratory.intrinsic+json": {
              "type": "string"
            }
          },
          "metadata": {},
          "execution_count": 12
        }
      ]
    },
    {
      "cell_type": "code",
      "source": [
        "les.excluir(39)"
      ],
      "metadata": {
        "id": "jj0utruxZ1ld"
      },
      "execution_count": 13,
      "outputs": []
    },
    {
      "cell_type": "code",
      "source": [
        "les.imprime()"
      ],
      "metadata": {
        "colab": {
          "base_uri": "https://localhost:8080/"
        },
        "id": "HEJbBFrpZ4if",
        "outputId": "ee22884a-b510-4e2c-809e-614a36af9727"
      },
      "execution_count": 14,
      "outputs": [
        {
          "output_type": "stream",
          "name": "stdout",
          "text": [
            "25\n",
            "78\n",
            "9\n",
            "3\n"
          ]
        }
      ]
    },
    {
      "cell_type": "markdown",
      "source": [
        "# Exemplo de implementação de lista dinâmica encadeada"
      ],
      "metadata": {
        "id": "hJzjYGnIW6Vx"
      }
    },
    {
      "cell_type": "markdown",
      "source": [
        "A classe Node representará **um elemento** da nossa lista\n",
        "\n",
        "Como a lista é dinâmica encadeada, seu tamanho é variável e os elementos podem ser armazenados em posições não contíguas na memória, por isso, precisamos que cada elemento conheça seu sucessor"
      ],
      "metadata": {
        "id": "oxbmluLKb4rH"
      }
    },
    {
      "cell_type": "code",
      "source": [
        "class Node:\n",
        "  def __init__(self, value):\n",
        "    self.data = value\n",
        "    self.next = None\n",
        "\n",
        "  def getData(self):\n",
        "    return self.data\n",
        "\n",
        "  def getNext(self):\n",
        "    return self.next\n",
        "\n",
        "  def setData(self,newdata):\n",
        "    self.data = newdata\n",
        "\n",
        "  def setNext(self,newnext):\n",
        "    self.next = newnext\n",
        "\n",
        "  def __repr__(self):\n",
        "    return f'{self.data} -> {self.next}'"
      ],
      "metadata": {
        "id": "WL1MW5m8W9_5"
      },
      "execution_count": null,
      "outputs": []
    },
    {
      "cell_type": "code",
      "source": [
        "n = Node(54)"
      ],
      "metadata": {
        "id": "sgp-pvC2ai3Q"
      },
      "execution_count": null,
      "outputs": []
    },
    {
      "cell_type": "code",
      "source": [
        "n"
      ],
      "metadata": {
        "colab": {
          "base_uri": "https://localhost:8080/"
        },
        "id": "iEZQT2DAamHo",
        "outputId": "a0595a63-30dd-467e-adae-28be6896fb7a"
      },
      "execution_count": null,
      "outputs": [
        {
          "output_type": "execute_result",
          "data": {
            "text/plain": [
              "54 -> None"
            ]
          },
          "metadata": {},
          "execution_count": 306
        }
      ]
    },
    {
      "cell_type": "markdown",
      "source": [
        "> O primeiro e o último elementos de uma lista encadeada são muito importantes, por isso recebem nomes especiais: **cabeça (head) e cauda (tail)**, respectivamente\n",
        "\n",
        "Dessa forma, a classe ListaDE contém um atributo que aponta para o primeiro elemento da lista (head) e outro atributo que aponta para o último elemento da lista (tail)\n",
        "\n",
        "Inicialmente a cabeça e a cauda serão None (vazios), e sempre que quisermos adicionar um elemento, criaremos um objeto Node com o valor do elemento e faremos os devidos ajustes na cabeça e cauda quando necessário\n",
        "\n",
        "![ListaEncadeada.png](data:image/png;base64,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)\n",
        "\n"
      ],
      "metadata": {
        "id": "pgpZ9pN3cJx8"
      }
    },
    {
      "cell_type": "markdown",
      "source": [
        "* https://algoritmosempython.com.br/cursos/algoritmos-python/estruturas-dados/listas-encadeadas/\n",
        "\n",
        "\n",
        "* https://panda.ime.usp.br/panda/static/pythonds_pt/03-EDBasicos/21-ListaImplementacao.html\n"
      ],
      "metadata": {
        "id": "m7Nm6ngY3dql"
      }
    },
    {
      "cell_type": "code",
      "source": [
        "class ListaDE:\n",
        "\n",
        "  def __init__(self):\n",
        "    self.head = None\n",
        "    self.tail = None\n",
        "\n",
        "  def isEmpty(self):\n",
        "    return self.head == None\n",
        "\n",
        "  #insere no final da lista\n",
        "  def append(self,item):\n",
        "    new = Node(item) #criamos o nó do novo elemento\n",
        "    if self.head == None: #se lista vazia\n",
        "      self.head = self.tail = new #se for o primeiro elemento, cabeça e cauda apontam para ele\n",
        "    else: #se lista não estiver vazia\n",
        "      self.tail.setNext(new) #o que era o ultimo, passa a apontar para o novo elemento\n",
        "      self.tail = new #A cauda passa a apontar para o novo elemento\n",
        "\n",
        "  def size(self):\n",
        "    current = self.head\n",
        "    count = 0\n",
        "    while current != None:\n",
        "      count = count + 1\n",
        "      current = current.getNext()\n",
        "\n",
        "    return count\n",
        "\n",
        "  def search(self,item):\n",
        "    current = self.head\n",
        "    found = False\n",
        "    while current != None and not found:\n",
        "      if current.getData() == item:\n",
        "        found = True\n",
        "      else:\n",
        "        current = current.getNext()\n",
        "\n",
        "    return found\n",
        "\n",
        "  def remove(self,item):\n",
        "    current = self.head\n",
        "    previous = None\n",
        "    found = False\n",
        "    while not found:\n",
        "      if current.getData() == item:\n",
        "        found = True\n",
        "      else:\n",
        "        previous = current\n",
        "        current = current.getNext()\n",
        "    \n",
        "    if previous == None:\n",
        "      self.head = current.getNext()\n",
        "    else:\n",
        "      previous.setNext(current.getNext())\n",
        "\n",
        "  def __repr__(self):\n",
        "    out = ''\n",
        "    current = self.head\n",
        "    while current != None:\n",
        "      out = out + ' ' + str(current.getData())\n",
        "      current = current.getNext()\n",
        "    return out"
      ],
      "metadata": {
        "id": "whfihLjpcJ7B"
      },
      "execution_count": null,
      "outputs": []
    },
    {
      "cell_type": "code",
      "source": [
        "mylist = ListaDE()"
      ],
      "metadata": {
        "id": "5y0B_2SJfUNj"
      },
      "execution_count": null,
      "outputs": []
    },
    {
      "cell_type": "markdown",
      "source": [
        "![heap-Page-2.drawio.png](data:image/png;base64,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)"
      ],
      "metadata": {
        "id": "-j1T6v9Lf3le"
      }
    },
    {
      "cell_type": "code",
      "source": [
        "mylist.isEmpty()"
      ],
      "metadata": {
        "colab": {
          "base_uri": "https://localhost:8080/"
        },
        "id": "oeggByKAhGjL",
        "outputId": "1d266d5a-e65e-4a06-b4fb-cbdd30e0e02d"
      },
      "execution_count": null,
      "outputs": [
        {
          "output_type": "execute_result",
          "data": {
            "text/plain": [
              "True"
            ]
          },
          "metadata": {},
          "execution_count": 337
        }
      ]
    },
    {
      "cell_type": "code",
      "source": [
        "mylist.append(54)"
      ],
      "metadata": {
        "id": "jiJkNHmsg3UM"
      },
      "execution_count": null,
      "outputs": []
    },
    {
      "cell_type": "markdown",
      "source": [
        "![heap-Page-3.drawio.png](data:image/png;base64,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)"
      ],
      "metadata": {
        "id": "O2-xr5cqf-xr"
      }
    },
    {
      "cell_type": "code",
      "source": [
        "mylist.append(26)"
      ],
      "metadata": {
        "id": "FtRAaBCnf82d"
      },
      "execution_count": null,
      "outputs": []
    },
    {
      "cell_type": "markdown",
      "source": [
        "![heap-Page-4.drawio.png](data:image/png;base64,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)"
      ],
      "metadata": {
        "id": "yHO0nRcJgIKc"
      }
    },
    {
      "cell_type": "code",
      "source": [
        "mylist.append(93)"
      ],
      "metadata": {
        "id": "gPw_SyaGf9pv"
      },
      "execution_count": null,
      "outputs": []
    },
    {
      "cell_type": "markdown",
      "source": [
        "![heap-Page-5.drawio.png](data:image/png;base64,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)"
      ],
      "metadata": {
        "id": "EazCKhB7gOH8"
      }
    },
    {
      "cell_type": "code",
      "source": [
        "mylist.append(17)\n",
        "mylist.append(77)\n",
        "mylist.append(31)"
      ],
      "metadata": {
        "id": "9DHHPHJCi5d1"
      },
      "execution_count": null,
      "outputs": []
    },
    {
      "cell_type": "code",
      "source": [
        "mylist"
      ],
      "metadata": {
        "colab": {
          "base_uri": "https://localhost:8080/"
        },
        "id": "nvfKoC2meH6-",
        "outputId": "6a5fce08-2da9-4872-8053-bcf24fabfc52"
      },
      "execution_count": null,
      "outputs": [
        {
          "output_type": "execute_result",
          "data": {
            "text/plain": [
              " 54 26 93 17 77 31"
            ]
          },
          "metadata": {},
          "execution_count": 342
        }
      ]
    },
    {
      "cell_type": "code",
      "source": [
        "mylist.size()"
      ],
      "metadata": {
        "colab": {
          "base_uri": "https://localhost:8080/"
        },
        "id": "0NhQj34huqcv",
        "outputId": "dcb83b68-d51e-4581-d440-bf38fbe532f4"
      },
      "execution_count": null,
      "outputs": [
        {
          "output_type": "execute_result",
          "data": {
            "text/plain": [
              "6"
            ]
          },
          "metadata": {},
          "execution_count": 269
        }
      ]
    },
    {
      "cell_type": "code",
      "source": [
        "mylist.search(93)"
      ],
      "metadata": {
        "colab": {
          "base_uri": "https://localhost:8080/"
        },
        "id": "gZx3bx_zuuVO",
        "outputId": "d0959391-7152-472f-b022-d9c66b656ba0"
      },
      "execution_count": null,
      "outputs": [
        {
          "output_type": "execute_result",
          "data": {
            "text/plain": [
              "True"
            ]
          },
          "metadata": {},
          "execution_count": 270
        }
      ]
    },
    {
      "cell_type": "code",
      "source": [
        "mylist.search(1)"
      ],
      "metadata": {
        "colab": {
          "base_uri": "https://localhost:8080/"
        },
        "id": "OhAekwtGuuJ_",
        "outputId": "a26cd470-0ad2-45a6-9cac-36b9e8e77b41"
      },
      "execution_count": null,
      "outputs": [
        {
          "output_type": "execute_result",
          "data": {
            "text/plain": [
              "False"
            ]
          },
          "metadata": {},
          "execution_count": 271
        }
      ]
    },
    {
      "cell_type": "code",
      "source": [
        "mylist.remove(17)"
      ],
      "metadata": {
        "id": "_LqFR8Gzu1BT"
      },
      "execution_count": null,
      "outputs": []
    },
    {
      "cell_type": "markdown",
      "source": [
        "Ao chamar o métod remove, ocorrerá uma busca pelo elemento utilizando-se das variáveis previous e current (anterior e atual)\n",
        "\n",
        "Essas variáveis serão alteradas até que o elemento seja encontrado"
      ],
      "metadata": {
        "id": "1wUHq6ubnJYd"
      }
    },
    {
      "cell_type": "markdown",
      "source": [
        "![prevcurr.png](data:image/png;base64,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)"
      ],
      "metadata": {
        "id": "MCIoKsOum70h"
      }
    },
    {
      "cell_type": "markdown",
      "source": [
        "Para remover o elemento, mudamos o next do previous para que ele aponte para o next do current, **saltando o elemento que queremos remover**"
      ],
      "metadata": {
        "id": "dFw62syfnXkA"
      }
    },
    {
      "cell_type": "markdown",
      "source": [
        "![remove.png](data:image/png;base64,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)"
      ],
      "metadata": {
        "id": "c9GisPnUnC-N"
      }
    },
    {
      "cell_type": "code",
      "source": [
        "mylist"
      ],
      "metadata": {
        "colab": {
          "base_uri": "https://localhost:8080/"
        },
        "id": "nY5oPgrSu3zb",
        "outputId": "709a088d-c02e-4869-85be-3f8b8d1bd56d"
      },
      "execution_count": null,
      "outputs": [
        {
          "output_type": "execute_result",
          "data": {
            "text/plain": [
              " 54 26 93 77 31"
            ]
          },
          "metadata": {},
          "execution_count": 344
        }
      ]
    },
    {
      "cell_type": "code",
      "source": [
        "mylist.remove(54)"
      ],
      "metadata": {
        "id": "f9stEwSPpCdV"
      },
      "execution_count": null,
      "outputs": []
    },
    {
      "cell_type": "markdown",
      "source": [
        "Caso o elemento a ser removido seja a cabeça, então o head passa a apontar para o próximo do current"
      ],
      "metadata": {
        "id": "OTQhxmotpN31"
      }
    },
    {
      "cell_type": "markdown",
      "source": [
        "![remove2.png](data:image/png;base64,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)"
      ],
      "metadata": {
        "id": "Br_OT3fipJ-U"
      }
    },
    {
      "cell_type": "code",
      "source": [
        "mylist"
      ],
      "metadata": {
        "colab": {
          "base_uri": "https://localhost:8080/"
        },
        "id": "ZcJ97weppGL3",
        "outputId": "3308d596-22d2-4004-fe59-b0ea931bb35c"
      },
      "execution_count": null,
      "outputs": [
        {
          "output_type": "execute_result",
          "data": {
            "text/plain": [
              " 26 93 77 31"
            ]
          },
          "metadata": {},
          "execution_count": 347
        }
      ]
    },
    {
      "cell_type": "code",
      "source": [
        "mylist.size()"
      ],
      "metadata": {
        "colab": {
          "base_uri": "https://localhost:8080/"
        },
        "id": "wfauD0fXu71f",
        "outputId": "2288c6c8-bf03-4f0a-fd95-8ef4ef47be75"
      },
      "execution_count": null,
      "outputs": [
        {
          "output_type": "execute_result",
          "data": {
            "text/plain": [
              "4"
            ]
          },
          "metadata": {},
          "execution_count": 348
        }
      ]
    },
    {
      "cell_type": "markdown",
      "source": [
        "## Exercício\n",
        "\n",
        "Ajuste o método remove para que ele mostre uma mensagem caso o elemento não esteja na lista"
      ],
      "metadata": {
        "id": "fASFOv0qqL-y"
      }
    }
  ]
}