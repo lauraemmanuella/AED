{
  "nbformat": 4,
  "nbformat_minor": 0,
  "metadata": {
    "colab": {
      "name": "AnaliseComplexidade.ipynb",
      "provenance": [],
      "collapsed_sections": [],
      "include_colab_link": true
    },
    "kernelspec": {
      "name": "python3",
      "display_name": "Python 3"
    }
  },
  "cells": [
    {
      "cell_type": "markdown",
      "metadata": {
        "id": "view-in-github",
        "colab_type": "text"
      },
      "source": [
        "<a href=\"https://colab.research.google.com/github/lauraemmanuella/AED/blob/main/AnaliseComplexidade.ipynb\" target=\"_parent\"><img src=\"https://colab.research.google.com/assets/colab-badge.svg\" alt=\"Open In Colab\"/></a>"
      ]
    },
    {
      "cell_type": "markdown",
      "metadata": {
        "id": "AYQESEBHYkvy"
      },
      "source": [
        "## Algoritmo soma1"
      ]
    },
    {
      "cell_type": "code",
      "metadata": {
        "id": "DM7oWrYlJPBc"
      },
      "source": [
        "def soma1(n):\n",
        "  '''\n",
        "  Função que retorna o somatório de uma sequencia de números (de 1 a n). \n",
        "  Ex: Se n = 10, soma = 55 (1 + 2 + 3 + 4 + 5 + 6 + 7 + 8 + 9 + 10)\n",
        "  '''\n",
        "  soma = 0\n",
        "  for i in range(1, n + 1):\n",
        "    soma += i\n",
        "  return soma"
      ],
      "execution_count": null,
      "outputs": []
    },
    {
      "cell_type": "code",
      "metadata": {
        "id": "5YgUZvBEJmQs",
        "colab": {
          "base_uri": "https://localhost:8080/"
        },
        "outputId": "fe22bfe4-9760-41c9-9f80-0d8d984ca9c8"
      },
      "source": [
        "soma1(10)"
      ],
      "execution_count": null,
      "outputs": [
        {
          "output_type": "execute_result",
          "data": {
            "text/plain": [
              "55"
            ]
          },
          "metadata": {},
          "execution_count": 2
        }
      ]
    },
    {
      "cell_type": "markdown",
      "source": [
        "https://pt.wikipedia.org/wiki/Ordens_de_magnitude_para_tempo\n"
      ],
      "metadata": {
        "id": "LbMxhtgyGIXY"
      }
    },
    {
      "cell_type": "code",
      "metadata": {
        "id": "xpBINa-fJrK7",
        "colab": {
          "base_uri": "https://localhost:8080/"
        },
        "outputId": "fecf8e84-2ebe-4452-ad23-0ef8a038ec0d"
      },
      "source": [
        "%timeit soma1(10)"
      ],
      "execution_count": null,
      "outputs": [
        {
          "output_type": "stream",
          "name": "stdout",
          "text": [
            "The slowest run took 5.22 times longer than the fastest. This could mean that an intermediate result is being cached.\n",
            "1000000 loops, best of 5: 762 ns per loop\n"
          ]
        }
      ]
    },
    {
      "cell_type": "code",
      "source": [
        "%timeit soma1(100)"
      ],
      "metadata": {
        "colab": {
          "base_uri": "https://localhost:8080/"
        },
        "id": "Q_ixfTYmqxGf",
        "outputId": "3a91da84-aa95-44e7-ce73-6c493b65f952"
      },
      "execution_count": null,
      "outputs": [
        {
          "output_type": "stream",
          "name": "stdout",
          "text": [
            "100000 loops, best of 5: 5.11 µs per loop\n"
          ]
        }
      ]
    },
    {
      "cell_type": "code",
      "source": [
        "%timeit soma1(1000)"
      ],
      "metadata": {
        "colab": {
          "base_uri": "https://localhost:8080/"
        },
        "id": "pLlsanpjq1Ge",
        "outputId": "1df55eec-7120-46e7-ddc2-a3e049a64686"
      },
      "execution_count": null,
      "outputs": [
        {
          "output_type": "stream",
          "name": "stdout",
          "text": [
            "10000 loops, best of 5: 58.6 µs per loop\n"
          ]
        }
      ]
    },
    {
      "cell_type": "markdown",
      "metadata": {
        "id": "UOFpt0IEY-zt"
      },
      "source": [
        "# Algoritmo soma2"
      ]
    },
    {
      "cell_type": "code",
      "metadata": {
        "id": "gWgc6pOcKHnV"
      },
      "source": [
        "def soma2(n):\n",
        "  '''\n",
        "  Função que retorna o somatório de uma sequencia de números (de 1 a n), \n",
        "    usando uma equação matemática\n",
        "  Ex: Se n = 10, soma = 55 (10 * 11)/2\n",
        "  '''\n",
        "  return (n * (n + 1)) / 2"
      ],
      "execution_count": null,
      "outputs": []
    },
    {
      "cell_type": "code",
      "metadata": {
        "id": "hQw3LgCdKZeg",
        "colab": {
          "base_uri": "https://localhost:8080/"
        },
        "outputId": "139fc461-c498-4fcd-c0c8-06648e055544"
      },
      "source": [
        "soma2(10)"
      ],
      "execution_count": null,
      "outputs": [
        {
          "output_type": "execute_result",
          "data": {
            "text/plain": [
              "55.0"
            ]
          },
          "metadata": {},
          "execution_count": 18
        }
      ]
    },
    {
      "cell_type": "code",
      "source": [
        "%timeit soma2(10)"
      ],
      "metadata": {
        "colab": {
          "base_uri": "https://localhost:8080/"
        },
        "id": "NMMXldHFqW6Z",
        "outputId": "a7f66bc2-9204-4226-ef30-124a591dc2f4"
      },
      "execution_count": null,
      "outputs": [
        {
          "output_type": "stream",
          "name": "stdout",
          "text": [
            "The slowest run took 16.62 times longer than the fastest. This could mean that an intermediate result is being cached.\n",
            "10000000 loops, best of 5: 147 ns per loop\n"
          ]
        }
      ]
    },
    {
      "cell_type": "code",
      "metadata": {
        "id": "4MXjKO9rKfwV",
        "colab": {
          "base_uri": "https://localhost:8080/"
        },
        "outputId": "7d1d226a-c7d8-44e5-b500-4ee8261ab428"
      },
      "source": [
        "%timeit soma2(100)"
      ],
      "execution_count": null,
      "outputs": [
        {
          "output_type": "stream",
          "name": "stdout",
          "text": [
            "The slowest run took 12.55 times longer than the fastest. This could mean that an intermediate result is being cached.\n",
            "10000000 loops, best of 5: 162 ns per loop\n"
          ]
        }
      ]
    },
    {
      "cell_type": "code",
      "source": [
        "%timeit soma2(1000)"
      ],
      "metadata": {
        "colab": {
          "base_uri": "https://localhost:8080/"
        },
        "id": "q5hJeFlkqiJ9",
        "outputId": "51aab820-9b33-4998-df6c-efb9b129410a"
      },
      "execution_count": null,
      "outputs": [
        {
          "output_type": "stream",
          "name": "stdout",
          "text": [
            "The slowest run took 14.44 times longer than the fastest. This could mean that an intermediate result is being cached.\n",
            "10000000 loops, best of 5: 174 ns per loop\n"
          ]
        }
      ]
    },
    {
      "cell_type": "markdown",
      "metadata": {
        "id": "zYNkXdvtm1x2"
      },
      "source": [
        "## Exemplos Classes de Problemas (Big O)\n"
      ]
    },
    {
      "cell_type": "markdown",
      "metadata": {
        "id": "__Ma6k2zm4c6"
      },
      "source": [
        "### Constant - O(1)"
      ]
    },
    {
      "cell_type": "code",
      "metadata": {
        "id": "sVVU_dh2U5uo",
        "colab": {
          "base_uri": "https://localhost:8080/"
        },
        "outputId": "2c826663-122b-42a6-a3c7-70e67bae7aa7"
      },
      "source": [
        "authors = ['Andrew Ng', 'Josh Stamer', 'Kent Beck', \n",
        "\t   'Martin Fowler', 'Erick Evans', 'Erich Gamma'];\n",
        "\n",
        "def first_two_authors(authors): #sempre faz 2 passos\n",
        "  print(authors[0]) \n",
        "  print(authors[1]) \n",
        "\n",
        "first_two_authors(authors) "
      ],
      "execution_count": null,
      "outputs": [
        {
          "output_type": "stream",
          "name": "stdout",
          "text": [
            "Andrew Ng\n",
            "Josh Stamer\n"
          ]
        }
      ]
    },
    {
      "cell_type": "markdown",
      "metadata": {
        "id": "D8QceUvBoF6k"
      },
      "source": [
        "### Linear - O(n)"
      ]
    },
    {
      "cell_type": "code",
      "metadata": {
        "id": "5hsilgAbVS35",
        "colab": {
          "base_uri": "https://localhost:8080/"
        },
        "outputId": "5e8734ea-9e3a-4810-a58d-22357a06d8c0"
      },
      "source": [
        "#fará N passos, dependendo da quantidade de elementos na lista\n",
        "lot_of_items = ['coffee'] * 10 \n",
        "\n",
        "def find_coffee(items):\n",
        "  for item in items:\n",
        "    if(item == 'coffee'):\n",
        "      print('Found Coffee')\n",
        "\n",
        "find_coffee(lot_of_items)"
      ],
      "execution_count": null,
      "outputs": [
        {
          "output_type": "stream",
          "name": "stdout",
          "text": [
            "Found Coffee\n",
            "Found Coffee\n",
            "Found Coffee\n",
            "Found Coffee\n",
            "Found Coffee\n",
            "Found Coffee\n",
            "Found Coffee\n",
            "Found Coffee\n",
            "Found Coffee\n",
            "Found Coffee\n"
          ]
        }
      ]
    },
    {
      "cell_type": "markdown",
      "metadata": {
        "id": "I3qq3AhkpT_W"
      },
      "source": [
        "### Quadratic - O(n^2) - polynomial"
      ]
    },
    {
      "cell_type": "code",
      "metadata": {
        "id": "JiFJ9niEVnGO",
        "colab": {
          "base_uri": "https://localhost:8080/"
        },
        "outputId": "826016c7-6f63-4681-f1ac-e9fa21970ee7"
      },
      "source": [
        "items = ['Andrew Ng', 'François Chollet', 'Josh Stamer'];\n",
        "\n",
        "def find_all_pairs(items):\n",
        "  for item_a in items:\n",
        "    for item_b in items:\n",
        "      print(item_a + ' - ' + item_b)\n",
        "\n",
        "find_all_pairs(items)"
      ],
      "execution_count": null,
      "outputs": [
        {
          "output_type": "stream",
          "name": "stdout",
          "text": [
            "Andrew Ng - Andrew Ng\n",
            "Andrew Ng - François Chollet\n",
            "Andrew Ng - Josh Stamer\n",
            "François Chollet - Andrew Ng\n",
            "François Chollet - François Chollet\n",
            "François Chollet - Josh Stamer\n",
            "Josh Stamer - Andrew Ng\n",
            "Josh Stamer - François Chollet\n",
            "Josh Stamer - Josh Stamer\n"
          ]
        }
      ]
    },
    {
      "cell_type": "markdown",
      "source": [
        "## Log(n)\n"
      ],
      "metadata": {
        "id": "_e_Dgx5Rb5pm"
      }
    },
    {
      "cell_type": "code",
      "source": [
        "#Encontrar um item em uma lista ordenada\n",
        "items = [1, 2, 3, 4, 5, 6 , 7, 8, 9, 10]\n",
        "\n",
        "def binary_search(alist, item):\n",
        "  #Define variáveis para controlar o indice da lista (primeiro e ultimo)\n",
        "  first = 0 #primeiro indice\n",
        "  last = len(alist)-1 #ultimo indice\n",
        "  found = False #variavel para identificar quando o item for encontrado\n",
        "\n",
        "  #O laço começa dizendo que vai do primeiro ao último indice, ou seja, tamanho N\n",
        "  while first <= last and not found:\n",
        "\n",
        "    midpoint = (first + last) // 2 #identifica o indice do meio da lista\n",
        "    \n",
        "    #verifica se o item que está no meio da lista é o item procurado\n",
        "    if alist[midpoint] == item:\n",
        "      found = True\n",
        "    else: #caso não seja\n",
        "      if item < alist[midpoint]: #verifica se o item procurado é menor que o item do meio\n",
        "        last = midpoint-1 #se for, redefine o ultimo indice como sendo o anterior ao do meio \n",
        "      else:\n",
        "        first = midpoint+1 #caso contrário, redefine o ultimo indice como sendo o posterior ao do meio\n",
        "    #Dessa forma, ele reduz a lista pela metade\n",
        "    #eliminando a parte que já sabe que não contem o item procurado\n",
        "    \n",
        "    return found\n",
        "\n",
        "print(binary_search(items, 19))"
      ],
      "metadata": {
        "colab": {
          "base_uri": "https://localhost:8080/"
        },
        "id": "i2CxtEMrb-l_",
        "outputId": "ae60138e-2d2b-432f-beea-52289425394b"
      },
      "execution_count": null,
      "outputs": [
        {
          "output_type": "stream",
          "name": "stdout",
          "text": [
            "False\n"
          ]
        }
      ]
    },
    {
      "cell_type": "markdown",
      "source": [
        "#Mais Exemplos\n"
      ],
      "metadata": {
        "id": "zxdA9CAMjvB4"
      }
    },
    {
      "cell_type": "code",
      "source": [
        "L1= [5, 5]\n",
        "L2 = [8, 5]\n",
        "if L1[0] > L2[0]:\n",
        "  print(L1[0])\n",
        "else:\n",
        "  print(L2[0])"
      ],
      "metadata": {
        "id": "SuLT74Omjwvw"
      },
      "execution_count": null,
      "outputs": []
    },
    {
      "cell_type": "code",
      "source": [
        "x = 1\n",
        "n = 10\n",
        "while x <= n:\n",
        "  print(x)\n",
        "  x += 1"
      ],
      "metadata": {
        "id": "Rxk6HqOXkMCp"
      },
      "execution_count": null,
      "outputs": []
    },
    {
      "cell_type": "code",
      "source": [
        "x = 10\n",
        "while x > 1:\n",
        "  print(x)\n",
        "  x = x // 2"
      ],
      "metadata": {
        "id": "1eP7_RLPkbrZ"
      },
      "execution_count": null,
      "outputs": []
    },
    {
      "cell_type": "code",
      "source": [
        "n = 20\n",
        "for i in range(1, n):\n",
        "  x = i\n",
        "  while x >= 1:\n",
        "    print(x)\n",
        "    x = x // 2"
      ],
      "metadata": {
        "id": "ROlfeKZAknuv"
      },
      "execution_count": null,
      "outputs": []
    },
    {
      "cell_type": "code",
      "source": [
        "x = 1\n",
        "n = 10\n",
        "while x <= n:\n",
        "  y = 1\n",
        "  while y <= n:\n",
        "    print(x * y)\n",
        "    y += 1\n",
        "  x += 1\n"
      ],
      "metadata": {
        "id": "gaiUVnGilLwv"
      },
      "execution_count": null,
      "outputs": []
    },
    {
      "cell_type": "code",
      "source": [
        "n = 10\n",
        "\n",
        "x = 1\n",
        "while x <= n:\n",
        "  y = 1\n",
        "  while y <= n:\n",
        "    z = 1\n",
        "    while z <= n:\n",
        "      print(x * y * z)\n",
        "      z += 1\n",
        "    y += 1\n",
        "  x += 1"
      ],
      "metadata": {
        "id": "XAy6PTawlywl"
      },
      "execution_count": null,
      "outputs": []
    }
  ]
}