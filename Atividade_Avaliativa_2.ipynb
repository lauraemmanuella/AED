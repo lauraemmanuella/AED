{
  "nbformat": 4,
  "nbformat_minor": 0,
  "metadata": {
    "colab": {
      "name": "Atividade Avaliativa 2.ipynb",
      "provenance": [],
      "collapsed_sections": [],
      "toc_visible": true,
      "authorship_tag": "ABX9TyPI5kljtCYmY/Qndbm+GxLd",
      "include_colab_link": true
    },
    "kernelspec": {
      "name": "python3",
      "display_name": "Python 3"
    },
    "language_info": {
      "name": "python"
    }
  },
  "cells": [
    {
      "cell_type": "markdown",
      "metadata": {
        "id": "view-in-github",
        "colab_type": "text"
      },
      "source": [
        "<a href=\"https://colab.research.google.com/github/lauraemmanuella/AED/blob/main/Atividade_Avaliativa_2.ipynb\" target=\"_parent\"><img src=\"https://colab.research.google.com/assets/colab-badge.svg\" alt=\"Open In Colab\"/></a>"
      ]
    },
    {
      "cell_type": "markdown",
      "source": [
        "# Atividade Avaliativa 2\n",
        "\n",
        "Ajuste o código da lista dinâmica encadeada e faça uma pilha e uma fila, conforme as instruções a seguir.\n",
        "\n",
        "Observe que alguns métodos da ListaDE poderão ser removidos.\n",
        "\n",
        "Se tiverem dúvidas de como as estruturas devem funcionar, olhem as animações do site: https://visualgo.net/en/list"
      ],
      "metadata": {
        "id": "oL0uH8wq76dn"
      }
    },
    {
      "cell_type": "markdown",
      "source": [
        "## Lista Dinâmica Encadeada"
      ],
      "metadata": {
        "id": "GqI-u0Ra8wJy"
      }
    },
    {
      "cell_type": "code",
      "execution_count": null,
      "metadata": {
        "id": "95lbFKOr73qi"
      },
      "outputs": [],
      "source": [
        "class Node:\n",
        "  def __init__(self, value):\n",
        "    self.data = value\n",
        "    self.next = None\n",
        "\n",
        "  def getData(self):\n",
        "    return self.data\n",
        "\n",
        "  def getNext(self):\n",
        "    return self.next\n",
        "\n",
        "  def setData(self,newdata):\n",
        "    self.data = newdata\n",
        "\n",
        "  def setNext(self,newnext):\n",
        "    self.next = newnext\n",
        "\n",
        "  def __repr__(self):\n",
        "    return f'{self.data} -> {self.next}'\n",
        "\n",
        "class ListaDE:\n",
        "\n",
        "  def __init__(self):\n",
        "    self.head = None\n",
        "    self.tail = None\n",
        "\n",
        "  def isEmpty(self):\n",
        "    return self.head == None\n",
        "  \n",
        "  def size(self):\n",
        "    current = self.head\n",
        "    count = 0\n",
        "    while current != None:\n",
        "      count = count + 1\n",
        "      current = current.getNext()\n",
        "    return count\n",
        "\n",
        "  def search(self,item):\n",
        "    current = self.head\n",
        "    found = False\n",
        "    while current != None and not found:\n",
        "      if current.getData() == item:\n",
        "        found = True\n",
        "      else:\n",
        "        current = current.getNext()\n",
        "    return found\n",
        "\n",
        "  #insere no final da lista\n",
        "  def append(self,item):\n",
        "    new = Node(item) #criamos o nó do novo elemento\n",
        "    if self.head == None: #se lista vazia\n",
        "      self.head = self.tail = new #se for o primeiro elemento, cabeça e cauda apontam para ele\n",
        "    else: #se lista não estiver vazia\n",
        "      self.tail.setNext(new) #o que era o ultimo, passa a apontar para o novo elemento\n",
        "      self.tail = new #A cauda passa a apontar para o novo elemento\n",
        "  \n",
        "  #insere item em uma posição definida (index)\n",
        "  def insert(self, index, item):\n",
        "    #se o index for maior que os índices usados até então, insere na próxima posição (append)\n",
        "    if index >= self.size():\n",
        "      self.append(item)\n",
        "    else:\n",
        "      new = Node(item) # cria o nó\n",
        "      if index == 0: #se for para inserir na cabeça\n",
        "        new.setNext(self.head) #o new passa a apontar para a cabeça atual\n",
        "        self.head = new #a cabeça passa a ser o new\n",
        "      else: #percorrerá a lista até que o current seja o elemento anterior ao index desejado \n",
        "        current = self.head #começa da cabeça\n",
        "        count = 1 #count é 1, pois já testamos o index 0 no if\n",
        "        while count < index: #enquanto não chegar no índice desejado\n",
        "          current = current.getNext() #vai para o próximo\n",
        "          count = count + 1\n",
        "        #Quando o while termina, o current é o elemento anterior ao index\n",
        "        new.setNext(current.getNext()) #new passa a apontar para o elemento que está na posição index\n",
        "        current.setNext(new) #o elemento anterior ao index (current) passa a apontar para o new\n",
        "\n",
        "  def remove(self,item):\n",
        "    current = self.head\n",
        "    previous = None\n",
        "    found = False\n",
        "    while current != None and not found:\n",
        "      if current.getData() == item:\n",
        "        found = True\n",
        "      else:\n",
        "        previous = current\n",
        "        current = current.getNext()\n",
        "    if not found:\n",
        "      print('Elemento não encontrado')\n",
        "    else: \n",
        "      if previous == None:\n",
        "        self.head = current.getNext()\n",
        "      else:\n",
        "        previous.setNext(current.getNext())\n",
        "\n",
        "  def __repr__(self):\n",
        "    out = ''\n",
        "    current = self.head\n",
        "    while current != None:\n",
        "      out = out + ' ' + str(current.getData())\n",
        "      current = current.getNext()\n",
        "    return out"
      ]
    },
    {
      "cell_type": "markdown",
      "source": [
        "## Pilha\n",
        "\n",
        "A pilha terá os métodos:\n",
        "* __init__ que inicializa a pilha vazia\n",
        "* **push()**que insere no topo (começo)\n",
        "* **pop()** que retira do topo (começo, retornando o elemento)\n",
        "* **size()** que retorna a quantidade de elementos\n",
        "* **isEmpty()** que retorna True, se a pilha estiver vazia\n",
        "* **clear()** limpa a pilha\n",
        "* __repr__ que mostra os elementos da pilha"
      ],
      "metadata": {
        "id": "DcyYoIEP8OF3"
      }
    },
    {
      "cell_type": "code",
      "source": [
        "#seu código aqui\n",
        "\n"
      ],
      "metadata": {
        "id": "bkeETLv58YUh"
      },
      "execution_count": null,
      "outputs": []
    },
    {
      "cell_type": "markdown",
      "source": [
        "## Fila\n",
        "\n",
        "A fila terá os métodos:\n",
        "* __init__ que inicializa a fila vazia\n",
        "* **enqueue()** que insere no final da fila\n",
        "* **dequeue()** que retira do início da fila (retornando o elemento)\n",
        "* **size()** que retorna a quantidade de elementos\n",
        "* **isEmpty()** que retorna True, se a fila estiver vazia\n",
        "* **clear()** limpa a fila\n",
        "* __repr__ que mostra os elementos da fila"
      ],
      "metadata": {
        "id": "LRVbt13v8Yw8"
      }
    },
    {
      "cell_type": "code",
      "source": [
        "#seu código aqui\n",
        "\n"
      ],
      "metadata": {
        "id": "shj6voIo-aeM"
      },
      "execution_count": null,
      "outputs": []
    }
  ]
}